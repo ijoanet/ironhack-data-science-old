{
 "cells": [
  {
   "cell_type": "markdown",
   "id": "bottom-commerce",
   "metadata": {},
   "source": [
    "# Map, Filter, Reduce\n",
    "\n",
    "En el mundo de la programación, la transformación de datos es una habilidad fundamental. Ya sea que estés tratando con listas, arrays u otra estructura de datos, a menudo necesitas realizar operaciones sobre los datos para extraer insights significativos o manipularlos para diversos fines.\n",
    "\n",
    "\"Mapa, Filtro, Reducción\" son tres técnicas poderosas que pueden ayudarte a optimizar tus tareas de manipulación de datos. Estos métodos te permiten:\n",
    "\n",
    "- **Mapa:** Aplicar una función dada a cada elemento en una colección (por ejemplo, una lista) y devolver los resultados como una nueva colección.\n",
    "- **Filtro:** Seleccionar elementos de una colección que cumplan con una condición especificada, creando una nueva colección que contiene solo los elementos que coinciden.\n",
    "- **Reducción:** Combinar elementos de una colección en un solo valor aplicando una función dada de manera acumulativa.\n",
    "\n",
    "En este cuaderno, exploraremos estas técnicas en profundidad, proporcionando ejemplos prácticos y escenarios del mundo real donde \"Mapa, Filtro, Reducción\" pueden simplificar en gran medida tu código. Ya seas un principiante o un desarrollador experimentado, dominar estas técnicas te hará más eficiente y efectivo en las tareas de manipulación de datos.\n",
    "\n",
    "¡Comencemos y desbloqueemos el potencial completo de \"Mapa, Filtro, Reducción\"!"
   ]
  },
  {
   "cell_type": "markdown",
   "id": "rising-buyer",
   "metadata": {
    "toc": true
   },
   "source": [
    "<h1>Table of Contents<span class=\"tocSkip\"></span></h1>\n",
    "<div class=\"toc\"><ul class=\"toc-item\"><li><ul class=\"toc-item\"><li><span><a href=\"#Each-student-is-randomly-assigned-a-topic\" data-toc-modified-id=\"Each-student-is-randomly-assigned-a-topic-0.1\"><span class=\"toc-item-num\">0.1&nbsp;&nbsp;</span>Each student is randomly assigned a topic</a></span></li></ul></li><li><span><a href=\"#Let's-start\" data-toc-modified-id=\"Let's-start-1\"><span class=\"toc-item-num\">1&nbsp;&nbsp;</span>Let's start</a></span><ul class=\"toc-item\"><li><span><a href=\"#Create-groups-with-other-people-who-have-studied-the-same-function\" data-toc-modified-id=\"Create-groups-with-other-people-who-have-studied-the-same-function-1.1\"><span class=\"toc-item-num\">1.1&nbsp;&nbsp;</span>Create groups with other people who have studied the same function</a></span></li></ul></li><li><span><a href=\"#Map,-Filter,-Reduce\" data-toc-modified-id=\"Map,-Filter,-Reduce-2\"><span class=\"toc-item-num\">2&nbsp;&nbsp;</span>Map, Filter, Reduce</a></span><ul class=\"toc-item\"><li><span><a href=\"#Map\" data-toc-modified-id=\"Map-2.1\"><span class=\"toc-item-num\">2.1&nbsp;&nbsp;</span>Map</a></span><ul class=\"toc-item\"><li><span><a href=\"#First-we-do-it-with-functions\" data-toc-modified-id=\"First-we-do-it-with-functions-2.1.1\"><span class=\"toc-item-num\">2.1.1&nbsp;&nbsp;</span>First we do it with functions</a></span></li><li><span><a href=\"#Extra:-Do-it-with-lambda!\" data-toc-modified-id=\"Extra:-Do-it-with-lambda!-2.1.2\"><span class=\"toc-item-num\">2.1.2&nbsp;&nbsp;</span>Extra: Do it with lambda!</a></span></li></ul></li><li><span><a href=\"#Filter\" data-toc-modified-id=\"Filter-2.2\"><span class=\"toc-item-num\">2.2&nbsp;&nbsp;</span>Filter</a></span><ul class=\"toc-item\"><li><span><a href=\"#First-we-do-it-with-functions\" data-toc-modified-id=\"First-we-do-it-with-functions-2.2.1\"><span class=\"toc-item-num\">2.2.1&nbsp;&nbsp;</span>First we do it with functions</a></span></li><li><span><a href=\"#Extra:-Do-it-with-lambda!\" data-toc-modified-id=\"Extra:-Do-it-with-lambda!-2.2.2\"><span class=\"toc-item-num\">2.2.2&nbsp;&nbsp;</span>Extra: Do it with lambda!</a></span></li></ul></li><li><span><a href=\"#Reduce\" data-toc-modified-id=\"Reduce-2.3\"><span class=\"toc-item-num\">2.3&nbsp;&nbsp;</span>Reduce</a></span><ul class=\"toc-item\"><li><span><a href=\"#What-happened?\" data-toc-modified-id=\"What-happened?-2.3.1\"><span class=\"toc-item-num\">2.3.1&nbsp;&nbsp;</span>What happened?</a></span></li></ul></li><li><span><a href=\"#First-we-do-it-with-functions\" data-toc-modified-id=\"First-we-do-it-with-functions-2.4\"><span class=\"toc-item-num\">2.4&nbsp;&nbsp;</span>First we do it with functions</a></span></li><li><span><a href=\"#Bonus:-Do-it-with-lambda!\" data-toc-modified-id=\"Bonus:-Do-it-with-lambda!-2.5\"><span class=\"toc-item-num\">2.5&nbsp;&nbsp;</span>Bonus: Do it with lambda!</a></span></li></ul></li><li><span><a href=\"#Summary\" data-toc-modified-id=\"Summary-3\"><span class=\"toc-item-num\">3&nbsp;&nbsp;</span>Summary</a></span></li><li><span><a href=\"#Further-materials\" data-toc-modified-id=\"Further-materials-4\"><span class=\"toc-item-num\">4&nbsp;&nbsp;</span>Further materials</a></span></li></ul></div>"
   ]
  },
  {
   "cell_type": "markdown",
   "id": "07c5496e",
   "metadata": {
    "lang": "en"
   },
   "source": [
    "### A cada estudiante se le asigna aleatoriamente un tema\n",
    "En este ejercicio, formarás dos grupos aleatorios de estudiantes, y cada grupo explorará uno de los conceptos fundamentales en Python: mapa, reducir o filtrar. Tu tarea es comprender estos conceptos a fondo y preparar una explicación clara para compartir con la clase."
   ]
  },
  {
   "cell_type": "code",
   "execution_count": null,
   "id": "161d63c9",
   "metadata": {},
   "outputs": [],
   "source": [
    "import random\n",
    "from typing import List, Tuple\n",
    "\n",
    "def assign_students_to_groups(students: List[str], roles: List[str], num_groups: int) -> List[List[Tuple[str, str]]]:\n",
    "    \"\"\"\n",
    "    Assign students to groups randomly, each with a specified role.\n",
    "\n",
    "    Args:\n",
    "    - students (List[str]): A list of student names.\n",
    "    - roles (List[str]): A list of roles to assign to students.\n",
    "    - num_groups (int): The number of groups to create.\n",
    "\n",
    "    Returns:\n",
    "    - List[List[Tuple[str, str]]]: A list of groups, where each group is a list of tuples.\n",
    "      Each tuple contains a student's name and their assigned role.\n",
    "    \"\"\"\n",
    "    # Shuffle the list of students randomly\n",
    "    random.shuffle(students)\n",
    "    \n",
    "    # Divide the students into groups\n",
    "    groups = [[] for _ in range(num_groups)]\n",
    "    \n",
    "    for i, student in enumerate(students):\n",
    "        group_index = i % num_groups\n",
    "        role = roles[i % len(roles)]\n",
    "        groups[group_index].append((student, role))\n",
    "    \n",
    "    return groups"
   ]
  },
  {
   "cell_type": "code",
   "execution_count": null,
   "id": "8e97a7ba",
   "metadata": {},
   "outputs": [],
   "source": [
    "# What happens, if I click run? (Functions spoiler alert)\n",
    "help(assign_students_to_groups)"
   ]
  },
  {
   "cell_type": "code",
   "execution_count": null,
   "id": "91b5081e",
   "metadata": {},
   "outputs": [],
   "source": [
    "# List of students\n",
    "students = [\"Sara\", \"Glennys\", \"Alex\", \"Adrían\", \"Andrés\", \"Marta\"]\n",
    "\n",
    "# List of roles\n",
    "roles = [\"map\", \"filter\", \"reduce\"]\n",
    "\n",
    "# Number of groups\n",
    "num_groups = 2\n",
    "\n",
    "# Assign students to groups\n",
    "groups = assign_students_to_groups(students, roles, num_groups)\n",
    "\n",
    "# Print the groups\n",
    "for i, group in enumerate(groups, start=1):\n",
    "    print(f\"Group {i}: {group}\")"
   ]
  },
  {
   "cell_type": "markdown",
   "id": "67ba83fd",
   "metadata": {
    "lang": "en"
   },
   "source": [
    "## Empecemos\n",
    "\n",
    "Tienes 10 minutos para explorar y comprender el rol que te ha sido asignado por tu cuenta. Puedes encontrar útiles estos enlaces:\n",
    "\n",
    "- [map, filter, reduce - I](https://medium.com/swlh/higher-order-functions-in-python-map-filter-and-reduce-34299fee1b21)\n",
    "- [map, filter, reduce - II](https://www.learnpython.org/en/Map,_Filter,_Reduce)\n",
    "- [map, filter, reduce - III](https://stackabuse.com/map-filter-and-reduce-in-python-with-examples)\n",
    "\n",
    "### Crea grupos con otras personas que hayan estudiado la misma función\n",
    "\n",
    "![otrogif](https://media.giphy.com/media/UatRnEUNX8iCQ/giphy.gif)\n",
    "\n",
    "## Map, Filter, Reduce\n",
    "\n",
    "Hay tres funciones que serán muy útiles al trabajar con iteradores. Estas funciones facilitan ciertas operaciones básicas y comunes en colecciones iterables de datos, como eliminar elementos que no cumplen con una cierta condición, calcular un resultado a partir de los datos contenidos, o aplicar una transformación a cada elemento. Veámoslos con ejemplos de uso:\n",
    "\n",
    "### Map\n",
    "\n",
    "La función map() toma una función y una lista y aplica esa función a cada elemento de esa lista, produciendo una nueva lista.\n",
    "```python\n",
    "map(funcion_a_aplicar, lista_de_entradas)\n",
    "\n",
    "```\n",
    "\n",
    "- función\n",
    "    - hace cosas: combina iterables, puede combinar\n",
    "    - puede ser una\n",
    "    - les dice qué hacer\n",
    "    \n",
    "    - como un bucle for: toma iterables y funciones\n",
    "    - devuelve un objeto map\n",
    "    - que puedes convertir en una lista\n",
    "    \n",
    "`objetivo: cuadrado de números`\n",
    "\n",
    "#### Primero lo hacemos con funciones\n",
    "\n",
    "La función map devuelve un iterador, así que tenemos que usar `list(iterador_map)`"
   ]
  },
  {
   "cell_type": "code",
   "execution_count": null,
   "id": "c438a51a",
   "metadata": {
    "scrolled": true
   },
   "outputs": [],
   "source": []
  },
  {
   "cell_type": "markdown",
   "id": "b0fd2478",
   "metadata": {
    "lang": "en"
   },
   "source": [
    "### Filter\n",
    "\n",
    "The filter() function filters a list of items for which a function returns True.\n",
    "```python\n",
    "filter(a_function, a_list)\n",
    "```\n",
    "La función filter() filtra una lista de elementos para los cuales una función devuelve True."
   ]
  },
  {
   "cell_type": "code",
   "execution_count": null,
   "id": "3d3129d4",
   "metadata": {},
   "outputs": [],
   "source": [
    "#filter_experts"
   ]
  },
  {
   "cell_type": "markdown",
   "id": "1df16233",
   "metadata": {
    "lang": "en"
   },
   "source": [
    "#### Primero lo hacemos con funciones"
   ]
  },
  {
   "cell_type": "code",
   "execution_count": null,
   "id": "630ee78a",
   "metadata": {},
   "outputs": [],
   "source": []
  },
  {
   "cell_type": "markdown",
   "id": "24d5f21b",
   "metadata": {
    "lang": "en"
   },
   "source": [
    "Imagina que quieres filtrar una lista y mantener solo los grupos que comienzan con la letra R."
   ]
  },
  {
   "cell_type": "code",
   "execution_count": null,
   "id": "7ce695c1",
   "metadata": {},
   "outputs": [],
   "source": []
  },
  {
   "cell_type": "markdown",
   "id": "9b923a35",
   "metadata": {
    "lang": "en"
   },
   "source": [
    "### Reduce"
   ]
  },
  {
   "cell_type": "markdown",
   "id": "5e2eb96a",
   "metadata": {
    "lang": "en"
   },
   "source": [
    "Esta función no es una función integrada, lo que significa que primero debes importar la biblioteca functools para su uso. La función reduce() aplica acumulativamente la función f() a los elementos del iterable. El acumulador puede inicializarse con un tercer argumento opcional. El resultado es el valor final del acumulador.\n",
    "\n",
    "```python\n",
    "reduce(funcion, iterable[, inicial])\n",
    "\n",
    "```"
   ]
  },
  {
   "cell_type": "code",
   "execution_count": null,
   "id": "c731b8db",
   "metadata": {},
   "outputs": [],
   "source": [
    "#random.choice(reduce_experts)"
   ]
  },
  {
   "cell_type": "code",
   "execution_count": null,
   "id": "408b7fe6",
   "metadata": {},
   "outputs": [],
   "source": [
    "from functools import reduce "
   ]
  },
  {
   "cell_type": "markdown",
   "id": "54940f3b",
   "metadata": {},
   "source": [
    "- un valor final\n",
    "- dos argumentos:\n",
    "    - 1.º: función\n",
    "    - 2.º: objeto iterado\n",
    "    - necesita ser importado\n",
    "    - flujo:\n",
    "        - primer elemento: aplicar función -> un valor\n",
    "        - un valor: aplicar función -> otro valor\n",
    "        - otro valor: aplicar función -> último resultado\n",
    "        - devolver último resultado\n",
    "    - argumento opcional: inicial: primer valor con el que quieres comenzar"
   ]
  },
  {
   "cell_type": "code",
   "execution_count": null,
   "id": "5600b022",
   "metadata": {},
   "outputs": [],
   "source": []
  },
  {
   "cell_type": "markdown",
   "id": "be41def2",
   "metadata": {
    "lang": "en"
   },
   "source": [
    "⚠️ Reducir es un poco más complicado de entender que map() y filter(), así que vamos a seguir el siguiente ejemplo ⚠️"
   ]
  },
  {
   "cell_type": "code",
   "execution_count": null,
   "id": "52fcf783",
   "metadata": {},
   "outputs": [],
   "source": [
    "from functools import reduce\n",
    "\n",
    "# Definir una lista de números para la cual queremos calcular el producto.\n",
    "números = [1, 2, 3, 4, 5]\n",
    "\n",
    "# Crear una función que toma dos argumentos y devuelve su producto.\n",
    "# Usaremos esta función como el \"acumulador\" en reduce().\n",
    "# La función reduce() aplicará esta función acumulativamente a los elementos de la lista.\n",
    "def multiplicar(x, y):\n",
    "    return x * y\n",
    "\n",
    "# Usar la función reduce() para calcular el producto de todos los números en la lista.\n",
    "# Pasar la función multiplicar y la lista de números como argumentos a reduce().\n",
    "producto = reduce(multiplicar, números)\n",
    "\n",
    "# Imprimir el resultado\n",
    "print(producto)  # Salida: 120"
   ]
  },
  {
   "cell_type": "markdown",
   "id": "9bcc559e",
   "metadata": {
    "lang": "en"
   },
   "source": [
    "#### ¿Qué sucedió?\n",
    "- Comenzamos con una lista [1, 2, 3, 4, 5] y pasamos la función multiply(x, y) a reduce() junto con esta lista, sin un valor inicial.\n",
    "\n",
    "- reduce() llama a multiply(1, 2), y multiply() devuelve 2.\n",
    "\n",
    "- Toma el resultado (2) y el siguiente elemento de la lista (3).\n",
    "\n",
    "- Aplica la función multiply de nuevo: 2 * 3 = 6.\n",
    "\n",
    "- Continúa este proceso hasta que todos los elementos en la lista hayan sido procesados.\n",
    "\n",
    "Dado que no quedan más elementos en la secuencia, reduce() devuelve 16."
   ]
  },
  {
   "cell_type": "markdown",
   "id": "04ecdfe8",
   "metadata": {
    "lang": "en"
   },
   "source": [
    "Factorial:\n",
    "Cantidad que resulta de la multiplicación de un cierto número natural por todos los números naturales que le preceden, excluyendo el cero; se representa por n!"
   ]
  },
  {
   "cell_type": "markdown",
   "id": "0334080d",
   "metadata": {
    "lang": "en"
   },
   "source": [
    "### Primero con funciones"
   ]
  },
  {
   "cell_type": "code",
   "execution_count": null,
   "id": "electrical-knitting",
   "metadata": {},
   "outputs": [],
   "source": []
  },
  {
   "cell_type": "markdown",
   "id": "d678c6ca",
   "metadata": {
    "lang": "en"
   },
   "source": [
    "### Bonus: Hazlo con lambda!"
   ]
  },
  {
   "cell_type": "markdown",
   "id": "69ae8c39",
   "metadata": {
    "lang": "en"
   },
   "source": [
    "## Resumen"
   ]
  },
  {
   "cell_type": "code",
   "execution_count": null,
   "id": "73bd382a",
   "metadata": {},
   "outputs": [],
   "source": []
  },
  {
   "cell_type": "markdown",
   "id": "jewish-configuration",
   "metadata": {},
   "source": [
    "## Further materials\n",
    "http://web.mit.edu/6.005/www/sp16/classes/25-map-filter-reduce/    \n"
   ]
  }
 ],
 "metadata": {
  "kernelspec": {
   "display_name": "Python 3 (ipykernel)",
   "language": "python",
   "name": "python3"
  },
  "language_info": {
   "codemirror_mode": {
    "name": "ipython",
    "version": 3
   },
   "file_extension": ".py",
   "mimetype": "text/x-python",
   "name": "python",
   "nbconvert_exporter": "python",
   "pygments_lexer": "ipython3",
   "version": "3.9.13"
  },
  "nbTranslate": {
   "displayLangs": [
    "en",
    "es"
   ],
   "hotkey": "alt-a",
   "langInMainMenu": true,
   "sourceLang": "es",
   "targetLang": "en",
   "useGoogleTranslate": true
  },
  "toc": {
   "base_numbering": 1,
   "nav_menu": {},
   "number_sections": true,
   "sideBar": true,
   "skip_h1_title": true,
   "title_cell": "Table of Contents",
   "title_sidebar": "Contents",
   "toc_cell": true,
   "toc_position": {
    "height": "calc(100% - 180px)",
    "left": "10px",
    "top": "150px",
    "width": "266px"
   },
   "toc_section_display": true,
   "toc_window_display": false
  }
 },
 "nbformat": 4,
 "nbformat_minor": 5
}
