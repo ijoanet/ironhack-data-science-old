{
 "cells": [
  {
   "cell_type": "markdown",
   "metadata": {
    "toc": true
   },
   "source": [
    "<h1>Table of Contents<span class=\"tocSkip\"></span></h1>\n",
    "<div class=\"toc\"><ul class=\"toc-item\"><li><span><a href=\"#What-is-the-Terminal?\" data-toc-modified-id=\"What-is-the-Terminal?-1\"><span class=\"toc-item-num\">1&nbsp;&nbsp;</span>What is the Terminal?</a></span></li><li><span><a href=\"#Bash\" data-toc-modified-id=\"Bash-2\"><span class=\"toc-item-num\">2&nbsp;&nbsp;</span>Bash</a></span></li><li><span><a href=\"#Intro\" data-toc-modified-id=\"Intro-3\"><span class=\"toc-item-num\">3&nbsp;&nbsp;</span>Intro</a></span></li><li><span><a href=\"#Basic-commands\" data-toc-modified-id=\"Basic-commands-4\"><span class=\"toc-item-num\">4&nbsp;&nbsp;</span>Basic commands</a></span><ul class=\"toc-item\"><li><span><a href=\"#Getting-info\" data-toc-modified-id=\"Getting-info-4.1\"><span class=\"toc-item-num\">4.1&nbsp;&nbsp;</span>Getting info</a></span></li><li><span><a href=\"#Navigating-your-own-system\" data-toc-modified-id=\"Navigating-your-own-system-4.2\"><span class=\"toc-item-num\">4.2&nbsp;&nbsp;</span>Navigating your own system</a></span></li><li><span><a href=\"#Creating-files\" data-toc-modified-id=\"Creating-files-4.3\"><span class=\"toc-item-num\">4.3&nbsp;&nbsp;</span>Creating files</a></span><ul class=\"toc-item\"><li><span><a href=\"#Create,-edit,-explore\" data-toc-modified-id=\"Create,-edit,-explore-4.3.1\"><span class=\"toc-item-num\">4.3.1&nbsp;&nbsp;</span>Create, edit, explore</a></span></li></ul></li></ul></li><li><span><a href=\"#MINI---RECAP\" data-toc-modified-id=\"MINI---RECAP-5\"><span class=\"toc-item-num\">5&nbsp;&nbsp;</span>MINI - RECAP</a></span><ul class=\"toc-item\"><li><span><a href=\"#Previewing-files\" data-toc-modified-id=\"Previewing-files-5.1\"><span class=\"toc-item-num\">5.1&nbsp;&nbsp;</span>Previewing files</a></span></li><li><span><a href=\"#Editing-files\" data-toc-modified-id=\"Editing-files-5.2\"><span class=\"toc-item-num\">5.2&nbsp;&nbsp;</span>Editing files</a></span></li><li><span><a href=\"#Aliases\" data-toc-modified-id=\"Aliases-5.3\"><span class=\"toc-item-num\">5.3&nbsp;&nbsp;</span>Aliases</a></span><ul class=\"toc-item\"><li><span><a href=\"#On-macOS\" data-toc-modified-id=\"On-macOS-5.3.1\"><span class=\"toc-item-num\">5.3.1&nbsp;&nbsp;</span>On macOS</a></span></li><li><span><a href=\"#On-windows\" data-toc-modified-id=\"On-windows-5.3.2\"><span class=\"toc-item-num\">5.3.2&nbsp;&nbsp;</span>On windows</a></span></li></ul></li><li><span><a href=\"#Scripting\" data-toc-modified-id=\"Scripting-5.4\"><span class=\"toc-item-num\">5.4&nbsp;&nbsp;</span>Scripting</a></span><ul class=\"toc-item\"><li><span><a href=\"#Logic\" data-toc-modified-id=\"Logic-5.4.1\"><span class=\"toc-item-num\">5.4.1&nbsp;&nbsp;</span>Logic</a></span></li></ul></li><li><span><a href=\"#Loops,-conditionals-and-functions\" data-toc-modified-id=\"Loops,-conditionals-and-functions-5.5\"><span class=\"toc-item-num\">5.5&nbsp;&nbsp;</span>Loops, conditionals and functions</a></span><ul class=\"toc-item\"><li><span><a href=\"#For\" data-toc-modified-id=\"For-5.5.1\"><span class=\"toc-item-num\">5.5.1&nbsp;&nbsp;</span>For</a></span></li><li><span><a href=\"#start-stop-step\" data-toc-modified-id=\"start-stop-step-5.5.2\"><span class=\"toc-item-num\">5.5.2&nbsp;&nbsp;</span>start-stop-step</a></span></li><li><span><a href=\"#infinite-loop\" data-toc-modified-id=\"infinite-loop-5.5.3\"><span class=\"toc-item-num\">5.5.3&nbsp;&nbsp;</span>infinite loop</a></span></li><li><span><a href=\"#while\" data-toc-modified-id=\"while-5.5.4\"><span class=\"toc-item-num\">5.5.4&nbsp;&nbsp;</span>while</a></span></li><li><span><a href=\"#conditional\" data-toc-modified-id=\"conditional-5.5.5\"><span class=\"toc-item-num\">5.5.5&nbsp;&nbsp;</span>conditional</a></span></li><li><span><a href=\"#function\" data-toc-modified-id=\"function-5.5.6\"><span class=\"toc-item-num\">5.5.6&nbsp;&nbsp;</span>function</a></span></li></ul></li><li><span><a href=\"#Bash-scripts\" data-toc-modified-id=\"Bash-scripts-5.6\"><span class=\"toc-item-num\">5.6&nbsp;&nbsp;</span>Bash scripts</a></span></li><li><span><a href=\"#More-Stuff\" data-toc-modified-id=\"More-Stuff-5.7\"><span class=\"toc-item-num\">5.7&nbsp;&nbsp;</span>More Stuff</a></span><ul class=\"toc-item\"><li><span><a href=\"#Examples\" data-toc-modified-id=\"Examples-5.7.1\"><span class=\"toc-item-num\">5.7.1&nbsp;&nbsp;</span>Examples</a></span></li></ul></li><li><span><a href=\"#RECAP\" data-toc-modified-id=\"RECAP-5.8\"><span class=\"toc-item-num\">5.8&nbsp;&nbsp;</span>RECAP</a></span><ul class=\"toc-item\"><li><span><a href=\"#References\" data-toc-modified-id=\"References-5.8.1\"><span class=\"toc-item-num\">5.8.1&nbsp;&nbsp;</span>References</a></span></li></ul></li><li><span><a href=\"#Games-in-bash:\" data-toc-modified-id=\"Games-in-bash:-5.9\"><span class=\"toc-item-num\">5.9&nbsp;&nbsp;</span>Games in bash:</a></span></li></ul></li></ul></div>"
   ]
  },
  {
   "cell_type": "markdown",
   "metadata": {},
   "source": [
    "![elgif](https://media.giphy.com/media/f9k1tV7HyORcngKF8v/giphy.gif)"
   ]
  },
  {
   "cell_type": "markdown",
   "metadata": {},
   "source": [
    "## ¿Qué es la Terminal?\n",
    "\n",
    "La terminal es una forma de interactuar con nuestro ordenador, pero en lugar de hacerlo a través de iconos y movimientos de ratón, como estás acostumbrado a hacer (y eso es lo que conocemos como GUI (Interfaz Gráfica de Usuario)), esas interacciones se realizan con líneas de comandos. Y por eso la terminal es una CLI (Interfaz de Línea de Comandos).\n",
    "\n",
    "En el caso de la terminal, muchos términos se utilizan indistintamente: bash, shell, zsh, iTerm, etc. Es decir, todos estos son \"programas\". Aunque no vamos a profundizar en ello.\n",
    "\n",
    "Tanto si eres usuario de macOS 🍎 como de Linux 🐧, la terminal que utilizarás usará el lenguaje Bash.\n",
    "\n",
    "En Windows 🪟, sin embargo, las cosas son un poco diferentes. La CLI de Windows, también conocida como cmd.exe o Símbolo del sistema es diferente, aunque comparte muchas similitudes en la sintaxis, también hay muchas incompatibilidades.\n",
    "\n",
    "Por ejemplo, el comando `ls` utilizado tanto en mac como en Linux es equivalente al `dir` en cmd.exe\n",
    "\n",
    "Pero no temáis, los usuarios de Windows pueden tener el mismo programa con algunas opciones diferentes como Git BASH, o instalar WSL (Subsistema de Windows para Linux) con el programa Hyper como terminal.\n",
    "\n",
    "No nos dejemos engañar por su antigüedad y estética simple. Aunque te parezca sacado del mundo de Matrix... la terminal es una tecnología muy concisa que sigue estando muy actualizada.\n",
    "\n",
    "## Bash\n",
    "\n",
    "¿Qué es bash? Bash es un intérprete de comandos que ejecuta, uno por uno, las instrucciones introducidas por el usuario o contenidas en un script y devuelve los resultados.\n",
    "\n",
    "Por otro lado, Bash no es una terminal. Tampoco es el único shell disponible. De hecho, podemos ver los shells disponibles en nuestra máquina mirando el contenido del archivo /etc/shells. Si lo consideramos necesario, podemos asignar a los usuarios comunes algo diferente (aparte de Bash). De esta manera podemos restringir el alcance de lo que pueden hacer usando la línea de comandos. Por supuesto, es el administrador quien decide esto. También existe ZSH, otra forma de terminal:\n",
    "\n",
    "ZSH, también llamado Z shell, es una versión extendida del Bourne Shell (sh), con muchas características nuevas y soporte para plugins y temas. Dado que se basa en el mismo shell que Bash, ZSH tiene muchas de las mismas características. Empezar a usarlo es muy sencillo.\n",
    "\n",
    "https://github.com/ohmyzsh/ohmyzsh/wiki/Installing-ZSH"
   ]
  },
  {
   "cell_type": "markdown",
   "metadata": {},
   "source": [
    "## Introducción\n",
    "- GUI: Interfaz Gráfica de Usuario: interacción usuario-máquina a través de gráficos, iconos, imágenes, textos.\n",
    "- CLI: Interfaz de Línea de Comandos: interacción usuario-máquina a través de comandos de texto.\n",
    "\n",
    "CLIs:\n",
    "\n",
    "- Mac, Linux: shell UNIX\n",
    "- Windows: Git-Bash\n",
    "\n",
    "Sinónimos de CLI:\n",
    "\n",
    "- shell\n",
    "- consola\n",
    "- terminal\n",
    "\n",
    "Una terminal es útil para:\n",
    "\n",
    "- Conexiones SSH (Secure Shell): SSH es un protocolo criptográfico para operar de manera segura en redes inseguras.\n",
    "- Crear pequeños programas.\n",
    "- Gestionar servidores.\n",
    "- Pretender que eres un programador genial.\n",
    "- Disfrutar de permisos de administrador. (¡Con cuidado!)\n",
    "- En general, gestionar tu ordenador más rápidamente."
   ]
  },
  {
   "cell_type": "markdown",
   "metadata": {},
   "source": [
    "## Comandos Básicos\n",
    "\n",
    "### Obtener información\n",
    "\n",
    "La sintaxis general para los comandos de bash es: `comando [opciones] [argumentos]` <br>\n",
    "¡Algunos comandos REQUIEREN opciones y/o argumentos!<br>\n",
    "Además...<br>\n",
    "\n",
    "Puedes usar la tecla `<TAB>` para la autocompletación.<br>\n",
    "\n",
    "`bash --version`: versión de bash\n",
    "- `man`: manual\n",
    "- `help`: manual #windows\n",
    "Consejo: para salir del comando man: presiona q\n",
    "para git bash: `ls --help`\n",
    "- `date`: fecha\n",
    "- `cal`: calendario #windows ?\n",
    "- `-help`: obtienes más información útil\n",
    "- `whoami`: usuario actual\n",
    "- `pwd`: imprime el directorio actual\n",
    "- `clear`: limpia la terminal\n",
    "- `echo`: imprimir en pantalla\n",
    "\n",
    "### Navegando por tu sistema\n",
    "\n",
    "- `echo -n`: misma línea (evita línea nueva)\n",
    "- `cd`: cambiar de directorio (al raíz)\n",
    "- `cd [argumento]`: cambia a otro directorio\n",
    "- `cd ..`: sube un nivel\n",
    "- `ls`: lista de archivos dentro de esa ubicación\n",
    "- `ls -a`: todos los archivos, incluidos los ocultos\n",
    "- `ls -l`: lista larga\n",
    "- `ls -al`: ambos\n",
    "- `ls -als`: ambos con kb\n",
    "\n",
    "#### Crear, editar, explorar\n",
    "\n",
    "- `mkdir`: crea un directorio\n",
    "- `touch`: crea un archivo en blanco\n",
    "- `echo \"algo\" >> archivo`: añade a un archivo o crea el archivo si no existe.\n",
    "- `echo \"algo\" > archivo`: sobrescribe el archivo si existe o lo crea si no existe.\n",
    "- Abrir navegador de archivos\n",
    "    - `open .`: en MacOS; donde el punto significa \"ESTA\" ubicación\n",
    "    - `start .`: en windows\n",
    "    \n",
    "### Previsualizar archivos\n",
    "\n",
    "- `cat`: muestra el contenido del archivo\n",
    "- `head`: muestra el principio del archivo\n",
    "- `tail`: muestra el final del archivo\n",
    "- `wc`: cuenta líneas/palabras/caracteres \n",
    "\n",
    "## MINI - RECAPITULACIÓN\n",
    "\n",
    "- Terminal / Consola / Shell\n",
    "- Terminal / iTerm / git-bash: GUI\n",
    "- Bash\n",
    "\n",
    "- Bash: lenguaje. \n",
    "    - Sintaxis concreta\n",
    "    - comandos\n",
    "        - opciones: `ls -a`, `ls`\n",
    "        - argumentos: `cd Escritorio`, `mkdir nombre_carpeta`\n",
    "\n",
    "- NAVEGAR POR EL SISTEMA\n",
    "- GIT\n",
    "\n",
    "- Comandos comunes: \n",
    "    - pwd: saber dónde estoy\n",
    "    - ls: saber qué tengo\n",
    "    - clear\n",
    "    - mkdir: crear carpetas\n",
    "    - touch: crear archivos\n",
    "    - GIT\n",
    "    - ...\n",
    "    - open ./start .\n",
    "    - VsCode"
   ]
  },
  {
   "cell_type": "markdown",
   "metadata": {},
   "source": [
    "### Editando archivos\n",
    "\n",
    "Otra forma de editar archivos es utilizando el editor \"nano\". Aquí tienes algunos comandos [comandos](https://www.nano-editor.org/dist/latest/cheatsheet.html).\n",
    "\n",
    "- `nano`: edita el contenido del archivo y luego --> Ctrl + x: salir del editor\n",
    "- `mv`: mueve el archivo --> `mv archivo ubicación`\n",
    "- `cp`: copia el archivo\n",
    "- `rm`: elimina el archivo\n",
    "- `rm -r`: elimina el directorio\n",
    "- `find`: encuentra archivos <br>\n",
    "    El comando find tiene muchas opciones y parámetros...[consulta aquí](https://www.diskinternals.com/linux-reader/bash-find-command/)\n",
    "    ```bash\n",
    "    find . -name hello.txt\n",
    "    ```\n",
    "    \n",
    "- `grep`: busca en el texto\n",
    "\n",
    "    ```bash\n",
    "    grep \"hola\" hello.txt\n",
    "    ```\n",
    "\n",
    "[Comandos de Grep](https://docs.oracle.com/cd/E19253-01/806-7612/filesearch-96061/index.html)\n",
    "\n",
    "- `|`: tubería\n",
    "\n",
    "    ```bash\n",
    "     ls | wc -l\n",
    "    ```\n",
    "\n",
    "    ```bash\n",
    "    cat hello.txt | grep h\n",
    "    ```\n",
    "\n",
    "- `history`: muestra el historial de comandos ejecutados\n",
    "- `top` y `htop`: muestran el uso de RAM y CPU\n",
    "- `tasklist`: lo mismo para windows\n",
    "- `Ctrl+R`: para encontrar comandos anteriores\n",
    "\n",
    "### Alias\n",
    "\n",
    "#### En macOS\n",
    "```bash\n",
    "# en tu .bash_profile o .zshrc en tu raíz\n",
    "alias nuevo_nombre=\"comando\"\n",
    "```\n",
    "#### En Windows\n",
    "\n",
    "0. En la raíz:\n",
    "1. `touch .bash_profile`\n",
    "2. Quizás: `source ~/.bash_profile` - puede ser opcional\n",
    "3. Edita el archivo y añade un alias: `alias k='clear'`\n",
    "4. Guarda, sal y reinicia git-bash"
   ]
  },
  {
   "cell_type": "markdown",
   "metadata": {},
   "source": [
    "### Scripting\n",
    "\n",
    "`age=31`: crea una variable\n",
    "`$age`: accede a la variable\n",
    "`echo $age`: imprimiendo el valor\n",
    "\n",
    "#### Lógica\n",
    "\n",
    "Los alias son atajos para comandos frecuentes:\n",
    "\n",
    "Hay un archivo `.bashrc` o `.zshrc` en tu directorio raíz. Encuéntralo y añade un comando alias:\n",
    "`alias jn=\"jupyter notebook\"`\n",
    "**Es necesario reiniciar el terminal**\n",
    "\n",
    "### Bucles, condicionales y funciones\n",
    "\n",
    "#### For\n",
    "\n",
    "```bash\n",
    "for i in 1 2 3\n",
    "do\n",
    "    echo $i\n",
    "done\n",
    "```\n",
    "\n",
    "#### start-stop-step\n",
    "\n",
    "```bash\n",
    "for i in {0..10..2}\n",
    "do\n",
    "    echo $i\n",
    "done\n",
    "```\n",
    "####  infinite loop\n",
    "\n",
    "```bash\n",
    "for (( ; ; ))\n",
    "do\n",
    "    echo 1\n",
    "done\n",
    "```\n",
    "\n",
    "`ctrl + c`: detiene el proceso en ejecución\n"
   ]
  },
  {
   "cell_type": "markdown",
   "metadata": {},
   "source": [
    "#### while"
   ]
  },
  {
   "cell_type": "markdown",
   "metadata": {},
   "source": [
    "```bash\n",
    "age=2\n",
    "while [ $age -le 10 ]\n",
    "do\n",
    "    age=$(($age + 1))\n",
    "    echo $age\n",
    "done\n",
    "```"
   ]
  },
  {
   "cell_type": "markdown",
   "metadata": {},
   "source": [
    "#### conditional"
   ]
  },
  {
   "cell_type": "markdown",
   "metadata": {},
   "source": [
    "```bash\n",
    "number=10\n",
    "if [ $number -le 13 ]\n",
    "then\n",
    "    echo \"hello\"\n",
    "else\n",
    "    echo \"something else\"\n",
    "fi\n",
    "```"
   ]
  },
  {
   "cell_type": "markdown",
   "metadata": {},
   "source": [
    "#### function"
   ]
  },
  {
   "cell_type": "markdown",
   "metadata": {},
   "source": [
    "```bash\n",
    "function hey () {\n",
    "    echo 'Hey, Im inside the function!'\n",
    "};\n",
    "```"
   ]
  },
  {
   "cell_type": "markdown",
   "metadata": {},
   "source": [
    "### Scripts de Bash\n",
    "- Crea un archivo con formato `.sh`\n",
    "- Para ejecutar ese archivo: `bash my_script.sh`"
   ]
  },
  {
   "cell_type": "code",
   "execution_count": null,
   "metadata": {},
   "outputs": [],
   "source": []
  },
  {
   "cell_type": "markdown",
   "metadata": {
    "lang": "en"
   },
   "source": [
    "### Más cosas\n",
    "#### Ejemplos\n",
    "**Crear directorio, archivo de texto, llenar y borrar**"
   ]
  },
  {
   "cell_type": "code",
   "execution_count": null,
   "metadata": {},
   "outputs": [],
   "source": []
  },
  {
   "cell_type": "markdown",
   "metadata": {
    "lang": "en"
   },
   "source": [
    "**Con bucle y función**"
   ]
  },
  {
   "cell_type": "code",
   "execution_count": null,
   "metadata": {},
   "outputs": [],
   "source": []
  },
  {
   "cell_type": "markdown",
   "metadata": {
    "lang": "en"
   },
   "source": [
    "### RECAP\n",
    "\n",
    "Es tu turno. ¿Qué hemos aprendido en esta clase?\n",
    "\n",
    "- Bash: lenguaje (python, sql, javascript, etc)\n",
    "- nos permite\n",
    "    - manejar nuestro sistema\n",
    "        - navegando\n",
    "        - creando / editando archivos\n",
    "        - implementar lógica\n",
    "        - cuántos archivos tengo, automatizar procesos\n",
    "        - alias: tareas repetitivas\n",
    "    - git\n",
    "- alias\n",
    "    - modificar el archivo config: zshrc, bash_profile\n",
    "- scripting\n",
    "    - concatenar comandos\n",
    "    - \"pipeline\" procesos: descarga, muévelo, ábrelo\n",
    "   \n",
    "#### Referencias\n",
    "\n",
    "**Manual:**\n",
    "\n",
    "https://www.gnu.org/savannah-checkouts/gnu/bash/manual/bash.html\n",
    "\n",
    "**Hojas de Trucos:**\n",
    "\n",
    "[Bash](https://devhints.io/bash)\n",
    "\n",
    "### Juegos en bash:\n",
    "\n",
    "[Terminus - Aventura gráfica](https://web.mit.edu/mprat/Public/web/Terminus/Web/main.html)\n",
    "\n",
    "[Los Asesinatos de la Línea de Comando](https://github.com/veltman/clmystery)"
   ]
  }
 ],
 "metadata": {
  "finalized": {
   "timestamp": 1619446289233,
   "trusted": true
  },
  "kernelspec": {
   "display_name": "Python 3 (ipykernel)",
   "language": "python",
   "name": "python3"
  },
  "language_info": {
   "codemirror_mode": {
    "name": "ipython",
    "version": 3
   },
   "file_extension": ".py",
   "mimetype": "text/x-python",
   "name": "python",
   "nbconvert_exporter": "python",
   "pygments_lexer": "ipython3",
   "version": "3.9.13"
  },
  "nbTranslate": {
   "displayLangs": [],
   "hotkey": "alt-t",
   "langInMainMenu": true,
   "sourceLang": "es",
   "targetLang": "en",
   "useGoogleTranslate": true
  },
  "toc": {
   "base_numbering": 1,
   "nav_menu": {},
   "number_sections": true,
   "sideBar": true,
   "skip_h1_title": true,
   "title_cell": "Table of Contents",
   "title_sidebar": "Contents",
   "toc_cell": true,
   "toc_position": {
    "height": "calc(100% - 180px)",
    "left": "10px",
    "top": "150px",
    "width": "196px"
   },
   "toc_section_display": true,
   "toc_window_display": false
  },
  "varInspector": {
   "cols": {
    "lenName": 16,
    "lenType": 16,
    "lenVar": 40
   },
   "kernels_config": {
    "python": {
     "delete_cmd_postfix": "",
     "delete_cmd_prefix": "del ",
     "library": "var_list.py",
     "varRefreshCmd": "print(var_dic_list())"
    },
    "r": {
     "delete_cmd_postfix": ") ",
     "delete_cmd_prefix": "rm(",
     "library": "var_list.r",
     "varRefreshCmd": "cat(var_dic_list()) "
    }
   },
   "types_to_exclude": [
    "module",
    "function",
    "builtin_function_or_method",
    "instance",
    "_Feature"
   ],
   "window_display": false
  }
 },
 "nbformat": 4,
 "nbformat_minor": 4
}
