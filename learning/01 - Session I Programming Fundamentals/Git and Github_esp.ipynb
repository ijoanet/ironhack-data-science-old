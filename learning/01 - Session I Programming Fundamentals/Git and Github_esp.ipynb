{
 "cells": [
  {
   "cell_type": "markdown",
   "id": "romance-consistency",
   "metadata": {},
   "source": [
    "# Introducción a GIT y Control de Versiones"
   ]
  },
  {
   "cell_type": "markdown",
   "id": "generic-notification",
   "metadata": {},
   "source": [
    "![git](https://media.giphy.com/media/kH6CqYiquZawmU1HI6/giphy.gif)"
   ]
  },
  {
   "cell_type": "markdown",
   "id": "negative-upper",
   "metadata": {
    "toc": true
   },
   "source": [
    "<h1>Table of Contents<span class=\"tocSkip\"></span></h1>\n",
    "<div class=\"toc\"><ul class=\"toc-item\"><li><span><a href=\"#What-is-version-control-and-why-should-we-care?\" data-toc-modified-id=\"What-is-version-control-and-why-should-we-care?-1\"><span class=\"toc-item-num\">1&nbsp;&nbsp;</span>What is version control and why should we care?</a></span></li><li><span><a href=\"#GIT's-graph-model\" data-toc-modified-id=\"GIT's-graph-model-2\"><span class=\"toc-item-num\">2&nbsp;&nbsp;</span>GIT's graph model</a></span></li><li><span><a href=\"#Git-VS-Github\" data-toc-modified-id=\"Git-VS-Github-3\"><span class=\"toc-item-num\">3&nbsp;&nbsp;</span>Git VS Github</a></span></li><li><span><a href=\"#Terminology\" data-toc-modified-id=\"Terminology-4\"><span class=\"toc-item-num\">4&nbsp;&nbsp;</span>Terminology</a></span></li><li><span><a href=\"#Commands\" data-toc-modified-id=\"Commands-5\"><span class=\"toc-item-num\">5&nbsp;&nbsp;</span>Commands</a></span></li><li><span><a href=\"#Hands-on-tutorial!\" data-toc-modified-id=\"Hands-on-tutorial!-6\"><span class=\"toc-item-num\">6&nbsp;&nbsp;</span>Hands on tutorial!</a></span><ul class=\"toc-item\"><li><span><a href=\"#How-do-we-create-a-repository?\" data-toc-modified-id=\"How-do-we-create-a-repository?-6.1\"><span class=\"toc-item-num\">6.1&nbsp;&nbsp;</span>How do we create a repository?</a></span><ul class=\"toc-item\"><li><span><a href=\"#We-can-create-a-repository-locally-and-then-link-it\" data-toc-modified-id=\"We-can-create-a-repository-locally-and-then-link-it-6.1.1\"><span class=\"toc-item-num\">6.1.1&nbsp;&nbsp;</span>We can create a repository locally and then link it</a></span></li><li><span><a href=\"#We-can-create-a-remote-repository-and-then-download-it\" data-toc-modified-id=\"We-can-create-a-remote-repository-and-then-download-it-6.1.2\"><span class=\"toc-item-num\">6.1.2&nbsp;&nbsp;</span>We can create a remote repository and then download it</a></span></li></ul></li><li><span><a href=\"#Forking-a-repo\" data-toc-modified-id=\"Forking-a-repo-6.2\"><span class=\"toc-item-num\">6.2&nbsp;&nbsp;</span>Forking a repo</a></span></li><li><span><a href=\"#Working-with-branches\" data-toc-modified-id=\"Working-with-branches-6.3\"><span class=\"toc-item-num\">6.3&nbsp;&nbsp;</span>Working with branches</a></span><ul class=\"toc-item\"><li><span><a href=\"#Contribute-to-a-forked-repository\" data-toc-modified-id=\"Contribute-to-a-forked-repository-6.3.1\"><span class=\"toc-item-num\">6.3.1&nbsp;&nbsp;</span>Contribute to a forked repository</a></span></li></ul></li></ul></li><li><span><a href=\"#Summary-🚀🔥\" data-toc-modified-id=\"Summary-🚀🔥-7\"><span class=\"toc-item-num\">7&nbsp;&nbsp;</span>Summary 🚀🔥</a></span></li><li><span><a href=\"#Further-materials\" data-toc-modified-id=\"Further-materials-8\"><span class=\"toc-item-num\">8&nbsp;&nbsp;</span>Further materials</a></span></li></ul></div>"
   ]
  },
  {
   "cell_type": "markdown",
   "id": "87f1f53c",
   "metadata": {
    "lang": "en"
   },
   "source": [
    "## ¿Qué es el control de versiones y por qué debería importarnos?\n",
    "\n",
    "¿Qué clase de magia negra es esta?\n",
    "![gif](https://media.giphy.com/media/NmerZ36iBkmKk/giphy.gif)\n",
    "\n",
    "El control de versiones es un sistema que registra los cambios realizados en un archivo o conjunto de archivos a lo largo del tiempo, de modo que se puedan recuperar versiones específicas más adelante. Para los ejemplos en este cuaderno, utilizaremos el código fuente del software como los archivos que están bajo control de versiones, aunque en realidad puedes hacer esto con casi cualquier tipo de archivo en una computadora.\n",
    "\n",
    "Si eres un diseñador web o gráfico y quieres mantener todas las versiones de una imagen o diseño (lo cual ciertamente querrás), un sistema de control de versiones (VCS) es algo muy inteligente de hacer. Te permite revertir archivos seleccionados a un estado anterior, revertir el proyecto entero a un estado anterior, comparar cambios a lo largo del tiempo, ver quién fue el último en modificar algo que podría estar causando un problema, quién introdujo un problema y cuándo, y mucho más. Usar un VCS también significa generalmente que si las cosas se desordenan o los archivos se pierden, se pueden recuperar fácilmente. Además, todo esto se logra con muy poco gasto.\n",
    "\n",
    "GIT es un sistema VCS diseñado con los siguientes objetivos:\n",
    "\n",
    "* velocidad\n",
    "* Diseño simple\n",
    "* Fuerte soporte para el desarrollo no lineal (miles de ramas paralelas)\n",
    "* Completamente distribuido #copia completa\n",
    "* Capaz de manejar proyectos grandes como el kernel de Linux de manera eficiente (velocidad y tamaño de datos)\n",
    "\n",
    "**Es un estándar absoluto de la industria**\n",
    "\n",
    "* **Nota:** Documentación principalmente tomada de [docs](https://git-scm.com/book/en/v2/Getting-Started-About-Version-Control)\n",
    "\n",
    "## El modelo gráfico de GIT\n",
    "\n",
    "\n",
    "Git modela la historia de tus proyectos como un [grafo acíclico dirigido](https://en.wikipedia.org/wiki/Directed_acyclic_graph) (un DAG). Entendamos estas tres palabras:\n",
    "\n",
    "* Un **Grafo** es una forma de modelar cosas conectadas. Más técnicamente, un grafo es una colección de \"nodos\" conectados por \"aristas\". Piensa, por ejemplo, en una red social, en la que los individuos son los nodos y las relaciones son las \"aristas\" (también llamadas enlaces).\n",
    "\n",
    "* **Acíclico** significa que el grafo no contiene círculos. Esto significa que no puedes encontrar un camino que comience y termine en el mismo nodo siguiendo la dirección de las aristas.\n",
    "\n",
    "* **Dirigido** significa que las aristas solo pueden ir en una dirección. Piensa, por ejemplo, en \"padre\", \"hijo\", y la relación \"es hijo de\" --- no, no puedes ser padre e hijo de la misma persona.\n",
    "\n",
    "Además:\n",
    "\n",
    "*El **gráfico en su totalidad** contiene una [historia del proyecto](https://www.youtube.com/watch?v=zuRd_Eneuk8).\n",
    "* Los **Nodos** en Git representan commits (recuerda: instantáneas de tu proyecto)\n",
    "* Las **Aristas** apuntan de un commit a sus padres.\n",
    "* Una **rama** ocurre si un commit tiene más de un hijo.\n",
    "* Una **fusión** ocurre cuando un commit tiene más de un padre.\n",
    "\n",
    "\n",
    "[¡Enlace a una visualización súper genial!](https://agripongit.vincenttunru.com/)"
   ]
  },
  {
   "cell_type": "markdown",
   "id": "increasing-quantity",
   "metadata": {},
   "source": [
    "![cool_kid_dab](https://img.devrant.com/devrant/rant/r_361939_fGjf5.jpg)"
   ]
  },
  {
   "cell_type": "markdown",
   "id": "intellectual-lodging",
   "metadata": {},
   "source": [
    "## Git VS Github"
   ]
  },
  {
   "cell_type": "markdown",
   "id": "annoying-instrument",
   "metadata": {},
   "source": [
    "![gitvsgithub](https://devmountain.com/wp-content/uploads/2022/01/Gitvs_Github-1a-1.jpg)"
   ]
  },
  {
   "cell_type": "markdown",
   "id": "520f445f",
   "metadata": {
    "lang": "en"
   },
   "source": [
    "- **Git** es un software de VCS local que permite a los desarrolladores guardar instantáneas de sus proyectos a lo largo del tiempo. Generalmente es mejor para uso individual.\n",
    "- **GitHub** es una plataforma basada en la web que incorpora las características de control de versiones de git para que puedan ser utilizadas de manera colaborativa. También incluye características de gestión de proyectos y equipos, así como oportunidades para el networking y la codificación social.\n",
    "\n",
    "## Terminología\n",
    "- `repositorio` | `repo` : ubicación de almacenamiento de un paquete de software (\"una carpeta rastreada por git\")\n",
    "- `untracked` : un archivo o directorio no rastreado por git, no pertenece al repositorio, pero puede estar dentro de la carpeta.\n",
    "- `tracked` : un archivo que git ha ordenado rastrear (a través del comando `add`.)\n",
    "- `commit` : un punto en la línea de tiempo de un repositorio. Una \"instantánea\" de todos los cambios que hemos \"oficializado\", o el último estado de los archivos escaneados antes de hacer el commit.\n",
    "Cada commit tiene un identificador único y debe tener un mensaje de commit. Cuanto más descriptivo sea el mensaje, mejor.\n",
    "- `local repo` : Un repositorio de código en la computadora que estás usando actualmente.\n",
    "- `remote` : Un repositorio en una máquina diferente (por ejemplo: Github).\n",
    "- `forking a repo` : crear una línea de tiempo alternativa para un repo, usualmente el repo de alguien más que queremos tener como una copia nuestra.\n",
    "- `cloning a repo` : hacer una copia local de un repo remoto.\n",
    "- `push` : Empujar cambios desde el repositorio local al remoto.\n",
    "- `pull` : traer cambios de un repositorio remoto a uno local.\n",
    "- `.gitignore` : archivo de texto con los archivos/carpetas que no queremos que git rastree o consulte.\n",
    "    - p.ej.:\n",
    "        \n",
    "        logo.jpg `# git ignora archivo con nombre específico`\n",
    "\n",
    "        develop_test/ `# git ignora el directorio especificado con nombre y todo su contenido. Nota el / después del nombre.`\n",
    "\n",
    "        *.jpg `# git ignora todos los archivos con una extensión dada`\n",
    "- `branch` : las diferentes `líneas de tiempo` de un repositorio. Permite el desarrollo paralelo.\n",
    "- `merge` : Fusionar cambios de una rama a otra. Es lo opuesto a branching, en lugar de separar, une dos \"líneas de tiempo\".\n",
    "- `pull request` : el acto de pedir al dueño de un repositorio que fusione cambios en su fork/rama. Es literalmente la solicitud de que `tires` tus cambios.\n",
    "\n",
    "## Comandos\n",
    "\n",
    "`git init`\n",
    "- Convierte una carpeta en un repositorio\n",
    "\n",
    "`git add <archivo>`\n",
    "- Agrega un archivo al área de almacenamiento de un repo\n",
    "\n",
    "`git restore --staged <archivo>`\n",
    "- Elimina un archivo del área de preparación. Lo desetapa\n",
    "\n",
    "`git commit -m \"<mensaje>\"`\n",
    "- Guarda los cambios con el mensaje que ponemos. Hace \"la foto\", \"la instantánea\" en la línea de tiempo.\n",
    "\n",
    "- `-a`\n",
    "    - \"Commits\" todos los cambios en los archivos que pertenecen al repo (todos los archivos que fueron previamente añadidos)\n",
    "- `-m`\n",
    "    - Permite escribir el mensaje en comando\n",
    "- `-am` == `-a -m`\n",
    "\n",
    "`git log`\n",
    "- Muestra todos los commits de un repo\n",
    "\n",
    "`git reset --hard <commit_id>`\n",
    "- Reinicia HARD la rama al commit especificado. \"Vuelve en el tiempo.\" Volvemos al punto en que estaba en el repositorio cuando hicimos ese commit al que especificamos.\n",
    "\n",
    "`git remote add <nombre> <url>`\n",
    "- Conecta el repo local actual a uno remoto en `url` llamándolo `nombre`.\n",
    "\n",
    "`git clone <url>`\n",
    "- Hace una copia local del repositorio remoto\n",
    "\n",
    "`git pull <remote> <branch>`\n",
    "- p.ej.: `git pull origin main`\n",
    "- Trae los cambios del \"branch\" remoto al actual.\n",
    "\n",
    "`git push <remote> <branch>`\n",
    "- p.ej.: `git push origin main`\n",
    "- Empuja cambios desde el repositorio local al `branch` remoto\n",
    "\n",
    "`git branch`\n",
    "- Lista todas las ramas del repositorio actual\n",
    "\n",
    "`git branch <nombre>`\n",
    "- Crea una rama con cierto nombre\n",
    "\n",
    "`git checkout <branch>`\n",
    "- Cambia la rama activa por la indicada. Es la forma de cambiar entre ramas, pero solo una puede estar activa a la vez.\n",
    "\n",
    "`git checkout -b <branch>`\n",
    "- Crea y se mueve a una nueva rama con un solo comando.\n",
    "\n",
    "`git merge <branch>`\n",
    "- Trae los cambios de \\<branch\\> a la actual. Fusiona la rama que tenemos activa con la que indicamos.\n",
    "\n",
    ":warning: Git-rebase: mantener la versión a la que reseteamos"
   ]
  },
  {
   "cell_type": "markdown",
   "id": "b2424e3a",
   "metadata": {
    "lang": "en"
   },
   "source": [
    "## ¡Tutorial práctico!\n",
    "\n",
    "Creemos nuestro propio repositorio y juguemos con él\n",
    "Siempre debemos tener presente esta maravilla... -->> [**¡OH SHIT, GIT!**](https://ohshitgit.com/) 🙃\n",
    "\n",
    "### ¿Cómo creamos un repositorio?\n",
    "\n",
    "Hay dos maneras:\n",
    "#### Podemos crear un repositorio localmente y luego enlazarlo"
   ]
  },
  {
   "cell_type": "markdown",
   "id": "958209ad",
   "metadata": {
    "lang": "en"
   },
   "source": [
    "```bash\n",
    "cd somewhere # si necesitas               \n",
    "mkdir first_repo\n",
    "cd first_repo\n",
    "git init\n",
    "```"
   ]
  },
  {
   "cell_type": "markdown",
   "id": "2e0a5640",
   "metadata": {},
   "source": [
    "Extra: ¡Vamos más allá! --> .git  \n",
    "comprobamos que .git se creó al hacer ls -a\n",
    "\n",
    "```bash\n",
    "ls -a\n",
    "```"
   ]
  },
  {
   "cell_type": "markdown",
   "id": "98838383",
   "metadata": {
    "lang": "en"
   },
   "source": [
    "Para subir nuestro repositorio local a un repositorio en línea, primero debemos crear un repositorio en un sitio en línea como GitHub."
   ]
  },
  {
   "cell_type": "markdown",
   "id": "3486ecca",
   "metadata": {},
   "source": [
    "```bash\n",
    "git remote add origin <url of repo>\n",
    "```"
   ]
  },
  {
   "cell_type": "markdown",
   "id": "fe845bc1",
   "metadata": {
    "lang": "en"
   },
   "source": [
    "#### Podemos crear un repositorio remoto y luego descargarlo"
   ]
  },
  {
   "cell_type": "markdown",
   "id": "ea812f01",
   "metadata": {},
   "source": [
    "```bash\n",
    "git clone <url of repo>\n",
    "```"
   ]
  },
  {
   "cell_type": "markdown",
   "id": "4ad7ec60",
   "metadata": {
    "lang": "en"
   },
   "source": [
    "Más fácil y menos dañino, si?"
   ]
  },
  {
   "cell_type": "markdown",
   "id": "imported-witch",
   "metadata": {},
   "source": [
    "![think](https://media.giphy.com/media/IedrY2VP5IO5ivDQAD/giphy.gif)"
   ]
  },
  {
   "cell_type": "markdown",
   "id": "fbf99e2c",
   "metadata": {
    "lang": "en"
   },
   "source": [
    "### Hacer un Fork de un repo\n",
    "\n",
    "Hacer un fork de un repositorio significa copiarlo. Copiar un repositorio nos permite experimentar libremente sin afectar el proyecto original, obviamente porque nuestro fork es una copia, que se encontrará en nuestra cuenta de github.\n",
    "\n",
    "### Trabajando con ramas\n",
    "\n",
    "Una rama en Git es simplemente una copia de cómo está el repositorio en el momento que la haces. El nombre de la rama por defecto en Git es main. Cuando comienzas a hacer commits, se te da una rama principal que apunta al último commit que hiciste. Cada vez que haces un commit, el puntero de la rama principal se mueve hacia adelante automáticamente. O la rama a la que haces commit.\n",
    "\n",
    "- https://medium.com/faun/branching-with-git-the-multiverse-theory-83d3d1372746\n",
    "\n",
    "#### Contribuir a un repositorio forkeado\n",
    "\n",
    "Un pull request (PR) es una solicitud enviada a un repositorio de GitHub para fusionar código en ese proyecto. El PR permite a los revisores solicitados ver y discutir el código propuesto. Una vez que el PR pasa todos los estándares de revisión y se han hecho todas las revisiones necesarias, puede ser fusionado en la base de código.\n",
    "¡Vamos!\n",
    "\n",
    "# Áreas de Git\n",
    "\n",
    "# Ejemplos de flujos de trabajo:\n",
    "\n",
    "- Trabajando en **mi propio repo** que empecé localmente:\n",
    "    - `git init` para iniciar el repo.\n",
    "    - `git add <archivos>` para rastrear archivos.\n",
    "    - `git commit -m \"<mensaje>\"` para hacer el commit de los cambios.\n",
    "    - `git remote add <nombre> <url>` para conectar el repo a uno remoto (crear un repo vacío en github para evitar conflictos).\n",
    "\n",
    "- Trabajando en un **remoto** al que tengo privilegios:\n",
    "    - `git clone <url>` para hacer una copia loca\n",
    "    - `git add <archivos>` y `git commit -m \"<mensaje>\"` para hacer el commit de los cambios.\n",
    "    - `git pull` ANTES de hacer push. Queremos traer los intercambios extranjeros antes de enviar los nuestros para evitar conflictos.\n",
    "    - `git push` para empujar nuestros cambios.\n",
    "    - También es bueno hacer `git pull` antes de empezar a trabajar en cada sesión para asegurarnos de tener la última versión del código.\n",
    "\n",
    "- Trabajando en un **remoto al que no tengo privilegios**:\n",
    "    - `fork` en github para crear tu propia alternativa\n",
    "    - `git clone` para copiar nuestro fork al local\n",
    "    - `git commit`, `git add`, `git push` para que nuestros cambios se reflejen en nuestra copia remota\n",
    "    - `pull request` para ver si el dueño acepta nuestros cambios.\n",
    "    \n",
    "## Resumen 🚀🔥\n",
    "Ahora es tu turno: ¿Qué hemos aprendido?\n",
    "\n",
    "![fire](https://gorkamudev.files.wordpress.com/2016/10/in-case-of-fire-1-git-commit-2-git-push-3-leave-building2.png?w=600)\n",
    "\n",
    "[Extra: práctica hands-on, learngitbranching](https://learngitbranching.js.org/?locale=es_EN)\n",
    "\n",
    "# RECAP"
   ]
  },
  {
   "cell_type": "code",
   "execution_count": null,
   "id": "3881629f",
   "metadata": {},
   "outputs": [],
   "source": []
  },
  {
   "cell_type": "markdown",
   "id": "affected-syndicate",
   "metadata": {
    "lang": "es"
   },
   "source": [
    "## Materiales adicionales\n",
    "* Github para Dummies [aquí](https://github.com/firstcontributions/first-contributions)\n",
    "* Conoce a Linus Torvalds, la mente detrás de git [Charla TED](https://www.ted.com/talks/linus_torvalds_the_mind_behind_linux?language=en)\n",
    "* Consulta estos [documentos de GIT](https://git-scm.com/)\n",
    "* Un poco más de [información](http://justinhileman.info/article/git-pretty/git-pretty.png)\n",
    "* O esta [guía simple](https://rogerdudler.github.io/git-guide/index.html)\n",
    "* Y no olvides tu [Hoja de trucos](https://www.atlassian.com/dam/jcr:8132028b-024f-4b6b-953e-e68fcce0c5fa/atlassian-git-cheatsheet.pdf)"
   ]
  }
 ],
 "metadata": {
  "kernelspec": {
   "display_name": "Python 3 (ipykernel)",
   "language": "python",
   "name": "python3"
  },
  "language_info": {
   "codemirror_mode": {
    "name": "ipython",
    "version": 3
   },
   "file_extension": ".py",
   "mimetype": "text/x-python",
   "name": "python",
   "nbconvert_exporter": "python",
   "pygments_lexer": "ipython3",
   "version": "3.9.13"
  },
  "nbTranslate": {
   "displayLangs": [
    "en",
    "es"
   ],
   "hotkey": "alt-a",
   "langInMainMenu": true,
   "sourceLang": "es",
   "targetLang": "en",
   "useGoogleTranslate": true
  },
  "toc": {
   "base_numbering": 1,
   "nav_menu": {},
   "number_sections": true,
   "sideBar": true,
   "skip_h1_title": true,
   "title_cell": "Table of Contents",
   "title_sidebar": "Contents",
   "toc_cell": true,
   "toc_position": {
    "height": "calc(100% - 180px)",
    "left": "10px",
    "top": "150px",
    "width": "165px"
   },
   "toc_section_display": true,
   "toc_window_display": true
  }
 },
 "nbformat": 4,
 "nbformat_minor": 5
}
