{
 "cells": [
  {
   "cell_type": "markdown",
   "id": "bfd2fc1f",
   "metadata": {
    "lang": "en"
   },
   "source": [
    "# Object-oriented programming"
   ]
  },
  {
   "cell_type": "markdown",
   "id": "linear-pierre",
   "metadata": {
    "toc": true
   },
   "source": [
    "<h1>Table of Contents<span class=\"tocSkip\"></span></h1>\n",
    "<div class=\"toc\"><ul class=\"toc-item\"><li><span><a href=\"#What-is-OOP---Object-Oriented-Programming?\" data-toc-modified-id=\"What-is-OOP---Object-Oriented-Programming?-1\"><span class=\"toc-item-num\">1&nbsp;&nbsp;</span>What is OOP - Object Oriented Programming?</a></span><ul class=\"toc-item\"><li><span><a href=\"#Fundamental-Principles\" data-toc-modified-id=\"Fundamental-Principles-1.1\"><span class=\"toc-item-num\">1.1&nbsp;&nbsp;</span>Fundamental Principles</a></span></li></ul></li><li><span><a href=\"#Classes-and-instances\" data-toc-modified-id=\"Classes-and-instances-2\"><span class=\"toc-item-num\">2&nbsp;&nbsp;</span>Classes and instances</a></span></li><li><span><a href=\"#functional-vs-OOP-(Object-oriented-programming)\" data-toc-modified-id=\"functional-vs-OOP-(Object-oriented-programming)-3\"><span class=\"toc-item-num\">3&nbsp;&nbsp;</span>functional vs OOP (Object oriented programming)</a></span></li><li><span><a href=\"#---\" data-toc-modified-id=\"----4\"><span class=\"toc-item-num\">4&nbsp;&nbsp;</span>  -</a></span></li><li><span><a href=\"#Definition-of-a-class\" data-toc-modified-id=\"Definition-of-a-class-5\"><span class=\"toc-item-num\">5&nbsp;&nbsp;</span>Definition of a class</a></span><ul class=\"toc-item\"><li><span><a href=\"#Self:\" data-toc-modified-id=\"Self:-5.1\"><span class=\"toc-item-num\">5.1&nbsp;&nbsp;</span>Self:</a></span><ul class=\"toc-item\"><li><span><a href=\"#Defining-a-function\" data-toc-modified-id=\"Defining-a-function-5.1.1\"><span class=\"toc-item-num\">5.1.1&nbsp;&nbsp;</span>Defining a function</a></span></li><li><span><a href=\"#Calling-a-function\" data-toc-modified-id=\"Calling-a-function-5.1.2\"><span class=\"toc-item-num\">5.1.2&nbsp;&nbsp;</span>Calling a function</a></span></li><li><span><a href=\"#Defining-a-class\" data-toc-modified-id=\"Defining-a-class-5.1.3\"><span class=\"toc-item-num\">5.1.3&nbsp;&nbsp;</span>Defining a class</a></span></li><li><span><a href=\"#Instansiating-a-class\" data-toc-modified-id=\"Instansiating-a-class-5.1.4\"><span class=\"toc-item-num\">5.1.4&nbsp;&nbsp;</span>Instansiating a class</a></span></li></ul></li><li><span><a href=\"#Exploring-a-class\" data-toc-modified-id=\"Exploring-a-class-5.2\"><span class=\"toc-item-num\">5.2&nbsp;&nbsp;</span>Exploring a class</a></span></li><li><span><a href=\"#Instance-Attributes\" data-toc-modified-id=\"Instance-Attributes-5.3\"><span class=\"toc-item-num\">5.3&nbsp;&nbsp;</span>Instance Attributes</a></span><ul class=\"toc-item\"><li><span><a href=\"#Default-attributes\" data-toc-modified-id=\"Default-attributes-5.3.1\"><span class=\"toc-item-num\">5.3.1&nbsp;&nbsp;</span>Default attributes</a></span></li></ul></li><li><span><a href=\"#Instance-Methods\" data-toc-modified-id=\"Instance-Methods-5.4\"><span class=\"toc-item-num\">5.4&nbsp;&nbsp;</span>Instance Methods</a></span><ul class=\"toc-item\"><li><span><a href=\"#Python-is-built-with-objects\" data-toc-modified-id=\"Python-is-built-with-objects-5.4.1\"><span class=\"toc-item-num\">5.4.1&nbsp;&nbsp;</span>Python is built with objects</a></span></li></ul></li><li><span><a href=\"#Class-variables\" data-toc-modified-id=\"Class-variables-5.5\"><span class=\"toc-item-num\">5.5&nbsp;&nbsp;</span>Class variables</a></span></li></ul></li><li><span><a href=\"#Before-continuing,-let's-take-a-breath-and-review-vocabulary\" data-toc-modified-id=\"Before-continuing,-let's-take-a-breath-and-review-vocabulary-6\"><span class=\"toc-item-num\">6&nbsp;&nbsp;</span>Before continuing, let's take a breath and review vocabulary</a></span><ul class=\"toc-item\"><li><ul class=\"toc-item\"><li><span><a href=\"#Easy-exercise\" data-toc-modified-id=\"Easy-exercise-6.0.1\"><span class=\"toc-item-num\">6.0.1&nbsp;&nbsp;</span>Easy exercise</a></span></li></ul></li></ul></li><li><span><a href=\"#Inheritance\" data-toc-modified-id=\"Inheritance-7\"><span class=\"toc-item-num\">7&nbsp;&nbsp;</span>Inheritance</a></span><ul class=\"toc-item\"><li><span><a href=\"#super()\" data-toc-modified-id=\"super()-7.1\"><span class=\"toc-item-num\">7.1&nbsp;&nbsp;</span>super()</a></span></li></ul></li><li><span><a href=\"#Summary\" data-toc-modified-id=\"Summary-8\"><span class=\"toc-item-num\">8&nbsp;&nbsp;</span>Summary</a></span></li><li><span><a href=\"#Furthermaterials\" data-toc-modified-id=\"Furthermaterials-9\"><span class=\"toc-item-num\">9&nbsp;&nbsp;</span>Furthermaterials</a></span><ul class=\"toc-item\"><li><span><a href=\"#Methods-ADVANCED-@classmethod@staticmethod\" data-toc-modified-id=\"Methods-ADVANCED-@classmethod@staticmethod-9.1\"><span class=\"toc-item-num\">9.1&nbsp;&nbsp;</span>Methods <strong>ADVANCED</strong> @classmethod@staticmethod</a></span></li></ul></li></ul></div>"
   ]
  },
  {
   "cell_type": "markdown",
   "id": "44bbe54e",
   "metadata": {
    "lang": "en"
   },
   "source": [
    "## ¿Qué es la POO - Programación Orientada a Objetos?\n",
    "\n",
    "La programación orientada a objetos es un paradigma de programación, un estilo y técnica para el desarrollo de software que se extiende más allá de la mera implementación de código. Este paradigma se centra en el concepto de \"objetos\", que actúan como unidades autónomas que contienen tanto datos (a los que se refiere como \"atributos\") como código para manipular esos datos (a los que se refiere como \"métodos\").\n",
    "\n",
    "La esencia de la POO radica en encapsular estos atributos y métodos dentro de una estructura de datos unificada conocida como \"clase\". Piense en las clases como planos que definen la estructura y el comportamiento de los objetos, de manera similar a cómo un cortador de galletas define la forma de las galletas.\n",
    "\n",
    "Cuando los objetos son instanciados desde una clase, comparten una estructura común y atributos específicos, similar a las galletas creadas a partir del mismo molde de cortador de galletas. Sin embargo, al igual que cada galleta puede tener sus propiedades únicas como color, textura o sabor, los objetos pueden poseer atributos y comportamientos distintos.\n",
    "\n",
    "En resumen, la POO promueve la modularidad y la reutilización de código al permitir que los desarrolladores creen y manipulen objetos basados en clases predefinidas. Este enfoque tiene un profundo impacto en la ingeniería de software y forma la base de varias metodologías de desarrollo de software."
   ]
  },
  {
   "cell_type": "markdown",
   "id": "fallen-brazil",
   "metadata": {},
   "source": [
    "![clases](https://files.realpython.com/media/Object-Oriented-Programming-OOP-in-Python-3_Watermarked.0d29780806d5.jpg)"
   ]
  },
  {
   "cell_type": "markdown",
   "id": "0473322c",
   "metadata": {
    "lang": "en"
   },
   "source": [
    "### Principios Fundamentales\n",
    "\n",
    "La Programación Orientada a Objetos (POO) se construye sobre cuatro principios fundamentales que ayudan a estructurar y organizar el código de una manera más intuitiva y modular:\n",
    "\n",
    "1. **Abstracción de Datos**: El pensamiento humano naturalmente abstrae la información concreta en conceptos o clases más amplios. Por ejemplo, cuando pensamos en un \"coche\", visualizamos un vehículo con características específicas como cuatro ruedas, un volante y un motor. Esta capacidad de abstracción es crucial para el desarrollo del lenguaje y se refleja en la programación también. En la POO, nos referimos al concepto abstracto como \"clase\" y sus realizaciones concretas como \"objetos\" o \"instancias\". Tu coche específico es un objeto, una instancia de la clase \"coche\" más amplia.\n",
    "\n",
    "2. **Encapsulamiento**: Cada objeto en la POO contiene sus propios datos (atributos) y puede ser manipulado a través de acciones específicas (métodos). Por ejemplo, un objeto coche podría tener atributos como la presión de los neumáticos, el color y el nivel de combustible. Estos atributos están encapsulados dentro del objeto, lo que significa que son accesibles y modificables solo a través de ese objeto. Este encapsulamiento asegura que los datos estén contenidos en sí mismos, reduciendo la necesidad de listas o variables separadas para almacenar información relacionada.\n",
    "\n",
    "3. **Herencia**: La herencia permite que una clase se especialice o derive de otra. La clase especializada hereda propiedades y comportamientos de una clase más general, conocida como la \"superclase\". Por ejemplo, las clases \"Coche\" y \"Camión\" pueden heredar de la superclase \"Vehículo\". Este enfoque promueve la reutilización de código al heredar atributos y métodos comunes de una clase superior. Python incluso soporta \"herencia múltiple\", permitiendo que una clase herede de múltiples clases padres simultáneamente.\n",
    "\n",
    "4. **Polimorfismo**: El polimorfismo permite que objetos de diferentes clases sean tratados como objetos de una superclase común. Esto se logra definiendo métodos en la superclase y permitiendo que las subclases sobrescriban esos métodos con sus propias implementaciones. Por ejemplo, tanto las clases \"Cuadrado\" como \"Círculo\" pueden ser subclases de \"Forma\", y todas implementan un método común como \"dibujar()\". Cuando llamas a este método en un objeto, se ejecuta la implementación específica de la subclase. Esta flexibilidad permite que las funciones acepten objetos de la superclase como parámetros, sin necesidad de conocer la subclase exacta, promoviendo la reutilización y adaptabilidad del código.\n",
    "\n",
    "Estos cuatro principios colectivamente forman la base de la POO, permitiendo un desarrollo de código más organizado, modular y flexible.\n",
    "\n",
    "## Clases e instancias\n",
    "\n",
    "En Python, una **clase** sirve como un plano o plantilla para crear objetos, y cada objeto creado a partir de una clase se llama una **instancia**. Una clase define tanto la estructura (atributos) como el comportamiento (métodos) de los objetos que pertenecen a ella.\n",
    "\n",
    "- **Definición de Clase**: Aquí hay un ejemplo básico de cómo definir una clase en Python:"
   ]
  },
  {
   "cell_type": "code",
   "execution_count": null,
   "id": "62065c55",
   "metadata": {},
   "outputs": [],
   "source": [
    "class Car:\n",
    "    def __init__(self, color):\n",
    "        self.color = color\n",
    "        self.position = 0  # Initialize position as an attribute\n",
    "    \n",
    "    def move(self):\n",
    "        self.position += 1  # Increment the position attribute by 1\n",
    "        return self.position  # Return the updated position"
   ]
  },
  {
   "cell_type": "markdown",
   "id": "e9e27174",
   "metadata": {},
   "source": [
    "En este ejemplo:\n",
    "\n",
    "- Definimos una clase llamada `Car`, que sirve como el plano para crear objetos coche (instancias).\n",
    "- El método `__init__` es un método especial llamado constructor. Inicializa los atributos del objeto cuando se crea. En este caso, establecemos el atributo `color` del coche y la `posición` a 0.\n",
    "- El método `move` es una función simple definida dentro de la clase. Simula el movimiento del coche y devuelve una nueva posición.\n",
    "\n",
    "**Creando Instancias**, una vez que hemos definido la clase, podemos crear instancias de esa clase, cada una representando un coche único:"
   ]
  },
  {
   "cell_type": "code",
   "execution_count": null,
   "id": "791910bb",
   "metadata": {},
   "outputs": [],
   "source": [
    "bmw = Car(\"red\")"
   ]
  },
  {
   "cell_type": "markdown",
   "id": "e17afe1a",
   "metadata": {},
   "source": [
    "After creating an instance, we can access its attributes and methods using dot notation:"
   ]
  },
  {
   "cell_type": "code",
   "execution_count": null,
   "id": "ed404283",
   "metadata": {
    "scrolled": true
   },
   "outputs": [],
   "source": [
    "position = bmw.move()  # Call the move() method\n",
    "car_color = bmw.color  # Access the color attribute"
   ]
  },
  {
   "cell_type": "markdown",
   "id": "5487f47c",
   "metadata": {},
   "source": [
    "En esta línea de código, creamos una instancia de la clase `Car` llamada `bmw` y especificamos su color como \"rojo\".\n",
    "\n",
    "En este ejemplo, llamamos al método `move()` para simular el movimiento del coche y almacenar su posición. También accedemos al atributo de color para recuperar el `color` del coche.\n",
    "\n",
    "Las clases y las instancias proporcionan una manera poderosa de modelar objetos del mundo real y sus comportamientos en Python, promoviendo la reutilización de código y la organización.\n",
    "\n",
    "## Resumen\n",
    "\n",
    "1. Programación Imperativa:\n",
    "    - La **programación imperativa** es un paradigma que se centra en describir cómo opera un programa paso a paso.\n",
    "    - Hace énfasis en cambiar el estado del programa a través de una serie de declaraciones o comandos.\n",
    "    - Las características clave incluyen variables, bucles, condicionales y cambios de estado explícitos.\n",
    "    - Los programas escritos en este paradigma son a menudo fáciles de entender secuencialmente, pero pueden volverse complejos con el aumento del tamaño y la complejidad.\n",
    "\n",
    "2. Programación Funcional:\n",
    "    - La **programación funcional** es un paradigma que trata el cálculo como la evaluación de funciones matemáticas y evita cambiar el estado y los datos mutables.\n",
    "    - Enfatiza la inmutabilidad, funciones puras y expresiones declarativas.\n",
    "    - Las características clave incluyen funciones de orden superior, funciones de primera clase y la ausencia de efectos secundarios.\n",
    "    - Los programas funcionales son a menudo concisos, mantenibles y más fáciles de razonar.\n",
    "\n",
    "3. Programación Orientada a Objetos (POO):\n",
    "    - La **Programación Orientada a Objetos (POO)** es un paradigma basado en el concepto de \"objetos\", que combinan datos (atributos) y comportamiento (métodos) en una sola unidad.\n",
    "    - Enfatiza la modelación de entidades del mundo real y sus interacciones en el código.\n",
    "    - Las características clave incluyen clases, objetos, herencia, encapsulamiento y polimorfismo.\n",
    "    - La POO promueve la modularidad, reutilización y abstracción.\n",
    "\n",
    "## Funcional vs. POO:\n",
    "\n",
    "1. **Gestión del Estado**:\n",
    "    - La programación funcional típicamente evita el estado mutable y fomenta la inmutabilidad, lo que facilita razonar sobre el código. En contraste, la POO a menudo implica cambiar los estados de los objetos.\n",
    "\n",
    "2. **Estructuras de Datos**:\n",
    "    - La programación funcional se apoya en estructuras de datos y funciones incorporadas, mientras que la POO define clases personalizadas para representar datos y comportamiento.\n",
    "\n",
    "3. **Abstracción**:\n",
    "    - La POO se enfoca en modelar objetos del mundo real con clases, promoviendo una abstracción natural. La programación funcional abstrae a través de funciones y transformaciones.\n",
    "\n",
    "4. **Herencia**:\n",
    "    - La POO utiliza la herencia para definir relaciones entre clases. La programación funcional se basa en la composición y funciones de orden superior.\n",
    "\n",
    "5. **Efectos Secundarios**:\n",
    "    - La programación funcional desalienta los efectos secundarios y promueve funciones puras. La POO puede implicar efectos secundarios a través de llamadas a métodos y cambios de estado.\n",
    "\n",
    "6. **Modularidad**:\n",
    "    - Ambos paradigmas admiten la modularidad, pero la logran de manera diferente. La POO usa clases y objetos, mientras que la programación funcional se basa en la composición de funciones.\n",
    "\n",
    "7. **Complejidad**:\n",
    "    - La programación funcional a menudo resulta en código más conciso y menos complejo debido a la inmutabilidad y la pureza. El código de la POO puede volverse complejo con jerarquías de herencia profundas.\n",
    "\n",
    "En resumen, la programación funcional y la POO son paradigmas distintos con diferentes filosofías y compensaciones. La programación funcional prioriza la inmutabilidad, funciones puras y expresiones declarativas, mientras que la POO se enfoca en modelar entidades del mundo real usando clases y objetos. La elección entre ellos depende del dominio del problema y los objetivos de diseño de un proyecto de software.\n",
    "\n",
    "## Un Ejemplo Específico de una Clase en Python\n",
    "\n",
    "En la programación orientada a objetos (POO), una **clase** es como un plano o plantilla para crear objetos. Una **instancia** es un objeto específico creado a partir de una clase. Para entender mejor las instancias, tomemos el ejemplo de la clase incorporada `str`.\n",
    "\n",
    "### La Clase `str`:\n",
    "\n",
    "- En Python, `str` es una clase incorporada que representa cadenas (secuencias de caracteres).\n",
    "- La clase `str` define varios métodos y atributos que pueden usarse con objetos de cadena.\n"
   ]
  },
  {
   "cell_type": "code",
   "execution_count": null,
   "id": "5cf4df36",
   "metadata": {},
   "outputs": [],
   "source": [
    "# Ejemplo 1: Creating Instances\n",
    "name = \"Alfons\"  # Creating an instance of the str class\n",
    "text = \"sdsfdsxg\"  # Another instance of the str class"
   ]
  },
  {
   "cell_type": "markdown",
   "id": "a492376e",
   "metadata": {},
   "source": [
    "### Instancias de `str`:\n",
    "\n",
    "- Cuando creas una cadena, como `name = \"Alfons\"` o `text = \"sdsfdsxg\"`, estás creando instancias de la clase `str`.\n",
    "- Cada instancia de `str` (por ejemplo, \"Alfons\" o \"sdsfdsxg\") es un objeto específico con sus propios datos (los caracteres en la cadena) y comportamiento (métodos para la manipulación de cadenas).\n",
    "\n",
    "### Explorando Métodos y Atributos:\n",
    "\n",
    "- Para explorar los métodos y atributos de una clase (incluidas las clases incorporadas como `str`), puedes usar la función `dir()`.\n",
    "- Puedes llamar a `dir()` en un objeto o en la clase misma para ver qué métodos y atributos están disponibles."
   ]
  },
  {
   "cell_type": "code",
   "execution_count": null,
   "id": "71c75881",
   "metadata": {},
   "outputs": [],
   "source": [
    "# Ejemplo 2: Exploring Methods and Attributes\n",
    "# Using the dir() function to see available methods and attributes\n",
    "print(\"Methods and attributes of the str class:\")\n",
    "print(dir(str))"
   ]
  },
  {
   "cell_type": "markdown",
   "id": "54296e0f",
   "metadata": {},
   "source": [
    "### Métodos Dunder (Mágicos):\n",
    "\n",
    "- En Python, los métodos y atributos con nombres encerrados en dobles guiones bajos, como `.__str__()` o `.__len__()`, a menudo se llaman **métodos dunder** o **métodos mágicos**.\n",
    "- Los métodos dunder están destinados al uso interno de Python y se invocan automáticamente en ciertas situaciones.\n",
    "- Por ejemplo, cuando usas la función `str()` para convertir un objeto a cadena, Python internamente llama al método dunder `.__str__()` si está definido para ese objeto.\n",
    "- Los métodos dunder proporcionan una manera de personalizar el comportamiento de tus clases cuando interactúan con funciones y operadores incorporados de Python.\n",
    "\n",
    "En general, las instancias son objetos específicos creados a partir de clases, y puedes explorar sus métodos y atributos disponibles usando `dir()`. Los métodos dunder son métodos especiales en Python, reconocidos por sus dobles guiones bajos, y te permiten personalizar el comportamiento de tus clases en varias situaciones."
   ]
  },
  {
   "cell_type": "code",
   "execution_count": null,
   "id": "8a96098c",
   "metadata": {},
   "outputs": [],
   "source": [
    "# Ejemplo 3: Dunder Methods\n",
    "# Defining a custom class with dunder methods\n",
    "class CustomString:\n",
    "    def __init__(self, value):\n",
    "        self.value = value\n",
    "\n",
    "    def __str__(self):\n",
    "        return f\"CustomString({self.value})\"\n",
    "\n",
    "    def __len__(self):\n",
    "        return len(self.value)"
   ]
  },
  {
   "cell_type": "code",
   "execution_count": null,
   "id": "dd9f7914",
   "metadata": {},
   "outputs": [],
   "source": [
    "# Creating instances of the custom class\n",
    "custom_text = CustomString(\"Hello, World!\")"
   ]
  },
  {
   "cell_type": "code",
   "execution_count": null,
   "id": "8126bce4",
   "metadata": {},
   "outputs": [],
   "source": [
    "# Using the str() function to convert an object to a string\n",
    "# It internally calls the __str__() dunder method if defined\n",
    "print(str(custom_text))  # Output: \"CustomString(Hello, World!)\"\n",
    "\n",
    "# Using the len() function to get the length of an object\n",
    "# It internally calls the __len__() dunder method if defined\n",
    "print(len(custom_text))  # Output: 13"
   ]
  },
  {
   "cell_type": "markdown",
   "id": "8917064a",
   "metadata": {
    "lang": "en"
   },
   "source": [
    "## Definición de una clase\n",
    "\n",
    "En Python, podemos definir nuestras propias clases para modelar entidades del mundo real o conceptos abstractos. Una clase es como un plano que define los atributos (datos) y métodos (funciones) que tendrán los objetos de esa clase. Una vez que una clase está definida, podemos crear instancias (objetos) de esa clase, cada una con su propio conjunto de atributos y la capacidad de realizar acciones definidas por los métodos de la clase.\n",
    "\n",
    "Para crear una clase, usamos la palabra clave `class` y definimos los atributos y métodos dentro del bloque de la clase. Los atributos son variables que almacenan datos para cada instancia, y los métodos son funciones que permiten a las instancias realizar acciones u operaciones.\n",
    "\n",
    "Vamos a explorar la definición e instanciación de clases con un ejemplo que involucra una clase `Teacher` para representar a los educadores en un sistema de gestión escolar."
   ]
  },
  {
   "cell_type": "code",
   "execution_count": null,
   "id": "6b5c7512",
   "metadata": {},
   "outputs": [],
   "source": [
    "# Definition of a class - Teacher\n",
    "class Teacher:\n",
    "    # Constructor method (__init__) to initialize attributes\n",
    "    def __init__(self, name, subject):\n",
    "        self.name = name\n",
    "        self.subject = subject\n",
    "        self.courses_taught = []\n",
    "\n",
    "    # Method to add a course taught by the teacher\n",
    "    def add_course(self, course_name):\n",
    "        self.courses_taught.append(course_name)\n",
    "\n",
    "    # Method to display teacher's information\n",
    "    def display_info(self):\n",
    "        print(f\"Teacher Name: {self.name}\")\n",
    "        print(f\"Teaching Subject: {self.subject}\")\n",
    "        print(f\"Courses Taught: {', '.join(self.courses_taught)}\")"
   ]
  },
  {
   "cell_type": "code",
   "execution_count": null,
   "id": "e9d86f01",
   "metadata": {},
   "outputs": [],
   "source": [
    "# Creating instances of the Teacher class\n",
    "teacher1 = Teacher(\"Alice\", \"Math\")\n",
    "teacher2 = Teacher(\"Bob\", \"Science\")"
   ]
  },
  {
   "cell_type": "code",
   "execution_count": null,
   "id": "9b3f6863",
   "metadata": {},
   "outputs": [],
   "source": [
    "# Adding courses taught by the teachers\n",
    "teacher1.add_course(\"Algebra\")\n",
    "teacher2.add_course(\"Biology\")\n",
    "teacher2.add_course(\"Chemistry\")"
   ]
  },
  {
   "cell_type": "code",
   "execution_count": null,
   "id": "7053f6e5",
   "metadata": {},
   "outputs": [],
   "source": [
    "# Displaying teacher information\n",
    "teacher1.display_info()\n",
    "teacher2.display_info()"
   ]
  },
  {
   "cell_type": "markdown",
   "id": "dffb2147",
   "metadata": {},
   "source": [
    "### Self:\n",
    "\n",
    "En las clases de Python, la palabra clave `self` juega un papel crucial. Se refiere a la instancia de la clase en sí y se utiliza para acceder a sus atributos y métodos. Aunque puede parecer un requisito adicional en comparación con otros lenguajes de programación, entender y usar `self` correctamente es fundamental para escribir código de Python orientado a objetos eficaz y mantenible.\n",
    "\n",
    "El uso de `self` es una convención de Python y ayuda a distinguir entre variables de instancia (pertenecientes al objeto) y variables locales (utilizadas solo dentro de un método). Al usar `self`, dejas claro que estás trabajando con variables de instancia y métodos.\n",
    "\n",
    "Para mantener la consistencia y adherirse a las convenciones de nomenclatura de Python, puedes referirte a recursos como la guía de estilo Python PEP 8, [aquí](https://realpython.com/python-pep8/#naming-styles), que proporciona pautas para nombrar variables, clases, funciones y más. Seguir estas convenciones puede mejorar la legibilidad del código y hacer que tu código sea más accesible para otros desarrolladores de Python.\n",
    "\n",
    "Vamos a sumergirnos en el papel de `self` y cómo se utiliza dentro de las clases de Python."
   ]
  },
  {
   "cell_type": "code",
   "execution_count": null,
   "id": "3c932085",
   "metadata": {
    "lang": "en"
   },
   "outputs": [],
   "source": [
    "class Dog:\n",
    "    def __init__(self, name, breed):\n",
    "        self.name = name\n",
    "        self.breed = breed\n",
    "\n",
    "    def bark(self):\n",
    "        return f\"{self.name} is barking!\""
   ]
  },
  {
   "cell_type": "code",
   "execution_count": null,
   "id": "33db14d0",
   "metadata": {},
   "outputs": [],
   "source": [
    "# Creating instances of the Dog class\n",
    "dog1 = Dog(\"Buddy\", \"Golden Retriever\")\n",
    "dog2 = Dog(\"Max\", \"Labrador\")"
   ]
  },
  {
   "cell_type": "code",
   "execution_count": null,
   "id": "59408b7e",
   "metadata": {},
   "outputs": [],
   "source": [
    "# Accessing instance variables using self\n",
    "print(dog1.name)  # Output: Buddy\n",
    "print(dog2.breed)  # Output: Labrador"
   ]
  },
  {
   "cell_type": "code",
   "execution_count": null,
   "id": "21d84917",
   "metadata": {},
   "outputs": [],
   "source": [
    "# Calling a method using self\n",
    "print(dog1.bark())  # Output: Buddy is barking!\n",
    "print(dog2.bark())  # Output: Max is barking!"
   ]
  },
  {
   "cell_type": "markdown",
   "id": "e404f40d",
   "metadata": {},
   "source": [
    "En este ejemplo:\n",
    "\n",
    "- Definimos una clase `Perro` con un método `__init__` que toma dos parámetros, `nombre` y `raza`, e inicializa las variables de instancia `self.nombre` y `self.raza`.\n",
    "\n",
    "- El método `ladrar` usa `self` para acceder al atributo `nombre` de la instancia para generar un mensaje de ladrido.\n",
    "\n",
    "- Creamos dos instancias de la clase `Perro`, `perro1` y `perro2`, y las inicializamos con diferentes nombres y razas.\n",
    "\n",
    "- Accedemos a las variables de instancia (`nombre` y `raza`) y llamamos al método `ladrar` en cada instancia usando `self`.\n",
    "\n",
    "#### Atributos predeterminados\n",
    "\n",
    "En las clases de Python, puedes inicializar atributos con valores predeterminados. Esto significa que si no se proporciona un valor específico al crear instancias, los atributos tendrán estos valores predeterminados. Esta característica te permite establecer valores predeterminados sensatos, que pueden ser sobrescritos si es necesario.\n",
    "\n",
    "Ilustremos esto con un ejemplo:"
   ]
  },
  {
   "cell_type": "code",
   "execution_count": null,
   "id": "755ea01e",
   "metadata": {},
   "outputs": [],
   "source": [
    "class Dog:\n",
    "    def __init__(self, name=\"Unknown\", breed=\"Unknown\"):\n",
    "        self.name = name\n",
    "        self.breed = breed\n",
    "\n",
    "    def bark(self):\n",
    "        return f\"{self.name} says Woof!\""
   ]
  },
  {
   "cell_type": "code",
   "execution_count": null,
   "id": "1f703912",
   "metadata": {},
   "outputs": [],
   "source": [
    "# Creating instances with and without attribute values\n",
    "dog1 = Dog(\"Buddy\", \"Golden Retriever\")\n",
    "dog2 = Dog()  # Using default attribute values"
   ]
  },
  {
   "cell_type": "code",
   "execution_count": null,
   "id": "d62c3c26",
   "metadata": {},
   "outputs": [],
   "source": [
    "print(dog1.bark())  # Output: \"Buddy says Woof!\"\n",
    "print(dog2.bark())  # Output: \"Unknown says Woof!\""
   ]
  },
  {
   "cell_type": "markdown",
   "id": "0ce1eb62",
   "metadata": {
    "lang": "en"
   },
   "source": [
    "En la clase `Dog`, proporcionamos valores predeterminados para `name` y `breed` en el método `__init__`. Al crear instancias como `dog2`, si no se especifican valores, se utilizan los valores predeterminados. Esta flexibilidad facilita el manejo de varios escenarios al crear objetos.\n",
    "\n",
    "### Métodos de Instancia\n",
    "\n",
    "En Python, los métodos de instancia son funciones asociadas con una clase que pueden ser llamados en instancias (objetos) creados a partir de esa clase. Estos métodos pueden acceder y manipular los atributos de una instancia, convirtiéndolos en una herramienta poderosa para realizar acciones relacionadas con los datos de la clase.\n",
    "\n",
    "Exploraremos el concepto de métodos de instancia con un ejemplo que involucra una clase `Staff`, que representa a los miembros del personal en una empresa ficticia. Definiremos atributos como `name`, `fname`, `email` y `time_off`, y crearemos métodos como `greetings` y `takes_days_off` para demostrar cómo funcionan los métodos de instancia dentro de una clase."
   ]
  },
  {
   "cell_type": "code",
   "execution_count": null,
   "id": "7f3ecad3",
   "metadata": {},
   "outputs": [],
   "source": [
    "class Staff ():\n",
    "    \n",
    "    # 1. Atributes\n",
    "    def __init__ (self, name, fname):\n",
    "        self.name = name\n",
    "        self.fname = fname\n",
    "    \n",
    "        self.email = (self.name + \".\" + self.fname + \"@ironhack.com\").lower()\n",
    "        \n",
    "        self.time_off = 30\n",
    "        \n",
    "    # 2. Methods\n",
    "    \n",
    "    def greetings (self):\n",
    "        return f\"Hello!!!!!!\"\n",
    "    \n",
    "    def takes_days_off (self, n):\n",
    "        self.time_off -= n"
   ]
  },
  {
   "cell_type": "code",
   "execution_count": null,
   "id": "5aacfe9a",
   "metadata": {},
   "outputs": [],
   "source": [
    "# Let's create the first employee\n",
    "Employee_1 = Staff(\"Alfons\", \"Marques\")"
   ]
  },
  {
   "cell_type": "code",
   "execution_count": null,
   "id": "ba441ae5",
   "metadata": {},
   "outputs": [],
   "source": [
    "# Let's access the attribute time_off\n",
    "Employee_1.time_off"
   ]
  },
  {
   "cell_type": "code",
   "execution_count": null,
   "id": "f2e1995d",
   "metadata": {},
   "outputs": [],
   "source": [
    "# I took one day off\n",
    "Employee_1.takes_days_off(1)"
   ]
  },
  {
   "cell_type": "code",
   "execution_count": null,
   "id": "188d5a9d",
   "metadata": {},
   "outputs": [],
   "source": [
    "# How many do I have now?\n",
    "Employee_1.time_off"
   ]
  },
  {
   "cell_type": "code",
   "execution_count": null,
   "id": "1ee11a36",
   "metadata": {},
   "outputs": [],
   "source": [
    "# Let's do something\n",
    "Employee_1.greetings()"
   ]
  },
  {
   "cell_type": "markdown",
   "id": "fdda9183",
   "metadata": {},
   "source": [
    "**Los métodos de instancia son funciones dentro de las clases que pueden ahorrarnos mucho tiempo.\n",
    "\n",
    "**⚠️ Especificar Variables al Instanciar, Ignorando los Valores Predeterminados**\n",
    "\n",
    "En Python, cuando instanciamos (creamos) objetos a partir de una clase, a menudo proporcionamos valores para los atributos para personalizar cada instancia. Sin embargo, puede haber casos en los que queramos utilizar los valores predeterminados definidos en el método `__init__` de la clase para ciertos atributos.\n",
    "\n",
    "En el ejemplo proporcionado, tenemos una clase `Staff` que representa a los miembros del personal de una empresa. Esta clase tiene atributos como `name`, `fname`, `email` y `time_off`. También hemos definido dos métodos de instancia: `greetings` para un saludo amistoso y `takes_days_off` para gestionar solicitudes de días libres.\n",
    "\n",
    "Presta atención a cómo podemos especificar variables concretas al instanciar objetos `Staff` mientras ignoramos los valores predeterminados para algunos atributos, como el número de días libres. Esta flexibilidad nos permite personalizar objetos según sea necesario, mientras confiamos en los valores predeterminados cuando es apropiado."
   ]
  },
  {
   "cell_type": "code",
   "execution_count": null,
   "id": "aa27d407",
   "metadata": {},
   "outputs": [],
   "source": [
    "class Staff ():\n",
    "    \n",
    "    # 1. Atributes\n",
    "    def __init__ (self, name, fname):\n",
    "        self.name = name\n",
    "        self.fname = fname\n",
    "    \n",
    "        self.email = (self.name + \".\" + self.fname + \"@ironhack.com\").lower()\n",
    "        \n",
    "        self.time_off = 30\n",
    "        \n",
    "    # 2. Methods\n",
    "    \n",
    "    def greetings (self):\n",
    "        return f\"Hello!!!!!!\"\n",
    "    \n",
    "    def takes_days_off (self, days=1):\n",
    "        \"\"\"Default: take one day unless passed oterhwise\"\"\"\n",
    "        if days <= self.time_off:\n",
    "            self.time_off -= days\n",
    "            return f\"You have these many days left: {self.time_off}\"\n",
    "        else: \n",
    "            return f\"You only have {self.time_off} days available\" "
   ]
  },
  {
   "cell_type": "markdown",
   "id": "c584762d",
   "metadata": {
    "lang": "en"
   },
   "source": [
    "**Cuidado** 👀\n",
    "\n",
    "Al modificar una clase añadiendo nuevos atributos o métodos, es importante ser consciente de que los objetos existentes creados a partir de esa clase no tendrán automáticamente los nuevos atributos o métodos. Necesitarás recrear esos objetos para asegurar que se inicialicen con las actualizaciones.\n",
    "\n",
    "En el ejemplo proporcionado, tenemos una clase `Staff` que representa a los miembros del personal de una empresa. Inicialmente, la clase tiene atributos como `name`, `fname`, `email`, `time_off` y `hobbies`. También hemos definido métodos como `greetings`, `takes_days_off` y `hobbies_function`.\n",
    "\n",
    "Toma nota de este punto importante, especialmente cuando hagas cambios en la estructura de una clase. Si añades nuevos atributos o métodos, cualquier objeto existente de esa clase no ganará automáticamente acceso a estos cambios. Recrear los objetos es necesario para incorporar las actualizaciones de manera efectiva."
   ]
  },
  {
   "cell_type": "code",
   "execution_count": null,
   "id": "2c523f6d",
   "metadata": {},
   "outputs": [],
   "source": [
    "class Staff ():\n",
    "    \n",
    "    # 1. Atributes\n",
    "    def __init__ (self, name, fname):\n",
    "        self.name = name\n",
    "        self.fname = fname\n",
    "    \n",
    "        self.email = (self.name + \".\" + self.fname + \"@ironhack.com\").lower()\n",
    "        \n",
    "        self.time_off = 30\n",
    "        \n",
    "        self.hobbies = []\n",
    "        \n",
    "        \n",
    "    # 2. Methods\n",
    "    \n",
    "    def greetings (self):\n",
    "        return f\"Hello!!!!!!\"\n",
    "    \n",
    "    def takes_days_off (self, days=1):\n",
    "        \"\"\"Default: take one day unless passed oterhwise\"\"\"\n",
    "        if days <= self.time_off:\n",
    "            self.time_off -= days\n",
    "            return f\"You have these many days left: {self.time_off}\"\n",
    "        else: \n",
    "            return f\"You only have {self.time_off} days available\"\n",
    "    \n",
    "    def hobbies_function(self, hobbie):\n",
    "        # adds elements to hobbies\n",
    "            # 1. what should this receive: hobbie\n",
    "            # 2. what should it do\n",
    "            # 3. return?\n",
    "        \n",
    "        self.hobbies.append(hobbie)\n",
    "        return f\"My hobbies are {self.hobbies}\""
   ]
  },
  {
   "cell_type": "code",
   "execution_count": null,
   "id": "9595e979",
   "metadata": {},
   "outputs": [],
   "source": [
    "# Practica por tu parte"
   ]
  },
  {
   "cell_type": "markdown",
   "id": "2b7c965f",
   "metadata": {
    "lang": "en"
   },
   "source": [
    "### Variables de Clase\n",
    "\n",
    "En la programación orientada a objetos, las variables de clase son atributos compartidos por todas las instancias (objetos) de una clase. A diferencia de las variables de instancia, que son únicas para cada objeto, las variables de clase mantienen el mismo valor en todas las instancias de la clase.\n",
    "\n",
    "Las variables de clase se definen típicamente dentro de la clase pero fuera de cualquier método de instancia. Están asociadas con la clase en sí, en lugar de con instancias específicas de la clase. Esto significa que cualquier cambio realizado en una variable de clase afecta a todos los objetos creados a partir de esa clase.\n",
    "\n",
    "Las variables de clase son útiles para almacenar datos o propiedades que son comunes a todas las instancias de una clase, como configuraciones, valores predeterminados o constantes. También se pueden acceder y modificar a través de la clase misma, lo que las convierte en una herramienta poderosa para gestionar datos compartidos dentro de una clase.\n",
    "\n",
    "En Python, las variables de clase a menudo se denotan utilizando una convención de nomenclatura con letras mayúsculas para distinguirlas de las variables de instancia, que generalmente tienen nombres en minúsculas. Comprender el uso de variables de clase es esencial al diseñar y trabajar con clases en la programación orientada a objetos."
   ]
  },
  {
   "cell_type": "code",
   "execution_count": null,
   "id": "e55d6664",
   "metadata": {},
   "outputs": [],
   "source": [
    "class Employee:\n",
    "    # Class variable\n",
    "    COMPANY = \"XYZ Corporation\"\n",
    "    \n",
    "    def __init__(self, name, emp_id):\n",
    "        # Instance variables\n",
    "        self.name = name\n",
    "        self.emp_id = emp_id\n",
    "    \n",
    "    def get_employee_info(self):\n",
    "        return f\"Name: {self.name}, Employee ID: {self.emp_id}, Company: {Employee.company}\""
   ]
  },
  {
   "cell_type": "code",
   "execution_count": null,
   "id": "d9866125",
   "metadata": {},
   "outputs": [],
   "source": [
    "# Create instances of the Employee class\n",
    "employee1 = Employee(\"John Doe\", 1001)\n",
    "employee2 = Employee(\"Alice Smith\", 1002)"
   ]
  },
  {
   "cell_type": "code",
   "execution_count": null,
   "id": "ebebdd61",
   "metadata": {},
   "outputs": [],
   "source": [
    "# Access and display the class variable\n",
    "print(\"Company:\", Employee.company)"
   ]
  },
  {
   "cell_type": "code",
   "execution_count": null,
   "id": "72f969de",
   "metadata": {},
   "outputs": [],
   "source": [
    "# Access and display instance-specific information\n",
    "print(employee1.get_employee_info())\n",
    "print(employee2.get_employee_info())"
   ]
  },
  {
   "cell_type": "markdown",
   "id": "9ad7387e",
   "metadata": {
    "lang": "en"
   },
   "source": [
    "En general, los atributos de clase no deben usarse, excepto para almacenar valores constantes.\n",
    "\n",
    "**Ejercicio: Creando una Clase para Registros de Estudiantes**\n",
    "\n",
    "En este ejercicio, exploraremos cómo usar clases en un contexto de análisis de datos. Imagina que trabajas en el departamento de análisis de datos de una universidad, y te han encargado gestionar y analizar los registros de los estudiantes. Para agilizar tu trabajo y mejorar la organización de los datos, decides crear una clase de Python llamada `Student` para representar registros individuales de estudiantes.\n",
    "\n",
    "La clase `Student` encapsulará atributos de estudiantes como nombre, ID, cursos y calificaciones. Además, proporcionará métodos para calcular el GPA del estudiante, agregar cursos y mostrar la información del estudiante.\n",
    "\n",
    "Al crear esta clase, demostrarás cómo las clases pueden ayudarte a organizar y analizar los datos de los estudiantes de manera eficiente. Este ejercicio es amigable para principiantes y tiene como objetivo ilustrar el uso práctico de las clases en un contexto de análisis de datos.\n",
    "\n",
    "Ahora, sumergámonos en el código de Python para crear la clase `Student` y realizar varias operaciones en los registros de los estudiantes."
   ]
  },
  {
   "cell_type": "code",
   "execution_count": null,
   "id": "ec50974b",
   "metadata": {},
   "outputs": [],
   "source": [
    "# Define the Student class\n",
    "class Student:\n",
    "    def __init__(self, name, student_id):\n",
    "        self.name = name\n",
    "        self.student_id = student_id\n",
    "        self.courses = {}\n",
    "    \n",
    "    def add_course(self, course_name, grade):\n",
    "        self.courses[course_name] = grade\n",
    "    \n",
    "    def calculate_gpa(self):\n",
    "        total_grade_points = sum(self.courses.values())\n",
    "        num_courses = len(self.courses)\n",
    "        if num_courses == 0:\n",
    "            return 0.0\n",
    "        else:\n",
    "            return total_grade_points / num_courses\n",
    "    \n",
    "    def display_student_info(self):\n",
    "        print(f\"Student Name: {self.name}\")\n",
    "        print(f\"Student ID: {self.student_id}\")\n",
    "        print(\"Courses and Grades:\")\n",
    "        for course, grade in self.courses.items():\n",
    "            print(f\"{course}: {grade}\")\n",
    "        print(f\"Overall GPA: {self.calculate_gpa():.2f}\")"
   ]
  },
  {
   "cell_type": "code",
   "execution_count": null,
   "id": "dac73fea",
   "metadata": {},
   "outputs": [],
   "source": [
    "# Clean code example:\n",
    "class Student:\n",
    "    def __init__(self, name: str, student_id: str):\n",
    "        \"\"\"\n",
    "        Initialize a Student object with name and student ID.\n",
    "\n",
    "        Args:\n",
    "            name (str): The student's name.\n",
    "            student_id (str): The student's unique identifier.\n",
    "        \"\"\"\n",
    "        self.name = name\n",
    "        self.student_id = student_id\n",
    "        self.courses = {}\n",
    "\n",
    "    def add_course(self, course_name: str, grade: float):\n",
    "        \"\"\"\n",
    "        Add a course and its grade to the student's record.\n",
    "\n",
    "        Args:\n",
    "            course_name (str): The name of the course.\n",
    "            grade (float): The grade received in the course.\n",
    "        \"\"\"\n",
    "        self.courses[course_name] = grade\n",
    "\n",
    "    def calculate_gpa(self) -> float:\n",
    "        \"\"\"\n",
    "        Calculate the student's GPA based on course grades.\n",
    "\n",
    "        Returns:\n",
    "            float: The calculated GPA.\n",
    "        \"\"\"\n",
    "        total_grade_points = sum(self.courses.values())\n",
    "        num_courses = len(self.courses)\n",
    "        if num_courses == 0:\n",
    "            return 0.0\n",
    "        else:\n",
    "            return total_grade_points / num_courses\n",
    "\n",
    "    def display_student_info(self):\n",
    "        \"\"\"\n",
    "        Display information about the student, including name, ID, courses, and GPA.\n",
    "        \"\"\"\n",
    "        print(f\"Student Name: {self.name}\")\n",
    "        print(f\"Student ID: {self.student_id}\")\n",
    "        print(\"Courses and Grades:\")\n",
    "        for course, grade in self.courses.items():\n",
    "            print(f\"{course}: {grade}\")\n",
    "        print(f\"Overall GPA: {self.calculate_gpa():.2f}\")"
   ]
  },
  {
   "cell_type": "code",
   "execution_count": null,
   "id": "99f4f14d",
   "metadata": {},
   "outputs": [],
   "source": [
    "# Create instances of the Student class\n",
    "student1 = Student(\"Alice Smith\", \"S12345\")\n",
    "student2 = Student(\"Bob Johnson\", \"S67890\")"
   ]
  },
  {
   "cell_type": "code",
   "execution_count": null,
   "id": "4bbc4a74",
   "metadata": {},
   "outputs": [],
   "source": [
    "# Add courses and grades for each student\n",
    "student1.add_course(\"Math\", 90)\n",
    "student1.add_course(\"History\", 85)\n",
    "student2.add_course(\"Science\", 92)\n",
    "student2.add_course(\"English\", 88)"
   ]
  },
  {
   "cell_type": "code",
   "execution_count": null,
   "id": "d96adf5e",
   "metadata": {},
   "outputs": [],
   "source": [
    "# Display student information\n",
    "student1.display_student_info()\n",
    "student2.display_student_info()"
   ]
  },
  {
   "cell_type": "markdown",
   "id": "87cccad5",
   "metadata": {
    "lang": "en"
   },
   "source": [
    "## Antes de continuar, respiremos y revisemos el vocabulario\n",
    "\n",
    "- **Clase**: Piensa en una clase como un plano o un molde para galletas. Define la estructura y el comportamiento de los objetos. Cuando creas una clase, estás especificando cómo deben verse y comportarse los objetos de esa clase.\n",
    "\n",
    "- **Objeto** o **Instancia**: Un objeto es una realización concreta e individual de una clase, muy parecido a una galleta recién horneada de un molde. Cada objeto creado a partir de una clase comparte la misma estructura definida por la clase pero puede tener diferentes datos y atributos.\n",
    "\n",
    "- **Atributo**: Los atributos son como los ingredientes que le dan a cada objeto sus características únicas. En Python, los atributos se definen como argumentos en la función `__init__` (el constructor) y se almacenan como datos dentro de cada objeto. Piensa en ellos como variables que contienen información específica para cada objeto.\n",
    "\n",
    "    - **Atributo de Objeto/Instancia**: Estos atributos son específicos para cada objeto individual. Por ejemplo, en una clase `Estudiante`, el nombre del estudiante y el ID son atributos de instancia porque varían de un objeto estudiante a otro.\n",
    "\n",
    "    - **Atributo de Clase**: Los atributos de clase se comparten entre todos los objetos creados a partir de la misma clase. Son constantes o valores que permanecen consistentes para todas las instancias. Por ejemplo, si tienes una clase `Escuela`, el nombre de la escuela puede ser un atributo de clase porque es el mismo para todos los estudiantes de esa escuela.\n",
    "\n",
    "- **Método**: Los métodos son como las acciones o funciones que los objetos pueden realizar. Definen el comportamiento de los objetos. Los métodos son esencialmente funciones que operan sobre los datos o atributos del objeto. Por ejemplo, una clase `Estudiante` podría tener un método `calcular_gpa` que calcula el GPA del estudiante basado en sus calificaciones.\n",
    "\n",
    "Entender estos conceptos nos ayuda a estructurar y organizar nuestro código de manera efectiva, facilitando la creación, gestión y manipulación de objetos en un paradigma de programación orientada a objetos.\n",
    "\n",
    "## Desafío empresarial: Gestionando Datos de Ventas con Clases de Python\n",
    "\n",
    "En este ejercicio, exploraremos cómo las clases de Python pueden usarse para gestionar y analizar datos de ventas. Imagina que trabajas para una pequeña empresa de venta al por menor, y tu tarea es organizar y analizar información de ventas para varios productos. Para lograr esto, crearemos una clase de Python llamada `Producto` para representar productos individuales y otra clase llamada `DatosDeVentas` para gestionar los datos de ventas de manera eficiente.\n",
    "\n",
    "### Parte 1: Crear la Clase Producto\n",
    "\n",
    "1. Define una clase llamada `Producto` con los siguientes atributos y métodos:\n",
    "   - Atributos:\n",
    "     - `nombre` (str): El nombre del producto.\n",
    "     - `precio` (float): El precio del producto.\n",
    "     - `cantidad_vendida` (int): La cantidad del producto vendido.\n",
    "   - Métodos:\n",
    "     - `__init__(self, nombre, precio)`: El método constructor que inicializa `nombre`, `precio`, y establece `cantidad_vendida` a 0.\n",
    "     - `vender(self, cantidad)`: Un método que incrementa el atributo `cantidad_vendida` por la cantidad dada cuando se vende un producto.\n",
    "     - `obtener_ingresos(self)`: Un método que calcula y devuelve los ingresos totales generados por la venta de este producto (precio * cantidad_vendida).\n",
    "\n",
    "### Parte 2: Crear la Clase DatosDeVentas\n",
    "\n",
    "2. Define una clase llamada `DatosDeVentas` con los siguientes atributos y métodos:\n",
    "   - Atributos:\n",
    "     - `productos` (lista): Una lista para almacenar instancias de la clase `Producto`.\n",
    "   - Métodos:\n",
    "     - `__init__(self)`: El método constructor que inicializa una lista vacía para almacenar productos.\n",
    "     - `agregar_producto(self, producto)`: Un método que agrega un objeto `Producto` a la lista de productos.\n",
    "     - `obtener_ingresos_totales(self)`: Un método que calcula y devuelve los ingresos totales generados por la venta de todos los productos.\n",
    "     - `obtener_producto_mas_vendido(self)`: Un método que identifica y devuelve el producto con la mayor cantidad vendida.\n",
    "\n",
    "### Parte 3: Usando las Clases\n",
    "\n",
    "3. Crea instancias de la clase `Producto` para representar diferentes productos en tu inventario.\n",
    "\n",
    "4. Crea una instancia de la clase `DatosDeVentas` para gestionar tus datos de ventas.\n",
    "\n",
    "5. Añade las instancias de producto creadas a la instancia de `DatosDeVentas`.\n",
    "\n",
    "6. Simula ventas para cada producto usando el método `vender` de la clase `Producto`.\n",
    "\n",
    "7. Calcula los ingresos totales usando el método `obtener_ingresos_totales` de la clase `DatosDeVentas`.\n",
    "\n",
    "8. Identifica el producto más vendido usando el método `obtener_producto_mas_vendido` de la clase `DatosDeVentas`.\n",
    "\n",
    "### Desafíos Adicionales (Opcional, solo si tienes tiempo):\n",
    "\n",
    "9. Implementa manejo de errores en tus clases para asegurar que cantidades negativas o entradas incorrectas sean manejadas de manera adecuada.\n",
    "\n",
    "10. Crea un método para mostrar los detalles del producto, incluyendo nombre, precio, cantidad vendida e ingresos, para todos los productos en la clase `DatosDeVentas`.\n",
    "\n",
    "Este ejercicio te ayudará a entender cómo las clases pueden usarse para organizar y analizar datos de ventas de manera efectiva, facilitando la gestión y extracción de información valiosa de tus datos. Demuestra la aplicación práctica de las clases en un contexto de análisis de datos.\n",
    "\n"
   ]
  },
  {
   "cell_type": "code",
   "execution_count": null,
   "id": "b6a27bcf",
   "metadata": {},
   "outputs": [],
   "source": [
    "# Part 1: Create the Product Class\n",
    "class Product:\n",
    "    def __init__(self, name, price):\n",
    "        self.name = name\n",
    "        self.price = price\n",
    "        self.quantity_sold = 0\n",
    "        #[your code here...]\n",
    "\n",
    "# Part 2: Create the SalesData Class\n",
    "class SalesData:\n",
    "    def __init__(self):\n",
    "        self.products = []\n",
    "        #[your code here...]\n",
    "    \n",
    "\n",
    "# Part 3: Using the Classes\n",
    "# Create instances of the Product class\n",
    "product1 = Product(\"Laptop\", 800.0)\n",
    "product2 = Product(\"Phone\", 500.0)\n",
    "\n",
    "#[your code here...]"
   ]
  },
  {
   "cell_type": "markdown",
   "id": "37b8b77c",
   "metadata": {
    "lang": "en"
   },
   "source": [
    "## Herencia\n",
    "\n",
    "La herencia es un concepto fundamental en la programación orientada a objetos que te permite definir nuevas clases basadas en clases existentes. En esta relación, la clase existente se denomina \"clase padre\", \"superclase\" o \"padre\", mientras que la nueva clase se conoce como \"clase hija\" o \"subclase\".\n",
    "\n",
    "La idea clave detrás de la herencia es que una clase hija hereda todas las propiedades (atributos y métodos) de su clase padre. Este mecanismo de herencia proporciona varias ventajas, siendo la reutilización de código uno de los beneficios más significativos.\n",
    "\n",
    "Al heredar de una clase padre, una clase hija puede reutilizar los atributos y métodos definidos en la clase padre, ahorrando a los desarrolladores de reescribir el mismo código. Esto promueve un enfoque más eficiente y organizado para el desarrollo de software, ya que los cambios o actualizaciones se pueden realizar en un solo lugar (la clase padre) y aplicarse automáticamente a todas las clases hijas.\n",
    "\n",
    "Además de heredar atributos y métodos, las clases hijas tienen la flexibilidad de sobrescribir o extender estos elementos heredados. Esto significa que las clases hijas pueden proporcionar sus propias implementaciones de métodos (sobrescritura de métodos) o introducir nuevos atributos y métodos específicos a sus requerimientos.\n",
    "\n",
    "En resumen, la herencia es un concepto poderoso que fomenta la reutilización de código, la mantenibilidad y la flexibilidad en la programación orientada a objetos, permitiendo a los desarrolladores construir sobre clases existentes para crear nuevas con funcionalidades compartidas.\n",
    "\n",
    "![miniyoda](https://media.giphy.com/media/j0eRJzyW7XjMpu1Pqd/giphy.gif)\n",
    "\n",
    "- **Método Definido en la Clase Padre**\n",
    "\n",
    "Cuando un método se define en la clase padre pero no en la clase hija, la clase hija hereda el método sin necesidad de modificación. Esto significa que el método en la clase hija funcionará exactamente de la misma manera que en la clase padre, y no hay requisito de sobrescribirlo.\n",
    "\n",
    "- **Método Definido Solo en la Clase Hija**\n",
    "\n",
    "En algunos casos, un método puede definirse exclusivamente en la clase hija y no en la clase padre. En este escenario, el método pertenece únicamente a la clase hija, y no hay herencia en la dirección opuesta. Este enfoque permite que la clase hija tenga su comportamiento y funcionalidad únicos.\n",
    "\n",
    "- **Método Definido en Ambas Clases, Padre e Hija**\n",
    "\n",
    "Cuando un método se define en ambas clases, la implementación de la clase hija tiene prioridad. Esto significa que el método definido en la clase hija sobrescribirá el método de la clase padre. Sin embargo, hay una manera de utilizar el método original definido en la clase padre mientras se extiende en la clase hija.\n",
    "\n",
    "Para lograr esto, Python proporciona la función `super()`, que permite llamar a cualquier método de la clase padre desde la clase hija. Al invocar `super()`, puedes acceder al método de la clase padre y agregar funcionalidad o comportamiento extra en la clase hija. Es esencial asegurarse de proporcionar todos los atributos y parámetros necesarios al llamar al método de la clase padre a través de `super()`.\n",
    "\n",
    "**Ejemplo 1"
   ]
  },
  {
   "cell_type": "code",
   "execution_count": null,
   "id": "0f449d01",
   "metadata": {},
   "outputs": [],
   "source": [
    "# Parent class\n",
    "class Shape:\n",
    "    def __init__(self, name):\n",
    "        self.name = name\n",
    "    \n",
    "    def get_name(self):\n",
    "        return f\"We are working with a {self.name}.\""
   ]
  },
  {
   "cell_type": "code",
   "execution_count": null,
   "id": "d4ec15c8",
   "metadata": {},
   "outputs": [],
   "source": [
    "# Child class\n",
    "class Circle(Shape):\n",
    "    def __init__(self, name, radius):\n",
    "        super().__init__(name)\n",
    "        self.radius = radius\n",
    "    \n",
    "    def area(self):\n",
    "        return 3.14 * self.radius**2"
   ]
  },
  {
   "cell_type": "code",
   "execution_count": null,
   "id": "da4ec9a6",
   "metadata": {},
   "outputs": [],
   "source": [
    "# Child class\n",
    "class Rectangle(Shape):\n",
    "    def __init__(self, name, length, width):\n",
    "        super().__init__(name)\n",
    "        self.length = length\n",
    "        self.width = width\n",
    "    \n",
    "    def area(self):\n",
    "        return self.length * self.width"
   ]
  },
  {
   "cell_type": "code",
   "execution_count": null,
   "id": "b9bfc1b3",
   "metadata": {},
   "outputs": [],
   "source": [
    "# Creating instances\n",
    "circle = Circle(\"Circle\", 5)\n",
    "rectangle = Rectangle(\"Rectangle\", 4, 6)"
   ]
  },
  {
   "cell_type": "code",
   "execution_count": null,
   "id": "b08f40cc",
   "metadata": {},
   "outputs": [],
   "source": [
    "# Calling methods\n",
    "print(circle.area())       # Uses child class's area method\n",
    "print(circle.get_name())   # Uses parent class's get_name method\n",
    "print(rectangle.area())    # Uses child class's area method\n",
    "print(rectangle.get_name())# Uses parent class's get_name method"
   ]
  },
  {
   "cell_type": "markdown",
   "id": "0e42e586",
   "metadata": {},
   "source": [
    "**Ejemplo 2:**"
   ]
  },
  {
   "cell_type": "code",
   "execution_count": null,
   "id": "5bfd8b43",
   "metadata": {},
   "outputs": [],
   "source": [
    "# Parent class\n",
    "class Animal:\n",
    "    def __init__(self, name):\n",
    "        self.name = name\n",
    "    \n",
    "    def speak(self):\n",
    "        return f\"{self.name} makes a sound\"        "
   ]
  },
  {
   "cell_type": "code",
   "execution_count": null,
   "id": "33b2c2c1",
   "metadata": {},
   "outputs": [],
   "source": [
    "# Child class\n",
    "class Dog(Animal):\n",
    "    def __init__(self, name, breed):\n",
    "        super().__init__(name) #taking the things from PARENT class\n",
    "        self.breed = breed\n",
    "    \n",
    "    def speak(self):\n",
    "        return f\"{self.name} the {self.breed} barks loudly\"\n",
    "    \n",
    "    def fetch(self):\n",
    "        return f\"{self.name} fetches the ball\""
   ]
  },
  {
   "cell_type": "code",
   "execution_count": null,
   "id": "0e6e824b",
   "metadata": {},
   "outputs": [],
   "source": [
    "# Child class\n",
    "class Cat(Animal):\n",
    "    def __init__(self, name, color):\n",
    "        super().__init__(name) #taking the things from PARENT class\n",
    "        self.color = color\n",
    "    \n",
    "    def speak(self):\n",
    "        return f\"{self.name} the {self.color} cat meows softly\"\n",
    "    \n",
    "    def chase_mice(self):\n",
    "        return f\"{self.name} the {self.color} cat is chasing a mouse\""
   ]
  },
  {
   "cell_type": "code",
   "execution_count": null,
   "id": "0d21c9a0",
   "metadata": {},
   "outputs": [],
   "source": [
    "# Creating instances\n",
    "dog = Dog(\"Buddy\", \"Golden Retriever\")\n",
    "cat = Cat(\"Whiskers\", \"Gray\")"
   ]
  },
  {
   "cell_type": "code",
   "execution_count": null,
   "id": "cbcfaa0a",
   "metadata": {},
   "outputs": [],
   "source": [
    "# Calling methods\n",
    "print(dog.speak())         # Overrides parent's speak method\n",
    "print(dog.fetch())         # Additional method in the child class\n",
    "print(cat.speak())         # Overrides parent's speak method\n",
    "print(cat.chase_mice())    # Additional method in the child class"
   ]
  },
  {
   "cell_type": "markdown",
   "id": "4c86dd52",
   "metadata": {},
   "source": [
    "En este ejemplo:\n",
    "\n",
    "- Tenemos una clase padre `Animal` con un método `__init__` para inicializar el atributo `name` y un método `speak` que devuelve un sonido genérico.\n",
    "\n",
    "- Creamos dos clases hijas, `Dog` y `Cat`, que heredan de la clase padre `Animal`.\n",
    "\n",
    "- Ambas clases hijas tienen sus métodos `__init__` que llaman al método `__init__` de la clase padre usando `super()`. También tienen sus métodos `speak`, que sobrescriben el método `speak` de la clase padre para proporcionar sonidos específicos de la especie. Además, cada clase hija tiene su propio método único (`fetch` para `Dog` y `chase_mice` para `Cat`).\n",
    "\n",
    "- Creamos instancias de las clases `Dog` y `Cat` y llamamos a sus métodos. Cuando llamamos al método `speak` en cada instancia, utiliza el método sobrescrito específico de esa clase. Los métodos adicionales (`fetch` y `chase_mice`) también están disponibles para las respectivas instancias.\n",
    "\n",
    "## Resumen\n",
    "\n",
    "# Programación Orientada a Objetos (OOP) Simplificada\n",
    "\n",
    "- OOP es un paradigma de programación \"fascinante\" junto con los estilos imperativo y funcional.\n",
    "- En OOP, todo es un objeto, combinando datos (atributos) y comportamiento (métodos).\n",
    "- Sigue las convenciones de nomenclatura: `class Object()`, `def a_function()`, `CONSTANTS = PI`, `variables`, `one_variable`.\n",
    "  \n",
    "## Instancias: Dando Vida a los Objetos\n",
    "\n",
    "- Las instancias son ejemplos concretos de una clase, como Laura y Albert siendo instancias de la clase Staff.\n",
    "- La clase proporciona el plano, y las instancias lo encarnan.\n",
    "- Para crear instancias, usa `def __init__(self):` y especifica lo que necesita al instanciar.\n",
    "  \n",
    "## El Poder de 'self'\n",
    "\n",
    "- `self` es el objeto refiriéndose a sí mismo, permitiendo el acceso a sus atributos y métodos.\n",
    "- Por ejemplo: `\"sdsdsdsd\".upper()`, `self.time_off`, `self.email`, donde `self` representa al objeto mismo.\n",
    "  \n",
    "## Métodos: Los Hacedores en OOP\n",
    "\n",
    "- Todos los métodos toman `self` como el primer argumento, lo que significa que operan en la instancia misma.\n",
    "- Los métodos también pueden aceptar otros argumentos además de `self`, permitiendo funcionalidades adicionales.\n",
    "  \n",
    "## Atributos Flexibles\n",
    "\n",
    "- Los atributos pueden pasarse al instanciar un objeto o tener valores predeterminados.\n",
    "- Por ejemplo, una dirección de correo electrónico o días de vacaciones pueden establecerse como atributos predeterminados.\n",
    "  \n",
    "## Herencia de Clase: Construyendo sobre Fundaciones\n",
    "\n",
    "- La herencia te permite crear clases especializadas a partir de existentes.\n",
    "- Por ejemplo: `class Staff()`, `class Marketing(Staff)`, `class PaidSocialMedia(Marketing)`.\n",
    "  \n",
    "## Las Instancias Reciben Valores\n",
    "\n",
    "- Las instancias pueden recibir valores, incluidos atributos de otros objetos.\n",
    "- Al igual que Mario puede adquirir el poder de un champiñón, los objetos pueden intercambiar datos.\n",
    "- Por ejemplo, un gimnasio puede registrar la cantidad de membresía de un nuevo cliente.\n",
    "\n",
    "En esta guía simplificada, hemos explorado conceptos clave de OOP, desmitificando este poderoso paradigma de programación. OOP aporta estructura y organización al código, facilitando su diseño, comprensión y mantenimiento.\n",
    "\n",
    "## Materiales adicionales\n",
    "\n",
    "- Tutorial de Youtube por [Corey Schafer](https://www.youtube.com/watch?v=ZDa-Z5JzLYM)\n",
    "- [Real Python](https://docs.hektorprofe.net/python/programacion-orientada-a-objetos/clases-y-objetos/)\n",
    "- [Lectura interesante](https://medium.com/@shaistha24/programacion-funcional-vs-programacion-orientada-a-objetos-oop-cual-es-mejor-82172e53a526) --> Programación OOP vs Programación Funcional\n",
    "\n",
    "### Métodos **AVANZADOS** @classmethod@staticmethod\n",
    "* [Real Python - @classmethod/@stathicmethod](https://realpython.com/instance-class-and-static-methods-demystified/). Python avanzado con decoradores (los mencionaremos más adelante)"
   ]
  },
  {
   "cell_type": "markdown",
   "id": "d590f49c",
   "metadata": {},
   "source": [
    "## Soluciones"
   ]
  },
  {
   "cell_type": "code",
   "execution_count": null,
   "id": "4b38b429",
   "metadata": {},
   "outputs": [],
   "source": [
    "# Part 1: Create the Product Class\n",
    "class Product:\n",
    "    def __init__(self, name, price):\n",
    "        self.name = name\n",
    "        self.price = price\n",
    "        self.quantity_sold = 0\n",
    "    \n",
    "    def sell(self, quantity):\n",
    "        if quantity > 0:\n",
    "            self.quantity_sold += quantity\n",
    "        else:\n",
    "            print(\"Invalid quantity. Please enter a positive number.\")\n",
    "    \n",
    "    def get_revenue(self):\n",
    "        return self.price * self.quantity_sold\n",
    "\n",
    "# Part 2: Create the SalesData Class\n",
    "class SalesData:\n",
    "    def __init__(self):\n",
    "        self.products = []\n",
    "    \n",
    "    def add_product(self, product):\n",
    "        self.products.append(product)\n",
    "    \n",
    "    def get_total_revenue(self):\n",
    "        total_revenue = 0\n",
    "        for product in self.products:\n",
    "            total_revenue += product.get_revenue()\n",
    "        return total_revenue\n",
    "    \n",
    "    def get_best_selling_product(self):\n",
    "        if not self.products:\n",
    "            return None\n",
    "        \n",
    "        best_product = self.products[0]\n",
    "        for product in self.products:\n",
    "            if product.quantity_sold > best_product.quantity_sold:\n",
    "                best_product = product\n",
    "        return best_product\n",
    "\n",
    "# Part 3: Using the Classes\n",
    "# Create instances of the Product class\n",
    "product1 = Product(\"Laptop\", 800.0)\n",
    "product2 = Product(\"Phone\", 500.0)\n",
    "\n",
    "# Create an instance of the SalesData class\n",
    "sales_data = SalesData()\n",
    "\n",
    "# Add the created product instances to the SalesData instance\n",
    "sales_data.add_product(product1)\n",
    "sales_data.add_product(product2)\n",
    "\n",
    "# Simulate sales for each product\n",
    "product1.sell(5)\n",
    "product2.sell(8)\n",
    "\n",
    "# Calculate the total revenue\n",
    "total_revenue = sales_data.get_total_revenue()\n",
    "print(f\"Total Revenue: ${total_revenue:.2f}\")\n",
    "\n",
    "# Identify the best-selling product\n",
    "best_selling_product = sales_data.get_best_selling_product()\n",
    "if best_selling_product:\n",
    "    print(f\"Best Selling Product: {best_selling_product.name}\")\n",
    "else:\n",
    "    print(\"No products in sales data.\")"
   ]
  }
 ],
 "metadata": {
  "kernelspec": {
   "display_name": "Python 3 (ipykernel)",
   "language": "python",
   "name": "python3"
  },
  "language_info": {
   "codemirror_mode": {
    "name": "ipython",
    "version": 3
   },
   "file_extension": ".py",
   "mimetype": "text/x-python",
   "name": "python",
   "nbconvert_exporter": "python",
   "pygments_lexer": "ipython3",
   "version": "3.9.13"
  },
  "nbTranslate": {
   "displayLangs": [
    "en",
    "es"
   ],
   "hotkey": "alt-a",
   "langInMainMenu": true,
   "sourceLang": "es",
   "targetLang": "en",
   "useGoogleTranslate": true
  },
  "toc": {
   "base_numbering": 1,
   "nav_menu": {},
   "number_sections": true,
   "sideBar": true,
   "skip_h1_title": true,
   "title_cell": "Table of Contents",
   "title_sidebar": "Contents",
   "toc_cell": true,
   "toc_position": {
    "height": "calc(100% - 180px)",
    "left": "10px",
    "top": "150px",
    "width": "288px"
   },
   "toc_section_display": true,
   "toc_window_display": false
  }
 },
 "nbformat": 4,
 "nbformat_minor": 5
}
