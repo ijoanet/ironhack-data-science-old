{
 "cells": [
  {
   "cell_type": "markdown",
   "id": "94342407",
   "metadata": {},
   "source": [
    "# Comprensión del Pseudocódigo: Un Camino hacia el Diseño Efectivo de Algoritmos\n",
    "\n",
    "El pseudocódigo es una herramienta valiosa utilizada en ciencias de la computación y programación para planificar, esbozar y diseñar algoritmos de manera legible y estructurada para humanos. No es un lenguaje de programación formal, sino más bien un método para expresar la lógica y los pasos de un programa antes de comenzar a codificar de hecho.\n",
    "\n",
    "## El Papel del Pseudocódigo\n",
    "\n",
    "El pseudocódigo actúa como un paso intermedio entre la resolución de problemas y la escritura del código real. Permite a los programadores enfocarse en la lógica y funcionalidad del algoritmo sin preocuparse por las reglas de sintaxis específicas del lenguaje. El pseudocódigo es especialmente útil para:\n",
    "\n",
    "- **Desarrollo de Algoritmos:** El pseudocódigo te ayuda a planificar y visualizar los pasos necesarios para resolver un problema o lograr una tarea específica.\n",
    "- **Comunicación:** Sirve como un medio para discutir y compartir ideas algorítmicas con compañeros, miembros del equipo o partes interesadas.\n",
    "- **Claridad:** El pseudocódigo mejora la claridad de tu proceso de pensamiento, facilitando la comprensión de algoritmos complejos.\n",
    "- **Resolución de Problemas:** Ayuda a identificar problemas potenciales o ineficiencias en un algoritmo antes de su implementación.\n",
    "\n",
    "## Sintaxis del Pseudocódigo\n",
    "\n",
    "El pseudocódigo es una manera flexible e informal de representar algoritmos. No hay reglas estrictas o requisitos de sintaxis, pero algunas convenciones comunes incluyen:\n",
    "\n",
    "- Usar lenguaje sencillo: Escribe pseudocódigo de una manera que sea fácilmente comprensible tanto para individuos técnicos como no técnicos.\n",
    "- Emplear construcciones de programación estándar: Puedes usar construcciones de programación familiares como bucles, condicionales y funciones en tu pseudocódigo.\n",
    "- Indentación: Mantén una indentación consistente para significar bloques de código o declaraciones anidadas.\n",
    "\n",
    "## Pseudocódigo vs. Código Real\n",
    "\n",
    "El pseudocódigo se distingue de los lenguajes de programación reales en que no se adhiere a la sintaxis de ningún lenguaje específico. Esta distinción es intencional, permitiéndote concentrarte únicamente en la lógica y los aspectos de resolución de problemas de un algoritmo.\n",
    "\n",
    "En este cuaderno de pseudocódigo, explorarás varios ejemplos, ejercicios y aplicaciones prácticas para dominar el arte de diseñar algoritmos eficientes y efectivos. El pseudocódigo es una habilidad valiosa para cualquier programador, ya que sienta las bases para escribir código limpio y bien estructurado.\n",
    "\n",
    "¡Embarquémonos en este viaje de pensamiento algorítmico y resolución de problemas a través del lente del pseudocódigo!\n",
    "![](https://builtin.com/sites/www.builtin.com/files/styles/ckeditor_optimize/public/inline-images/national/pseudocode%2520example_0.png)"
   ]
  },
  {
   "cell_type": "markdown",
   "id": "c446351d",
   "metadata": {},
   "source": [
    "# Cuaderno de Pseudocódigo\n",
    "\n",
    "## Ejemplo: Seguidor de Gastos Mensuales\n",
    "\n",
    "### Declaración del Problema:\n",
    "Imagina que formas parte de un pequeño equipo de negocio, y tu gerente se ha acercado a ti con una tarea. Quieren que crees un programa fácil de usar para ayudar a rastrear los gastos mensuales. Tu programa debe permitir a los usuarios ingresar gastos diarios y, al final del mes, calcular sin esfuerzo el gasto total."
   ]
  },
  {
   "cell_type": "markdown",
   "id": "fa2fa8bc",
   "metadata": {},
   "source": [
    "### Solución de pseudocodígo:\n",
    "\n",
    "```plaintext\n",
    "# Inicializar variables\n",
    "total_gastos = 0\n",
    "gastos_diarios = []\n",
    "contador_dias = 1\n",
    "\n",
    "# Mostrar encabezado\n",
    "PRINT(\"Seguidor de Gastos Mensuales\")\n",
    "PRINT(\"Ingresa los gastos diarios. Escribe 'terminado' cuando hayas terminado.\")\n",
    "\n",
    "# Ingresar gastos diarios hasta que se introduzca 'terminado'\n",
    "REPEAT UNTIL gasto_diario == 'terminado':\n",
    "    READ gasto_diario\n",
    "    gasto = PARSE_FLOAT(gasto_diario)\n",
    "    total_gastos += gasto\n",
    "    gastos_diarios.APPEND(gasto)\n",
    "    contador_dias += 1\n",
    "\n",
    "# Mostrar gastos de cada día\n",
    "PRINT(\"Gastos de cada día:\")\n",
    "numero_dia = 1\n",
    "FOR EACH gasto IN gastos_diarios:\n",
    "    PRINT(\"Día \" + STRING(numero_dia) + \": $\" + STRING(gasto))\n",
    "    numero_dia += 1\n",
    "\n",
    "# Mostrar el total de gastos mensuales\n",
    "PRINT(\"Total de gastos mensuales: $\" + STRING(total_gastos))\n",
    "```\n",
    "\n",
    "### Declaración del Problema: Inventario de Tienda en Línea\n",
    "\n",
    "Se te ha encargado crear un programa simple para una tienda en línea. El programa debería ayudar a gestionar el inventario de productos disponibles en la tienda. El inventario consta de varios productos con sus respectivos nombres, precios y cantidades en stock.\n",
    "\n",
    "Tu programa debe tener las siguientes características:\n",
    "\n",
    "- Inicializar un inventario vacío para empezar.\n",
    "- Permitir al usuario añadir nuevos productos al inventario. Cada producto debe tener un nombre, precio y cantidad inicial en stock.\n",
    "- Mostrar el inventario actual, mostrando el nombre, precio y cantidad de cada producto.\n",
    "- Permitir al usuario buscar un producto específico por nombre y ver sus detalles (precio y cantidad).\n",
    "- Habilitar al usuario para actualizar la cantidad de un producto específico en stock.\n",
    "- Implementar una función para calcular y mostrar el valor total de todo el inventario.\n",
    "\n",
    "Tu pseudocódigo debe esbozar los pasos y la lógica para crear este programa, sin preocuparte por la sintaxis de programación específica."
   ]
  },
  {
   "cell_type": "code",
   "execution_count": null,
   "id": "fe34844a",
   "metadata": {},
   "outputs": [],
   "source": [
    "# Aporta tu solución aquí"
   ]
  }
 ],
 "metadata": {
  "kernelspec": {
   "display_name": "Python 3 (ipykernel)",
   "language": "python",
   "name": "python3"
  },
  "language_info": {
   "codemirror_mode": {
    "name": "ipython",
    "version": 3
   },
   "file_extension": ".py",
   "mimetype": "text/x-python",
   "name": "python",
   "nbconvert_exporter": "python",
   "pygments_lexer": "ipython3",
   "version": "3.9.13"
  }
 },
 "nbformat": 4,
 "nbformat_minor": 5
}
