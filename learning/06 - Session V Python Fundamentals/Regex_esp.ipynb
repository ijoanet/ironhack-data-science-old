{
 "cells": [
  {
   "cell_type": "markdown",
   "metadata": {
    "slideshow": {
     "slide_type": "slide"
    }
   },
   "source": [
    "# Introducción avanzada a las expresiones regulares (Regex) en el análisis de datos\n"
   ]
  },
  {
   "cell_type": "markdown",
   "metadata": {
    "slideshow": {
     "slide_type": "slide"
    }
   },
   "source": [
    "<img src=\"https://miro.medium.com/max/2392/0*1-i9w0e4kklVQl5B.jpg\">"
   ]
  },
  {
   "cell_type": "markdown",
   "metadata": {
    "slideshow": {
     "slide_type": "slide"
    }
   },
   "source": [
    "Se estima que el 80% de los datos son **no estructurados**\n",
    "\n",
    "¡Y los datos **no estructurados** son básicamente **datos de texto**!\n",
    "\n",
    "El texto está presente en cada proceso de negocio importante, desde los tickets de soporte hasta la retroalimentación de productos y las interacciones con los clientes.\n",
    "\n",
    "No hay duda de que el análisis de texto tiene una amplia gama de aplicaciones y casos de uso en el negocio:\n",
    "* Entender al cliente\n",
    "* Gestión de riesgos\n",
    "* Predicción y prevención del crimen\n",
    "* Publicidad personalizada\n",
    "* ..."
   ]
  },
  {
   "cell_type": "markdown",
   "metadata": {
    "slideshow": {
     "slide_type": "slide"
    }
   },
   "source": [
    "# Introducción a las Expresiones Regulares (Regex) en el Análisis de Datos\n",
    "\n",
    "Las Expresiones Regulares, a menudo abreviadas como Regex, son herramientas esenciales en el análisis de datos para procesar y manipular datos textuales. Regex proporciona un método para buscar y manipular cadenas utilizando una sintaxis especializada que define patrones.\n",
    "\n",
    "## ¿Qué es Regex?\n",
    "\n",
    "Regex es una secuencia de caracteres que forma un patrón de búsqueda. Se puede usar para realizar diversas tareas de procesamiento de texto, tales como:\n",
    "\n",
    "- **Coincidencia de Patrones**: Buscar patrones específicos dentro del texto.\n",
    "- **Validación de Datos**: Asegurar que los datos estén en un formato correcto.\n",
    "- **Extracción de Datos**: Extraer porciones específicas del texto basadas en patrones.\n",
    "- **Sustitución de Texto**: Reemplazar partes del texto utilizando la coincidencia de patrones.\n",
    "\n",
    "# Contexto Histórico de las Expresiones Regulares en el Análisis de Datos\n",
    "\n",
    "Las Expresiones Regulares (Regex) tienen una rica historia que se remonta a los años 1950, con conceptos fundamentales desarrollados por el matemático estadounidense Stephen Kleene. Esta sección tiene como objetivo proporcionar una visión histórica más profunda sobre Regex y su evolución en el contexto del análisis de datos.\n",
    "\n",
    "## El Origen de las Expresiones Regulares\n",
    "\n",
    "- **Contribución de Stephen Kleene**: En 1956, Stephen Kleene introdujo el concepto de Expresiones Regulares en su artículo \"Representation of Events in Nerve Nets and Finite Automata\" en el libro \"Automata Studies\", editado por Claude Shannon y John McCarthy. Esto formalizó la descripción de los lenguajes regulares.\n",
    "- **Unix y Regex**: El uso generalizado de Regex comenzó con utilidades de procesamiento de texto de Unix como `ed`, un editor, y `grep` (print de expresión regular global), un filtro. Estas herramientas hicieron de Regex una parte fundamental del procesamiento de texto y el reconocimiento de patrones en la informática.\n",
    "\n",
    "## Regex en la Informática\n",
    "\n",
    "- **Procesador de Expresiones Regulares**: Este procesador traduce una expresión regular en un autómata finito no determinista (NFA), donde varios estados pueden resultar de un estado dado y símbolo. Este autómata se hace entonces determinista (con solo una posible transición de estado para un símbolo particular) y se utiliza para reconocer subcadenas que coinciden con la expresión regular.\n",
    "\n",
    "## El Papel de Regex en el Análisis de Datos\n",
    "\n",
    "En el análisis de datos, Regex se vuelve particularmente poderoso en escenarios como:\n",
    "\n",
    "- **Preprocesamiento de Datos de Texto**: Limpieza y estandarización de datos de texto para análisis.\n",
    "- **Análisis de Archivos de Registro**: Analizar archivos de registro para extraer información relevante.\n",
    "- **Procesamiento de Lenguaje Natural**: Identificar y manipular patrones lingüísticos.\n",
    "- **Raspado de Datos**: Extracción de información de fuentes de datos no estructuradas.\n",
    "\n",
    "## Sintaxis y Operaciones de Regex\n",
    "\n",
    "Las operaciones de Regex se basan en una sintaxis única que incluye una variedad de caracteres especiales y construcciones. Algunos elementos comunes incluyen:\n",
    "\n",
    "- `.`: Coincide con cualquier carácter\n",
    "- `*`: Cero o más ocurrencias\n",
    "- `+`: Una o más ocurrencias\n",
    "- `?`: Cero o una ocurrencia\n",
    "- `[ ]`: Un conjunto de caracteres\n",
    "- `{ }`: Un número específico de ocurrencias\n",
    "- `( )`: Captura y agrupa\n",
    "\n",
    "## Recursos y Lecturas Adicionales\n",
    "\n",
    "Para aquellos nuevos en Regex, o buscando profundizar su entendimiento, los siguientes recursos pueden ser invaluables:\n",
    "\n",
    "- [Inicio Rápido de Expresiones Regulares](https://www.regular-expressions.info/quickstart.html)\n",
    "- [RegexOne - Aprende Expresiones Regulares con ejercicios simples e interactivos](https://regexone.com/)\n",
    "- [Documentación del Módulo `re` de Python](https://docs.python.org/3/library/re.html)\n",
    "\n",
    "Dominando Regex, los analistas de datos pueden realizar análisis de texto y manipulación de datos más sofisticados, mejorando sus capacidades generales de análisis de datos."
   ]
  },
  {
   "cell_type": "code",
   "execution_count": null,
   "metadata": {
    "slideshow": {
     "slide_type": "slide"
    }
   },
   "outputs": [],
   "source": [
    "# Importando el módulo de expresiones regulares de la biblioteca estándar de Python\n",
    "import re\n",
    "\n",
    "# Cadenas que se buscarán para coincidir con patrones de regex\n",
    "str1 = \"varks Aard pertenecen al Capitán\"\n",
    "str2 = \"La famosa ecuación de Albert, E = mc^2.\"\n",
    "str3 = \"Ubicado en 455 Serra Mall.\"\n",
    "str4 = \"¡Cuidado con los cambiaformas!\"\n",
    "\n",
    "# Creando una lista de cadenas para probar patrones de regex\n",
    "test_strings = [str1, str2, str3, str4]"
   ]
  },
  {
   "cell_type": "code",
   "execution_count": null,
   "metadata": {},
   "outputs": [],
   "source": [
    "# Iterando a través de cada cadena en la lista test_strings\n",
    "for test_string in test_strings:\n",
    "    # Imprimiendo la cadena de prueba para referencia\n",
    "    print('\\nLa cadena de prueba es \"' + test_string + '\"')\n",
    "    \n",
    "    # Usando re.search() para encontrar la primera ubicación donde el patrón de regex '[í]' coincide\n",
    "    # '[í]' es un patrón de regex que busca el carácter 'í' en la cadena\n",
    "    match = re.search('[í]', test_string)\n",
    "\n",
    "    # Comprobando si se encontró una coincidencia\n",
    "    if match:\n",
    "        # Imprimiendo el carácter coincidente si se encuentra una coincidencia\n",
    "        # match.group() devuelve la parte de la cadena donde hay una coincidencia\n",
    "        print('- La primera coincidencia posible es: ' + match.group())\n",
    "    else:\n",
    "        # Indicando que no se encontró ninguna coincidencia si el patrón de regex no coincide con ninguna parte de la cadena\n",
    "        print('- ** no hay coincidencia. **')"
   ]
  },
  {
   "cell_type": "markdown",
   "metadata": {
    "slideshow": {
     "slide_type": "slide"
    }
   },
   "source": [
    "Vamos a desglosar el código anterior línea por línea para una mejor comprensión:\n",
    "\n",
    "### 1. Iterando Sobre Cada Cadena en la Lista\n",
    "for test_string in test_strings:\n",
    "`test_strings` es una lista que contiene múltiples cadenas. En este bucle `for`, iteramos sobre cada elemento de la lista. Durante cada iteración, `test_string` se refiere a la cadena actual que se está procesando.\n",
    "\n",
    "### 2. Imprimiendo la Cadena de Prueba Actual\n",
    "print('La cadena de prueba es \"' + test_string + '\"')\n",
    "Esta línea simplemente muestra la cadena actual que se está examinando en el bucle. Ayuda a rastrear a qué cadena se le está aplicando el regex.\n",
    "\n",
    "### 3. Buscando un Patrón en la Cadena\n",
    "match = re.search(r'[A-Z]', test_string)\n",
    "Aquí, `re.search()` se utiliza para encontrar la primera ubicación dentro de `test_string` donde el patrón de regex `[A-Z]` coincide. Este patrón busca cualquier letra mayúscula de la A a la Z. La función devuelve un objeto `SRE_Match` si se encuentra una coincidencia, y `None` si no se encuentra ninguna.\n",
    "\n",
    "### 4. Comprobando si Hay una Coincidencia e Imprimiendo el Resultado\n",
    "\n",
    " `\n",
    "if match:\n",
    "    print('The first possible match is: ' + match.group())\n",
    "else:\n",
    "    print('no match.')\n",
    " `\n",
    "\n",
    "\n",
    "En esta sección, comprobamos si `match` es un objeto `SRE_Match` o `None`. Si es `SRE_Match`, significa que se encontró una coincidencia, y imprimimos la subcadena coincidente usando `match.group()`. `group()` es un método de los objetos `SRE_Match` que devuelve la parte de la cadena donde se encontró la coincidencia. Si `match` es `None`, implica que no se encontró ninguna coincidencia, y imprimimos un mensaje indicándolo.\n",
    "\n",
    "### 5. Entendiendo el Comportamiento de `re.search()`\n",
    "- Coincidencia de un Solo Carácter: Dado que el patrón `[A-Z]` está diseñado para coincidir con un solo carácter mayúscula, `re.search()` devuelve solo el primer carácter que coincide.\n",
    "- Solo la Primera Coincidencia: `re.search()` detiene la búsqueda después de encontrar la primera coincidencia. No continúa buscando más coincidencias en la cadena.\n",
    "\n",
    "### 6. Alternativa: Encontrar Todas las Coincidencias\n",
    "Si el objetivo es encontrar todas las coincidencias de un patrón en una cadena, se debería usar `re.findall()` en su lugar. Esta función devuelve una lista que contiene todas las coincidencias del patrón en la cadena, no solo la primera.\n",
    "matches = re.findall(r'[A-Z]', test_string)\n",
    "Esto devolvería una lista de todos los caracteres mayúsculas encontrados en `test_string`."
   ]
  },
  {
   "cell_type": "code",
   "execution_count": null,
   "metadata": {},
   "outputs": [],
   "source": [
    "# Como recapitulación de test_string\n",
    "test_strings = [\n",
    "    \"varks Aard pertenecen al Capitán\",\n",
    "    \"La famosa ecuación de Albert, E = mc^2.\",\n",
    "    \"Ubicado en 455 Serra Mall.\",\n",
    "    \"¡Cuidado con los cambiaformas!\"\n",
    "]\n",
    "\n",
    "# Iterando sobre cada cadena en la lista test_strings\n",
    "for string in test_strings:\n",
    "    # Imprimiendo la cadena actual\n",
    "    print(string)\n",
    "    \n",
    "    # Usando re.findall para buscar todas las ocurrencias del patrón de regex en la cadena\n",
    "    # El patrón '[A-Z]' coincide con cualquier letra mayúscula de la A a la Z\n",
    "    matches = re.findall(r'[A-Z]', string)\n",
    "    \n",
    "    # Imprimiendo la lista de coincidencias encontradas en la cadena actual\n",
    "    # Cada coincidencia es una letra mayúscula de la cadena\n",
    "    print(\"-\", matches, \"\\n\")"
   ]
  },
  {
   "cell_type": "markdown",
   "metadata": {
    "slideshow": {
     "slide_type": "slide"
    }
   },
   "source": [
    "Cuando trabajas con expresiones regulares en Python, tienes la opción de compilar tus patrones de regex en objetos de patrón. Esto puede mejorar el rendimiento, especialmente si vas a usar el mismo patrón varias veces. La precompilación convierte tu patrón de regex en un objeto `SRE_Pattern`, que luego se puede usar para realizar operaciones de coincidencia, búsqueda y otras.\n",
    "\n",
    "## ¿Por qué Precompilar Regex?\n",
    "\n",
    "- **Rendimiento**: Compilar un patrón una vez y usarlo varias veces es más eficiente que interpretar el mismo patrón repetidamente.\n",
    "- **Organización**: Si tienes múltiples patrones, compilarlos en objetos ayuda a mantener tu código organizado.\n",
    "- **Reutilización**: Una vez compilado, el mismo objeto de patrón se puede usar en múltiples operaciones de coincidencia/búsqueda sin necesidad de recompilación.\n",
    "- **Legibilidad**: Te permite asignar nombres descriptivos a tus patrones, haciendo que tu código sea más legible.\n",
    "\n",
    "## Cómo Precompilar Patrones de Regex\n",
    "\n",
    "Aquí hay un ejemplo de cómo precompilar patrones de regex en Python:\n",
    "\n",
    "```python\n",
    "import re\n",
    "\n",
    "# Precompilar el patrón para coincidir con cualquier letra mayúscula\n",
    "pattern_uppercase = re.compile(r'[A-Z]')\n",
    "\n",
    "# Ahora puedes usar pattern_uppercase para buscar dentro de cadenas\n",
    "match = pattern_uppercase.search('Hello World')\n",
    "if match:\n",
    "    print('Letra mayúscula encontrada:', match.group())\n",
    "\n",
    "```\n",
    "En este código, `re.compile` se usa para compilar el patrón de regex `[A-Z]` que coincide con cualquier letra mayúscula. El objeto resultante `pattern_uppercase` se puede usar para buscar a través de cadenas sin tener que recompilar el patrón cada vez, lo que lleva a una ejecución más eficiente, particularmente cuando se trata de grandes cantidades de texto o muchas búsquedas.\n",
    "\n",
    "Incluso puedes almacenar múltiples patrones compilados en una lista y iterar sobre ellos, como se muestra en el siguiente ejemplo:"
   ]
  },
  {
   "cell_type": "code",
   "execution_count": null,
   "metadata": {},
   "outputs": [],
   "source": [
    "# Importar el módulo de expresiones regulares\n",
    "import re\n",
    "\n",
    "# Definir una lista de patrones de regex\n",
    "patterns = [\n",
    "    '[ABC]',                # Coincide con cualquiera de 'A', 'B' o 'C'\n",
    "    '[^ABC]',               # Coincide con cualquier carácter excepto 'A', 'B' o 'C'\n",
    "    '[ABC^]',               # Coincide con 'A', 'B', 'C' o '^'\n",
    "    '[0-9]',                # Coincide con cualquier dígito único del '0' al '9'\n",
    "    '[0-4]',                # Coincide con cualquier dígito único del '0' al '4'\n",
    "    '[A-Z]',                # Coincide con cualquier letra mayúscula de la 'A' a la 'Z'\n",
    "    '[a-z]',                # Coincide con cualquier letra minúscula de la 'a' a la 'z'\n",
    "    '[A-Za-z]',             # Coincide con cualquier letra sin importar el caso\n",
    "    '[A-Za-z0-9]',          # Coincide con cualquier carácter alfanumérico\n",
    "    '[-a-z]',               # Coincide con '-' o cualquier letra minúscula\n",
    "    '[- a-z]'               # Coincide con '-', espacio o cualquier letra minúscula\n",
    "]\n",
    "\n",
    "# Compilar los patrones para crear objetos SRE_Pattern para una coincidencia eficiente\n",
    "compiled_patterns = [re.compile(p) for p in patterns]\n",
    "\n",
    "# Función para encontrar la primera coincidencia de un patrón en una cadena dada\n",
    "def find_match(compiled_pattern, string):\n",
    "    match = compiled_pattern.search(string)  # Realizar la búsqueda usando el patrón compilado\n",
    "    return match.group() if match else 'sin coincidencias.'  # Devolver el texto coincidente o 'sin coincidencias.'\n",
    "\n",
    "# Lista de cadenas de prueba para coincidir\n",
    "test_strings = [\n",
    "    \"ABC fácil como 123\",\n",
    "    \"Simple como do re mi\",\n",
    "    \"ABC, 123, nena, tú y yo chica\"\n",
    "]\n",
    "\n",
    "# Iterar sobre cada cadena en la lista test_strings\n",
    "for test_string in test_strings:\n",
    "    # Imprimir la cadena de prueba para claridad\n",
    "    print(f\"En: \\\"{test_string}\\\"\")\n",
    "    # Encontrar e imprimir la primera coincidencia para cada patrón compilado\n",
    "    for compiled_pattern in compiled_patterns:\n",
    "        # Recuperar la representación de cadena del patrón para la salida\n",
    "        pattern_text = compiled_pattern.pattern\n",
    "        # Encontrar la primera coincidencia para el patrón en la cadena de prueba actual\n",
    "        match_text = find_match(compiled_pattern, test_string)\n",
    "        # Imprimir el patrón y su primera coincidencia (o 'sin coincidencias.')\n",
    "        print(f' - La primera coincidencia potencial para \"{pattern_text}\" \\t es: {match_text}')\n",
    "    # Imprimir una nueva línea para una mejor separación de la salida en la consola\n",
    "    print()"
   ]
  },
  {
   "cell_type": "markdown",
   "metadata": {},
   "source": [
    "Este script de Python demuestra cómo usar expresiones regulares (regex) para encontrar patrones dentro de cadenas. Los comentarios en el código ayudarán a explicar cada paso del proceso.\n",
    "\n",
    "## Definiendo Patrones de Regex\n",
    "\n",
    "Definimos una lista de patrones de regex. Cada patrón es una cadena que especifica una regla para lo que constituye una coincidencia:\n",
    "\n",
    "- `[ABC]`: Coincide con cualquiera de 'A', 'B' o 'C'.\n",
    "- `[^ABC]`: Coincide con cualquier carácter excepto 'A', 'B' o 'C'.\n",
    "- `[ABC^]`: Coincide con 'A', 'B', 'C' o '^'.\n",
    "- `[0-9]`: Coincide con cualquier dígito único del '0' al '9'.\n",
    "- `[0-4]`: Coincide con cualquier dígito único del '0' al '4'.\n",
    "- `[A-Z]`: Coincide con cualquier letra mayúscula de la 'A' a la 'Z'.\n",
    "- `[a-z]`: Coincide con cualquier letra minúscula de la 'a' a la 'z'.\n",
    "- `[A-Za-z]`: Coincide con cualquier letra sin importar el caso.\n",
    "- `[A-Za-z0-9]`: Coincide con cualquier carácter alfanumérico.\n",
    "- `[-a-z]`: Coincide con '-' o cualquier letra minúscula.\n",
    "- `[- a-z]`: Coincide con '-', espacio o cualquier letra minúscula.\n",
    "\n",
    "patterns = [...]\n",
    "\n",
    "## Compilando los Patrones\n",
    "\n",
    "Cada patrón en la lista se compila para una coincidencia eficiente. Esto es particularmente útil cuando un patrón se usa varias veces.\n",
    "\n",
    "`\n",
    "compiled_patterns = [re.compile(p) for p in patterns]\n",
    "`\n",
    "\n",
    "## Definiendo la Función `find_match`\n",
    "\n",
    "La función `find_match` busca la primera coincidencia de un patrón compilado dentro de una cadena dada. Si se encuentra una coincidencia, devuelve el texto coincidente; de lo contrario, devuelve 'sin coincidencias.'\n",
    "\n",
    "`\n",
    "def find_match(compiled_pattern, string):\n",
    "    ...\n",
    "`\n",
    "\n",
    "## Cadenas de Prueba\n",
    "\n",
    "Se define una lista de cadenas de prueba, que se buscarán para encontrar coincidencias contra los patrones.\n",
    "\n",
    "`\n",
    "test_strings = [...]\n",
    "`\n",
    "\n",
    "## Realizando la Coincidencia de Patrones\n",
    "\n",
    "El script itera sobre cada cadena en `test_strings`, y para cada cadena, aplica todos los patrones de regex compilados. Para cada patrón, imprime la primera coincidencia encontrada o 'sin coincidencias.' si no se encuentra ninguna.\n",
    "\n",
    "`\n",
    "for test_string in test_strings:\n",
    "    print(f\"En: \\\"{test_string}\\\"\")\n",
    "    for compiled_pattern in compiled_patterns:\n",
    "        ...\n",
    "    print()\n",
    "`\n",
    "\n",
    "## Trabajando con Listas de Patrones Compilados\n",
    "\n",
    "Incluso puedes almacenar múltiples patrones compilados en una lista y iterar sobre ellos, como se muestra en el siguiente ejemplo:\n",
    "\n",
    "`\n",
    "print(patterns[1])\n",
    "print(patterns[1].pattern)\n",
    "`\n",
    "\n",
    "En esta sección, demostramos cómo acceder y usar patrones compilados individuales de la lista. La expresión `patterns[1]` hace referencia al segundo patrón compilado en la lista. Al imprimir `patterns[1].pattern`, podemos ver el patrón de regex actual como una cadena.\n",
    "\n",
    "Este proceso ayuda a identificar qué parte de la cadena coincide con los patrones dados y es una manera práctica de aprender y entender las aplicaciones de regex en Python."
   ]
  },
  {
   "cell_type": "code",
   "execution_count": null,
   "metadata": {},
   "outputs": [],
   "source": [
    "import re  # Importando el módulo de expresiones regulares\n",
    "\n",
    "# Definiendo la cadena que vamos a comprobar\n",
    "needle = 'needlers'\n",
    "\n",
    "# Enfoque de Python: Usando comprensión de listas y any()\n",
    "# Esta línea verifica si la cadena 'needle' termina con alguno de los sufijos especificados ('ly', 'ed', 'ing', 'ers')\n",
    "# any() devuelve True si al menos una de las condiciones es True\n",
    "print(any([needle.endswith(e) for e in ('ly', 'ed', 'ing', 'ers')]))\n",
    "\n",
    "# Expresión regular al vuelo en Python\n",
    "# Esto utiliza expresiones regulares para comprobar si 'needle' termina con los sufijos especificados\n",
    "# La función search() busca en 'needle' cualquier coincidencia con el patrón de expresión regular\n",
    "# bool() se utiliza para convertir el resultado en True o False\n",
    "print(bool(re.search(r'(ly|ed|ing|ers)$', needle)))\n",
    "\n",
    "# Expresión regular compilada en Python\n",
    "# Compilando el patrón de expresión regular para un reuso más rápido\n",
    "# Esto es más eficiente si el patrón se usa varias veces\n",
    "comp = re.compile(r'(ly|ed|ing|ers)$')\n",
    "print(bool(comp.search(needle)))\n",
    "\n",
    "# Los comandos %timeit se usan en Jupyter Notebooks para medir el tiempo de ejecución de pequeños fragmentos de código\n",
    "# -n 1000 especifica que el comando se ejecutará 1000 veces en cada bucle\n",
    "# -r 50 indica que habrá 50 de estos bucles\n",
    "# Esto se utiliza para obtener una medida más precisa del tiempo de ejecución promediando múltiples ejecuciones\n",
    "\n",
    "# %timeit para el enfoque de Python\n",
    "%timeit -n 1000 -r 50 bool(any([needle.endswith(e) for e in ('ly', 'ed', 'ing', 'ers')]))\n",
    "\n",
    "# %timeit para la expresión regular al vuelo\n",
    "%timeit -n 1000 -r 50 bool(re.search(r'(ly|ed|ing|ers)$', needle))\n",
    "\n",
    "# %timeit para la expresión regular compilada\n",
    "%timeit -n 1000 -r 50 bool(comp.search(needle))"
   ]
  },
  {
   "cell_type": "markdown",
   "metadata": {},
   "source": [
    "### Resumen de términos para expresiones regulares\n",
    "\n",
    "### Terminología de Expresiones Regulares\n",
    "\n",
    "Las expresiones regulares (regex o regexp) son herramientas poderosas para el emparejamiento de patrones y la manipulación de texto. Aquí tienes una explicación detallada de algunos términos y símbolos comúnmente utilizados en las expresiones regulares:\n",
    "\n",
    "- **[ ] (Conjunto de Caracteres)**: Los corchetes denotan un conjunto de caracteres, donde uno de los elementos internos debe coincidir. Por ejemplo, `[abc]` coincidiría con cualquiera de los caracteres 'a', 'b' o 'c'. También puedes especificar rangos como `[0-9]` para coincidir con cualquier dígito.\n",
    "\n",
    "- **| (Tubo o Alternancia)**: El símbolo de tubo representa un elemento \"o\". Por ejemplo, `a|b` coincidiría con 'a' o 'b'.\n",
    "\n",
    "- **{ } (Cuantificador de Intervalo)**: Las llaves se utilizan para especificar un intervalo o la cantidad de veces que un patrón debe repetirse. Por ejemplo, `a{2,4}` coincidiría con 'aa', 'aaa' o 'aaaa', donde el número de 'a's cae entre 2 y 4.\n",
    "\n",
    "- **\\ (Barra Inversa)**: La barra inversa es un carácter de escape que identifica al siguiente carácter como un carácter literal y no como un símbolo especial de expresión regular. Por ejemplo, `\\.` coincidiría con un punto (.) en lugar de cualquier carácter.\n",
    "\n",
    "- **. (Punto)**: En el modo predeterminado, el punto coincide con cualquier carácter excepto un salto de línea. Por ejemplo, `a.b` coincidiría con 'axb', 'a#b' o 'a$b', donde 'x', '#', y '$' pueden ser cualquier carácter excepto un salto de línea.\n",
    "\n",
    "- **^ (Acento Circunflejo)**: El símbolo de acento circunflejo coincide con el inicio de la cadena. En el modo MULTILINE, también coincide inmediatamente después de cada salto de línea. Por ejemplo, `^abc` coincidiría con 'abc' al principio de una línea.\n",
    "\n",
    "- **$ (Signo de Dólar)**: El signo de dólar coincide con el final de la cadena o justo antes del salto de línea al final de la cadena. En el modo MULTILINE, también coincide antes de un salto de línea. Por ejemplo, `xyz$` coincidiría con 'xyz' al final de una línea.\n",
    "\n",
    "- **\\* (Asterisco)**: El asterisco hace que el regex resultante coincida con 0 o más repeticiones del patrón anterior, tantas repeticiones como sean posibles. Por ejemplo, `ab*` coincidiría con 'a' o 'ab' seguido de cualquier número de 'b's.\n",
    "\n",
    "- **+ (Signo de Más)**: El signo de más hace que el regex coincida con 1 o más repeticiones del patrón anterior. Por ejemplo, `ab+` coincidiría con 'a' seguido de cualquier número no nulo de 'b's pero no coincidiría solo con 'a'.\n",
    "\n",
    "- **? (Signo de Interrogación)**: El signo de interrogación hace que el regex coincida con 0 o 1 repeticiones del patrón anterior. Por ejemplo, `ab?` coincidiría con 'a' o 'ab'.\n",
    "\n",
    "#### Clases de Caracteres Adicionales:\n",
    "\n",
    "- **\\d (Dígito)**: Coincide con cualquier dígito decimal; esto es equivalente a la clase de caracteres [0-9].\n",
    "\n",
    "- **\\D (No Dígito)**: Coincide con cualquier carácter que no sea un dígito; esto es equivalente a la clase de caracteres [^0-9].\n",
    "\n",
    "- **\\s (Espacio en Blanco)**: Coincide con cualquier carácter de espacio en blanco, incluyendo espacio, tabulador, salto de línea, retorno de carro, avance de formulario y tabulador vertical. Esto es equivalente a la clase de caracteres [ \\t\\n\\r\\f\\v].\n",
    "\n",
    "- **\\S (No Espacio en Blanco)**: Coincide con cualquier carácter que no sea de espacio en blanco. Esto es equivalente a la clase de caracteres [^ \\t\\n\\r\\f\\v].\n",
    "\n",
    "- **\\w (Carácter de Palabra)**: Coincide con cualquier carácter alfanumérico o guion bajo; esto es equivalente a la clase de caracteres [a-zA-Z0-9_].\n",
    "\n",
    "- **\\W (Carácter No Palabra)**: Coincide con cualquier carácter que no sea alfanumérico o guion bajo; esto es equivalente a la clase de caracteres [^a-zA-Z0-9_].\n",
    "\n",
    "Las expresiones regulares pueden ser un poco complejas, pero son increíblemente poderosas para tareas de procesamiento de texto. Para una documentación más comprensiva y completa, consulta la [Documentación de Expresiones Regulares de Python](http://docs.python.org/2/library/re.html#re-syntax).\n",
    "\n",
    "### Ejemplos de Expresiones Regulares\n",
    "\n",
    "Exploraremos algunos patrones básicos de expresiones regulares y sus explicaciones:\n",
    "\n",
    "- **Ejemplo 1 - Coincidir Dígitos ( \\d )**:\n",
    "  - Patrón: `\\d+`\n",
    "  - Explicación: Este patrón coincidirá con uno o más dígitos (0-9) en una cadena. Por ejemplo, coincidirá con '123' en 'abc123xyz'.\n",
    "\n",
    "- **Ejemplo 2 - Coincidir Direcciones de Correo Electrónico**:\n",
    "  - Patrón: `[a-zA-Z0-9._%+-]+@[a-zA-Z0-9.-]+\\.[a-zA-Z]{2,}`\n",
    "  - Explicación: Este patrón coincide con una dirección de correo electrónico básica. Busca una secuencia de caracteres, seguida de '@', luego otra secuencia, un punto y un dominio con al menos dos letras. Por ejemplo, coincide con 'usuario@example.com'.\n",
    "\n",
    "- **Ejemplo 3 - Coincidir Fechas (dd/mm/yyyy)**:\n",
    "  - Patrón: `\\d{2}/\\d{2}/\\d{4}`\n",
    "  - Explicación: Este patrón coincide con una fecha en el formato 'dd/mm/yyyy', donde 'dd' representa el día, 'mm' el mes y 'yyyy' el año. Por ejemplo, coincide con '25/12/2022'.\n",
    "\n",
    "- **Ejemplo 4 - Extraer URLs de Texto**:\n",
    "  - Patrón: `https?://\\S+`\n",
    "  - Explicación:"
   ]
  },
  {
   "cell_type": "code",
   "execution_count": null,
   "metadata": {},
   "outputs": [],
   "source": [
    "import re\n",
    "\n",
    "# Patrones definidos para cada ejercicio\n",
    "pattern1 = r'\\b[A-Za-z0-9._%+-]+@[A-Za-z0-9.-]+\\.[A-Z|a-z]{2,}\\b'\n",
    "pattern2 = r'\\b\\d{2}/\\d{2}/\\d{4}\\b'\n",
    "pattern3 = r'https?://\\S+'\n",
    "pattern4 = r'\\(\\d{3}\\) \\d{3}-\\d{4}'\n",
    "pattern5 = r'\\b\\w+-\\w+\\b'\n",
    "pattern7 = r'\\b\\d{2}/\\d{2}/\\d{4}\\b'\n",
    "pattern8 = r'#\\w+'\n",
    "pattern9 = r'@\\w+'\n",
    "pattern10 = r'\\(\\+?\\d{1,3}\\)? \\d{3}-\\d{4}'\n",
    "\n",
    "# Encontrar e imprimir coincidencias para cada ejercicio\n",
    "print(\"Ejercicio 1 - Coincidir Direcciones de Correo Electrónico:\")\n",
    "print(re.findall(pattern1, text1))\n",
    "print()\n",
    "\n",
    "print(\"Ejercicio 2 - Extraer Fechas:\")\n",
    "print(re.findall(pattern2, text2))\n",
    "print()\n",
    "\n",
    "print(\"Ejercicio 3 - Encontrar URLs:\")\n",
    "print(re.findall(pattern3, text3))\n",
    "print()\n",
    "\n",
    "print(\"Ejercicio 4 - Extraer Números de Teléfono:\")\n",
    "print(re.findall(pattern4, text4))\n",
    "print()\n",
    "\n",
    "print(\"Ejercicio 5 - Coincidir Palabras con Guiones:\")\n",
    "print(re.findall(pattern5, text5))\n",
    "print()\n",
    "\n",
    "print(\"Ejercicio 7 - Coincidir Fechas (mm/dd/yyyy):\")\n",
    "print(re.findall(pattern7, text7))\n",
    "print()\n",
    "\n",
    "print(\"Ejercicio 8 - Extraer Hashtags:\")\n",
    "print(re.findall(pattern8, text8))\n",
    "print()\n",
    "\n",
    "print(\"Ejercicio 9 - Extraer Usuarios Mencionados:\")\n",
    "print(re.findall(pattern9, text9))\n",
    "print()\n",
    "\n",
    "print(\"Ejercicio 10 - Coincidir Números de Teléfono (con código de país opcional):\")\n",
    "print(re.findall(pattern10, text10))"
   ]
  },
  {
   "cell_type": "markdown",
   "metadata": {},
   "source": [
    "### Grupos de Captura en Expresiones Regulares\n",
    "\n",
    "Los grupos de captura son una característica poderosa en las expresiones regulares que te permiten extraer partes específicas de un texto coincidente. En Python, puedes trabajar con grupos de captura usando los objetos `SRE_Match` y métodos como `.groups()` y `.group()`.\n",
    "\n",
    "#### ¿Qué Son los Grupos de Captura?\n",
    "\n",
    "Un grupo de captura es una parte de un patrón de regex encerrado entre paréntesis `( )`. Sirve para dos propósitos principales:\n",
    "\n",
    "1. **Agrupación:** Puedes usar paréntesis para agrupar partes de un patrón. Esto es útil para aplicar cuantificadores como `*`, `+`, o `?` a múltiples caracteres o subpatrones. Por ejemplo, `(ab)+` coincidirá con una o más ocurrencias de 'ab' como grupo.\n",
    "\n",
    "2. **Extracción:** Los grupos de captura te permiten extraer porciones específicas del texto coincidente. Cada conjunto de paréntesis crea un grupo de captura separado, y puedes acceder al contenido coincidente de estos grupos individualmente.\n",
    "\n",
    "#### Usando Grupos de Captura en Python\n",
    "\n",
    "En Python, cuando usas expresiones regulares, el objeto de coincidencia resultante (`SRE_Match`) proporciona métodos para trabajar con grupos de captura:\n",
    "\n",
    "- **`.groups()`**: Este método devuelve una tupla que contiene todos los grupos capturados. El elemento 0 de esta tupla es la coincidencia completa de todo el regex.\n",
    "\n",
    "- **`.group(n)`**: Para acceder a un grupo de captura específico, pasas su índice `n` al método `.group()`. El índice se basa en el orden de los paréntesis de apertura en el patrón de regex, comenzando desde 1. El índice 0 se refiere a la coincidencia completa.\n",
    "\n",
    "#### Ejemplo:\n",
    "\n",
    "Ilustremos el concepto con un ejemplo:"
   ]
  },
  {
   "cell_type": "code",
   "execution_count": null,
   "metadata": {},
   "outputs": [],
   "source": [
    "import re\n",
    "\n",
    "# Supongamos que queremos extraer fechas en el formato \"dd/mm/aaaa\" de un texto.\n",
    "text = \"Reunión programada para el 25/12/2022 y el 31/12/2022.\"\n",
    "\n",
    "# Define el patrón de regex con grupos de captura para el día, mes y año.\n",
    "pattern = r'(\\d{2})/(\\d{2})/(\\d{4})'\n",
    "\n",
    "# Buscar coincidencias usando el patrón.\n",
    "matches = re.finditer(pattern, text)\n",
    "\n",
    "# Iterar a través de las coincidencias y acceder a los grupos de captura.\n",
    "for match in matches:\n",
    "    # La coincidencia completa (grupo 0) es accesible como match.group(0).\n",
    "    print(f\"Coincidencia Completa: {match.group(0)}\")\n",
    "    \n",
    "    # Acceder a grupos de captura individuales usando match.group(n).\n",
    "    día = match.group(1)\n",
    "    mes = match.group(2)\n",
    "    año = match.group(3)\n",
    "    \n",
    "    print(f\"Día: {día}, Mes: {mes}, Año: {año}\")"
   ]
  },
  {
   "cell_type": "markdown",
   "metadata": {},
   "source": [
    "In this example, we use capturing groups to extract day, month, and year components of the date. Students can see how to access these components using the `.group(n)` method and understand the utility of capturing groups in extracting specific information from text matched by a regex.\n",
    "\n",
    "### Summary of Useful Functions for Regular Expressions\n",
    "\n",
    "When working with regular expressions in Python, you can utilize several built-in functions provided by the `re` module. Here's an overview of these functions and what they do:\n",
    "\n",
    "- **`re.match(pattern, string)`**: This function checks if the regex pattern matches at the beginning of the input string. It returns a match object if a match is found at the start of the string or `None` otherwise.\n",
    "\n",
    "- **`re.search(pattern, string)`**: This function scans through a string, looking for any location where the regex pattern matches. It returns a match object for the first occurrence found or `None` if no match is found.\n",
    "\n",
    "- **`re.findall(pattern, string)`**: This function finds all non-overlapping substrings where the regex pattern matches in the input string and returns them as a list.\n",
    "\n",
    "- **`re.finditer(pattern, string)`**: This function finds all non-overlapping substrings where the regex pattern matches in the input string and returns them as an iterator.\n",
    "\n",
    "These functions are essential for various text processing tasks, enabling you to search for and manipulate patterns within strings efficiently.\n"
   ]
  },
  {
   "cell_type": "markdown",
   "metadata": {
    "slideshow": {
     "slide_type": "slide"
    }
   },
   "source": [
    "### Use case examples using regular expressions"
   ]
  },
  {
   "cell_type": "code",
   "execution_count": null,
   "metadata": {},
   "outputs": [],
   "source": [
    "def check_sentences(pattern, sentences):\n",
    "    \"\"\"\n",
    "    Check sentences against the provided regular expression pattern.\n",
    "\n",
    "    Args:\n",
    "        pattern (str): The regular expression pattern to match against.\n",
    "        sentences (list of tuple): A list of tuples where each tuple contains a sentence and an expected result (True or False).\n",
    "\n",
    "    Returns:\n",
    "        None\n",
    "\n",
    "    Prints:\n",
    "        Feedback for each sentence based on whether it matches the pattern or not.\n",
    "    \"\"\"\n",
    "\n",
    "    for sentence, expected_result in sentences:\n",
    "        # Check if the pattern matches the entire string and compare it to the expected result.\n",
    "        is_match = bool(re.match(pattern, sentence))\n",
    "\n",
    "        # Determine if the result matches the expected outcome.\n",
    "        is_valid = is_match == expected_result\n",
    "\n",
    "        # Print feedback based on the match and validity.\n",
    "        if is_valid:\n",
    "            result_message = 'Pass'\n",
    "        else:\n",
    "            result_message = 'Not Pass'\n",
    "\n",
    "        validity_message = '(Valid)' if expected_result else '(Not Valid)'\n",
    "        print(f'{result_message} --> {sentence} {validity_message}')"
   ]
  },
  {
   "cell_type": "markdown",
   "metadata": {},
   "source": [
    "**Explicación de la Función `check_sentences`**\n",
    "\n",
    "La función `check_sentences` está diseñada para evaluar una lista de oraciones en comparación con un patrón de expresión regular proporcionado y ofrecer retroalimentación sobre si cada oración coincide con el patrón como se espera.\n",
    "\n",
    "**Parámetros de la Función**\n",
    "\n",
    "- `pattern`: Este parámetro representa el patrón de expresión regular con el que se comparará cada oración.\n",
    "\n",
    "- `sentences`: Este parámetro es una lista de tuplas donde cada tupla contiene una oración y un resultado esperado (Verdadero o Falso). El resultado esperado indica si se espera que la oración coincida con el patrón o no.\n",
    "\n",
    "**Propósito de la Función**\n",
    "\n",
    "El propósito principal de esta función es verificar cada oración en la lista `sentences` contra el patrón de expresión regular proporcionado y ofrecer retroalimentación basada en si la coincidencia es como se espera. Asiste en validar si las oraciones se ajustan a un patrón particular.\n",
    "\n",
    "**Ejecución de la Función**\n",
    "\n",
    "1. La función itera a través de cada tupla en la lista `sentences`, extrayendo la oración y su resultado esperado asociado.\n",
    "\n",
    "2. Para cada oración, utiliza la función `re.match()` para determinar si el patrón de expresión regular proporcionado coincide con toda la oración. El resultado de esta coincidencia se almacena en una variable.\n",
    "\n",
    "3. La función luego evalúa si la coincidencia es válida comparándola con el resultado esperado. Si la coincidencia y el resultado esperado coinciden, la oración se considera válida; de lo contrario, no es válida.\n",
    "\n",
    "4. Basado en la validez de la coincidencia, la función asigna un mensaje de resultado como \"Aprobado\" o \"No Aprobado\" para retroalimentación.\n",
    "\n",
    "5. La función también determina si la oración es \"Válida\" o \"No Válida\" basada en el resultado esperado y prepara un mensaje de validez.\n",
    "\n",
    "6. Finalmente, la función imprime retroalimentación para cada oración, indicando si pasó o no, junto con la oración misma y si se considera válida o no válida.\n",
    "\n",
    "**Salida de la Función**\n",
    "\n",
    "La función imprime mensajes de retroalimentación para cada oración, proporcionando información sobre si cada oración se ajusta al patrón de expresión regular especificado. Esta retroalimentación asiste en la validación y verificación de datos de texto contra un patrón definido.\n",
    "\n",
    "La función `check_sentences` es una herramienta valiosa para tareas de control de calidad y validación que involucran datos de texto, permitiendo la evaluación de la integridad de los datos contra patrones o reglas predefinidas.\n",
    "\n",
    "#### 1. Identificar archivos mediante extensiones de archivo\n",
    "<p>Una expresión regular para comprobar las extensiones de archivo.</p>"
   ]
  },
  {
   "cell_type": "code",
   "execution_count": null,
   "metadata": {},
   "outputs": [],
   "source": [
    "import re\n",
    "\n",
    "# Define un patrón regex para coincidir con nombres de archivos con extensiones específicas (gif, jpeg, jpg, TIF).\n",
    "pattern = r'[\\w]+\\.(gif|jpeg|jpg|TIF)$'\n",
    "\n",
    "# Define una lista de oraciones para ser comprobadas contra el patrón, junto con sus resultados esperados.\n",
    "sentences = [('test.gif', True), \n",
    "            ('image.jpeg', True),\n",
    "            ('image.jpg', True),\n",
    "            ('image.TIF', True),\n",
    "            ('test', False),\n",
    "            ('test.pdf', False),\n",
    "            ('test.gif.gif', False)]\n",
    "\n",
    "# Llama a la función check_sentences con el patrón y las oraciones para realizar las comprobaciones.\n",
    "check_sentences(pattern, sentences)"
   ]
  },
  {
   "cell_type": "markdown",
   "metadata": {
    "slideshow": {
     "slide_type": "slide"
    }
   },
   "source": [
    "### Comprobación de números\n",
    "#### 2. Enteros positivos"
   ]
  },
  {
   "cell_type": "code",
   "execution_count": null,
   "metadata": {},
   "outputs": [],
   "source": [
    "# Define a regex pattern to match strings consisting of one or more digits.\n",
    "pattern = r'\\d*$'\n",
    "\n",
    "# Define a list of sentences to be checked against the pattern, along with their expected results.\n",
    "sentences = [('123', True), \n",
    "            ('1', True),\n",
    "            ('abc', False),\n",
    "            ('1.1', False)]\n",
    "\n",
    "# Call the check_sentences function with the pattern and sentences to perform the checks.\n",
    "check_sentences(pattern, sentences)"
   ]
  },
  {
   "cell_type": "markdown",
   "metadata": {
    "slideshow": {
     "slide_type": "slide"
    }
   },
   "source": [
    "##### 3. Enteros negativos"
   ]
  },
  {
   "cell_type": "code",
   "execution_count": null,
   "metadata": {},
   "outputs": [],
   "source": [
    "# Define un patrón regex para coincidir con cadenas que consisten en uno o más dígitos.\n",
    "pattern = r'\\d+$'\n",
    "\n",
    "# Define una lista de oraciones para ser comprobadas contra el patrón, junto con sus resultados esperados.\n",
    "sentences = [('123', True), \n",
    "            ('1', True),\n",
    "            ('abc', False),\n",
    "            ('1.1', False)]\n",
    "\n",
    "# Llama a la función check_sentences con el patrón y las oraciones para realizar las comprobaciones.\n",
    "check_sentences(pattern, sentences)"
   ]
  },
  {
   "cell_type": "markdown",
   "metadata": {
    "slideshow": {
     "slide_type": "slide"
    }
   },
   "source": [
    "##### 4. Todos los enteros"
   ]
  },
  {
   "cell_type": "code",
   "execution_count": null,
   "metadata": {},
   "outputs": [],
   "source": [
    "# Define un patrón de expresión regular para coincidir con cadenas que pueden comenzar con un guion opcional seguido de uno o más dígitos al final.\n",
    "pattern = r'-?\\d+$'\n",
    "\n",
    "# Crea una lista de oraciones, cada una con un resultado esperado asociado (Verdadero o Falso).\n",
    "sentences = [('-123', True),\n",
    "            ('-1', True),\n",
    "            ('123', True),\n",
    "            ('123.0', False),\n",
    "            ('-abc', False),\n",
    "            ('-1.1', False)]\n",
    "\n",
    "# Llama a la función check_sentences con el patrón y las oraciones para realizar las comprobaciones.\n",
    "check_sentences(pattern, sentences)"
   ]
  },
  {
   "cell_type": "markdown",
   "metadata": {
    "slideshow": {
     "slide_type": "slide"
    }
   },
   "source": [
    "##### 5. Enteros positivos"
   ]
  },
  {
   "cell_type": "code",
   "execution_count": null,
   "metadata": {},
   "outputs": [],
   "source": [
    "# Define un patrón de expresión regular para coincidir con cadenas que representen números decimales.\n",
    "pattern = r'\\d*\\.?\\d+$'\n",
    "\n",
    "# Crea una lista de oraciones, cada una con un resultado esperado asociado (Verdadero o Falso).\n",
    "sentences = [('1', True),\n",
    "            ('123', True),\n",
    "            ('1.234', True),\n",
    "            ('0.2', True),\n",
    "            ('.2', True),\n",
    "            ('-123.0', False),\n",
    "            ('-abc', False),\n",
    "            ('-123.1', False)]\n",
    "\n",
    "# Imprime el patrón que se usa para la coincidencia.\n",
    "print(\"PATRÓN:\", pattern)\n",
    "\n",
    "# Llama a la función check_sentences con el patrón y las oraciones para realizar las comprobaciones.\n",
    "check_sentences(pattern, sentences)"
   ]
  },
  {
   "cell_type": "markdown",
   "metadata": {
    "slideshow": {
     "slide_type": "slide"
    }
   },
   "source": [
    "##### 6. Numeros negativos"
   ]
  },
  {
   "cell_type": "code",
   "execution_count": null,
   "metadata": {},
   "outputs": [],
   "source": [
    "# Define un patrón de expresión regular para coincidir con cadenas que representen números decimales negativos.\n",
    "pattern = r'-\\d*\\.?\\d+$'\n",
    "\n",
    "# Crea una lista de oraciones, cada una con un resultado esperado asociado (Verdadero o Falso).\n",
    "sentences = [('-1', True),\n",
    "            ('-123', True),\n",
    "            ('-1.234', True),\n",
    "            ('123', False),\n",
    "            ('-abc', False),\n",
    "            ('123.1', False)]\n",
    "\n",
    "# Llama a la función check_sentences con el patrón y las oraciones para realizar las comprobaciones.\n",
    "check_sentences(pattern, sentences)"
   ]
  },
  {
   "cell_type": "markdown",
   "metadata": {
    "slideshow": {
     "slide_type": "slide"
    }
   },
   "source": [
    "##### 7. Todos los numeros"
   ]
  },
  {
   "cell_type": "code",
   "execution_count": null,
   "metadata": {},
   "outputs": [],
   "source": [
    "# Definir un patrón de expresión regular para coincidir con cadenas que representen números decimales, incluido el signo negativo opcional.\n",
    "patron = r'-?\\d*\\.?\\d+$'\n",
    "\n",
    "# Crear una lista de frases, cada una con un resultado esperado asociado (Verdadero o Falso).\n",
    "frases = [('1', True),\n",
    "          ('123', True),\n",
    "          ('1.234', True),\n",
    "          ('-234', True),\n",
    "          ('-1.234', True),\n",
    "          ('a', False),\n",
    "          ('-abc', False),\n",
    "          ('a1', False)]\n",
    "\n",
    "# Llamar a la función check_sentences con el patrón y las frases para realizar las comprobaciones.\n",
    "check_sentences(patron, frases)"
   ]
  },
  {
   "cell_type": "markdown",
   "metadata": {
    "slideshow": {
     "slide_type": "slide"
    }
   },
   "source": [
    "#### 8. Validación de nombre de usuario\n",
    "<p>Comprobación de un nombre de usuario válido que tenga una cierta longitud mínima y máxima.</p>\n",
    "<p>Caracteres permitidos:</p>\n",
    "<ul>\n",
    "<li>letras (mayúsculas y minúsculas)</li>\n",
    "<li>números</li>\n",
    "<li>guiones</li>\n",
    "<li>guiones bajos</li>"
   ]
  },
  {
   "cell_type": "code",
   "execution_count": null,
   "metadata": {},
   "outputs": [],
   "source": [
    "min_len = 5 # longitud mínima para un nombre de usuario válido\n",
    "max_len = 15 # longitud máxima para un nombre de usuario válido\n",
    "\n",
    "patron = r'[\\w_-]{5,15}$'\n",
    "\n",
    "frases = [('user123', True), ('123_user', True), ('Username', True),\n",
    "          ('user', False), ('username1234_is-way-too-long', False), ('user$34354', False)]\n",
    "\n",
    "check_sentences(patron, frases)"
   ]
  },
  {
   "cell_type": "markdown",
   "metadata": {
    "slideshow": {
     "slide_type": "slide"
    }
   },
   "source": [
    "#### 9. Comprobación de direcciones de correo electrónico válidas\n",
    "Una expresión regular que captura la mayoría de las direcciones de correo electrónico."
   ]
  },
  {
   "cell_type": "code",
   "execution_count": null,
   "metadata": {},
   "outputs": [],
   "source": [
    "pattern = r'(^(?i)(\\w+\\.|\\w+-)*\\w+@(\\w+\\.|\\w+-)*\\w+\\.[a-z]{2,3}$)'\n",
    "\n",
    "sentences = [('l-l.l@mail.Aom.PP',True), ('ds@mail.com', True),\n",
    "            ('testmail.com',False),('test@mail.com.',False),('@testmail.com',False),('test@mailcom',False)]\n",
    "\n",
    "check_sentences(pattern,sentences)"
   ]
  },
  {
   "cell_type": "markdown",
   "metadata": {
    "slideshow": {
     "slide_type": "slide"
    }
   },
   "source": [
    "### Desafíos de casos de uso utilizando expresiones regulares\n",
    "#### 1. Validación de fechas y horas\n",
    "Valida fechas en formato mm/dd/aaaa. Nota: Algunas fechas no se verifican, como 2080, para ser inválidas."
   ]
  },
  {
   "cell_type": "code",
   "execution_count": null,
   "metadata": {},
   "outputs": [],
   "source": [
    "pattern = r''\n",
    "\n",
    "sentences = [('01/08/2014',True), ('12/30/2014', True),\n",
    "            ('22/08/2014',False),('-123',False),('1/8/2014',False),('1/08/2014',False),('01/8/2014',False)]\n",
    "\n",
    "check_sentences(pattern,sentences)"
   ]
  },
  {
   "cell_type": "markdown",
   "metadata": {
    "slideshow": {
     "slide_type": "slide"
    }
   },
   "source": [
    "#### 2. 12-Hour format"
   ]
  },
  {
   "cell_type": "code",
   "execution_count": null,
   "metadata": {},
   "outputs": [],
   "source": [
    "pattern = r''\n",
    "\n",
    "\n",
    "\n",
    "sentences = [('2:00pm',True), ('7:30 AM', True), ('12:05 am', True),\n",
    "            ('22:00pm',False),('14:00',False),('3:12',False),('03:12pm',False)]\n",
    "\n",
    "check_sentences(pattern,sentences)"
   ]
  },
  {
   "cell_type": "markdown",
   "metadata": {
    "slideshow": {
     "slide_type": "slide"
    }
   },
   "source": [
    "#### 3. 24-Hour format"
   ]
  },
  {
   "cell_type": "code",
   "execution_count": null,
   "metadata": {},
   "outputs": [],
   "source": [
    "pattern = r''\n",
    "\n",
    "\n",
    "sentences = [('14:00',True), ('00:30', True), \n",
    "            ('22:00pm',False),('4:00',False),('03:12pm',False)]\n",
    "\n",
    "check_sentences(pattern,sentences)"
   ]
  },
  {
   "cell_type": "markdown",
   "metadata": {
    "slideshow": {
     "slide_type": "slide"
    }
   },
   "source": [
    "#### 4. Checking HTML/XML, etc. tags (approach simple)"
   ]
  },
  {
   "cell_type": "code",
   "execution_count": null,
   "metadata": {},
   "outputs": [],
   "source": [
    "pattern = r''\n",
    "\n",
    "sentences = [('<a>',True), ('<a href=\"somethinG\">', True),  ('</a>', True),  ('<img src>', True), \n",
    "            ('a>',False),('<a',False),('< a >',False)]\n",
    "\n",
    "check_sentences(pattern,sentences)"
   ]
  },
  {
   "cell_type": "markdown",
   "metadata": {
    "slideshow": {
     "slide_type": "slide"
    }
   },
   "source": [
    "#### 5. ID/Passport/NIF"
   ]
  },
  {
   "cell_type": "code",
   "execution_count": null,
   "metadata": {},
   "outputs": [],
   "source": [
    "pattern = r''\n",
    "\n",
    "\n",
    "sentences = [('12345678D',True), ('X1234567F', True), \n",
    "             ('123456F',False),('X12367F',False),('123Ff456F',False)]\n",
    "\n",
    "\n",
    "check_sentences(pattern,sentences)"
   ]
  },
  {
   "cell_type": "markdown",
   "metadata": {},
   "source": [
    "#### 6. Nombres de sitios web\n",
    "Define el patrón para detectar si una cadena corresponde al nombre de un sitio web. El patrón sigue estas reglas:\n",
    "* Puede comenzar con tres \"w\" o directamente con el nombre del dominio.\n",
    "* Le sigue el nombre del dominio, que puede contener letras y números.\n",
    "* Puede tener un máximo de 2 subdominios (compuestos por letras y números).\n",
    "* Termina con un punto seguido de 2 o 3 letras.\n",
    "\n",
    "Deberías detectar los siguientes casos:\n",
    "* Positivos:\n",
    "    * www.ds.com\n",
    "    * www.data.science.com\n",
    "    * datascience.com\n",
    "    * wab.a.com\n",
    "* Negativos:\n",
    "    * ww.4com\n",
    "    * www.ww.a\n",
    "    * www.d.s.c.d.com"
   ]
  },
  {
   "cell_type": "code",
   "execution_count": null,
   "metadata": {},
   "outputs": [],
   "source": [
    "pattern = ''\n",
    "\n",
    "\n",
    "sentences = [('www.ds.com',True), ('www.data.science.com', True),  ('datascience.com', True),  ('data.sc.com', True), \n",
    "            ('ww.4com',False),('www.ww.a',False),('www.d.s.c.d.com',False)]\n",
    "\n",
    "\n",
    "check_sentences(pattern,sentences)"
   ]
  },
  {
   "cell_type": "markdown",
   "metadata": {},
   "source": [
    "## Soluciones"
   ]
  },
  {
   "cell_type": "code",
   "execution_count": null,
   "metadata": {},
   "outputs": [],
   "source": [
    "# Define regex patterns for each exercise\n",
    "pattern1 = r'\\w+@\\w+\\.\\w+'\n",
    "pattern2 = r'\\d{2}/\\d{2}/\\d{4}'\n",
    "pattern3 = r'https?://\\S+'\n",
    "pattern4 = r'\\(\\d{3}\\) \\d{3}-\\d{4}'\n",
    "pattern5 = r'\\w+-\\w+'\n",
    "pattern7 = r'\\d{2}/\\d{2}/\\d{4}'\n",
    "pattern8 = r'#\\w+'\n",
    "pattern9 = r'@\\w+'\n",
    "pattern10 = r'\\(?\\+\\d{1,2}\\)? \\d{3}-\\d{4}'"
   ]
  }
 ],
 "metadata": {
  "celltoolbar": "Slideshow",
  "kernelspec": {
   "display_name": "Python 3 (ipykernel)",
   "language": "python",
   "name": "python3"
  },
  "language_info": {
   "codemirror_mode": {
    "name": "ipython",
    "version": 3
   },
   "file_extension": ".py",
   "mimetype": "text/x-python",
   "name": "python",
   "nbconvert_exporter": "python",
   "pygments_lexer": "ipython3",
   "version": "3.9.13"
  }
 },
 "nbformat": 4,
 "nbformat_minor": 1
}
