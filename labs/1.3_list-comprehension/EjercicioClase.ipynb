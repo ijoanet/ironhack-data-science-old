{
 "cells": [
  {
   "cell_type": "markdown",
   "id": "130fb252-0efa-4928-bbf4-33c4d2bfae2b",
   "metadata": {},
   "source": [
    "### Business challenge: Gestión de datos de una compañía de taxis\n",
    "\n",
    "**Escenario empresarial:**\n",
    "Se te ha encargado desarrollar un programa en Python para una compañía de taxis en Barcelona. El programa debería ayudar a la compañía a gestionar datos relacionados con sus taxis, conductores y viajes. La compañía de taxis necesita almacenar y manipular estos datos de manera eficiente para optimizar sus operaciones.\n",
    "\n",
    "**Instrucciones:**\n",
    "\n",
    "1. Crear un diccionario para almacenar información sobre los conductores de taxi. Cada conductor debe tener un ID de conductor único (un valor numérico) y los siguientes detalles:\n",
    "   - Nombre completo del conductor\n",
    "   - Número de contacto\n",
    "   - Número total de viajes realizados\n",
    "\n",
    "2. Crear una lista para almacenar información sobre los viajes en taxi. Cada viaje debe incluir los siguientes detalles:\n",
    "   - ID del viaje (un identificador único)\n",
    "   - ID del conductor (para asociar el viaje con un conductor)\n",
    "   - Nombre del cliente\n",
    "   - Distancia del viaje (en kilómetros)\n",
    "   - Tarifa del viaje (en euros)\n",
    "\n",
    "3. Implementar las siguientes funcionalidades dentro de tu programa en Python:\n",
    "   - Proporcionar el pseudocódigo\n",
    "   - Añadir nuevos conductores al diccionario de conductores.\n",
    "   - Registrar nuevos viajes en taxi con los detalles relevantes.\n",
    "   - Calcular y actualizar el número total de viajes realizados por cada conductor.\n",
    "   - Calcular los ingresos totales generados por la compañía de taxis.\n",
    "   - Encontrar al conductor con el mayor número de viajes.\n",
    "   - Encontrar al conductor con los ingresos totales más altos.\n",
    "   - Listar todos los viajes realizados por un conductor específico."
   ]
  },
  {
   "cell_type": "code",
   "execution_count": 8,
   "id": "5ad4f13f-be17-48ed-a157-4cc62790de1f",
   "metadata": {},
   "outputs": [
    {
     "name": "stdout",
     "output_type": "stream",
     "text": [
      "{1: {'full_name': 'John Doe', 'contact_number': '123-456-7890', 'total_trips': 0}}\n"
     ]
    }
   ],
   "source": [
    "# Inicializar diccionarios y listas para almacenar datos de conductores y viajes\n",
    "driver_data = {}\n",
    "trip_data = []\n",
    "\n",
    "# Añadir nuevos conductores al diccionario de conductores\n",
    "driver_data[1] = {\"full_name\": \"John Doe\", \"contact_number\": \"123-456-7890\", \"total_trips\": 0}\n",
    "print(driver_data)\n",
    "# Continuar con más\n",
    "\n",
    "# Registrar nuevos viajes en taxi con los detalles relevantes\n",
    "trip_data.append({\"trip_id\": 101, \"driver_id\": 1, \"customer_name\": \"Cliente A\", \"distance\": 10.5, \"fare\": 15.75})\n",
    "# Continuar con más\n",
    "\n",
    "# Aquí va tu código"
   ]
  },
  {
   "cell_type": "code",
   "execution_count": 27,
   "id": "e96b713c-7570-47d0-bf63-27dac8d9044d",
   "metadata": {},
   "outputs": [
    {
     "name": "stdout",
     "output_type": "stream",
     "text": [
      "{1: {'full_name': 'John Doe', 'contact_number': '123-456-7890', 'total_trips': 0}, 2: {'full_name': 'Juan Liu', 'contact_number': '123-456-9999', 'total_trips': 0}, 3: {'full_name': 'Laura Lpz', 'contact_number': '123-999-9999', 'total_trips': 0}}\n",
      "[{'trip_id': 101, 'driver_id': 1, 'customer_name': 'Cliente A', 'distance': 10.5, 'fare': 15.75}, {'trip_id': 102, 'driver_id': 1, 'customer_name': 'Cliente A', 'distance': 22.5, 'fare': 25.75}, {'trip_id': 103, 'driver_id': 1, 'customer_name': 'Cliente A', 'distance': 10.5, 'fare': 55.75}, {'trip_id': 104, 'driver_id': 1, 'customer_name': 'Cliente A', 'distance': 10.5, 'fare': 5.75}, {'trip_id': 105, 'driver_id': 2, 'customer_name': 'Cliente A', 'distance': 15.2, 'fare': 15.5}, {'trip_id': 106, 'driver_id': 2, 'customer_name': 'Cliente A', 'distance': 10.5, 'fare': 17.0}, {'trip_id': 107, 'driver_id': 3, 'customer_name': 'Cliente A', 'distance': 10.5, 'fare': 20.15}, {'trip_id': 108, 'driver_id': 3, 'customer_name': 'Cliente A', 'distance': 25.6, 'fare': 19.6}, {'trip_id': 109, 'driver_id': 3, 'customer_name': 'Cliente A', 'distance': 10.5, 'fare': 4.75}]\n"
     ]
    }
   ],
   "source": [
    "driver_data = {}\n",
    "trip_data = []\n",
    "\n",
    "#Añadir conductores\n",
    "driver_data[1] = {\"full_name\": \"John Doe\", \"contact_number\": \"123-456-7890\", \"total_trips\": 0}\n",
    "driver_data[2] = {\"full_name\": \"Juan Liu\", \"contact_number\": \"123-456-9999\", \"total_trips\": 0}\n",
    "driver_data[3] = {\"full_name\": \"Laura Lpz\", \"contact_number\": \"123-999-9999\", \"total_trips\": 0}\n",
    "print(driver_data)\n",
    "\n",
    "# Registrar nuevos viajes en taxi con los detalles relevantes\n",
    "trip_data.append({\"trip_id\": 101, \"driver_id\": 1, \"customer_name\": \"Cliente A\", \"distance\": 10.5, \"fare\": 15.75})\n",
    "trip_data.append({\"trip_id\": 102, \"driver_id\": 1, \"customer_name\": \"Cliente A\", \"distance\": 22.5, \"fare\": 25.75})\n",
    "trip_data.append({\"trip_id\": 103, \"driver_id\": 1, \"customer_name\": \"Cliente A\", \"distance\": 10.5, \"fare\": 55.75})\n",
    "trip_data.append({\"trip_id\": 104, \"driver_id\": 1, \"customer_name\": \"Cliente A\", \"distance\": 10.5, \"fare\": 5.75})\n",
    "trip_data.append({\"trip_id\": 105, \"driver_id\": 2, \"customer_name\": \"Cliente A\", \"distance\": 15.2, \"fare\": 15.50})\n",
    "trip_data.append({\"trip_id\": 106, \"driver_id\": 2, \"customer_name\": \"Cliente A\", \"distance\": 10.5, \"fare\": 17.00})\n",
    "trip_data.append({\"trip_id\": 107, \"driver_id\": 3, \"customer_name\": \"Cliente A\", \"distance\": 10.5, \"fare\": 20.15})\n",
    "trip_data.append({\"trip_id\": 108, \"driver_id\": 3, \"customer_name\": \"Cliente A\", \"distance\": 25.6, \"fare\": 19.60})\n",
    "trip_data.append({\"trip_id\": 109, \"driver_id\": 3, \"customer_name\": \"Cliente A\", \"distance\": 10.5, \"fare\": 4.75})\n",
    "print(trip_data)\n",
    "# Continuar con más\n",
    "\n",
    "# Aquí va tu código\n",
    "\n",
    "    \n",
    "    "
   ]
  },
  {
   "cell_type": "code",
   "execution_count": 21,
   "id": "2ca367ab-7b2f-438c-ad8f-b3db12d6e3ab",
   "metadata": {},
   "outputs": [
    {
     "ename": "KeyError",
     "evalue": "'total_trips'",
     "output_type": "error",
     "traceback": [
      "\u001b[0;31m---------------------------------------------------------------------------\u001b[0m",
      "\u001b[0;31mKeyError\u001b[0m                                  Traceback (most recent call last)",
      "Cell \u001b[0;32mIn[21], line 5\u001b[0m\n\u001b[1;32m      3\u001b[0m     driver_data[trip[\u001b[38;5;124m\"\u001b[39m\u001b[38;5;124mdriver_id\u001b[39m\u001b[38;5;124m\"\u001b[39m]][\u001b[38;5;124m\"\u001b[39m\u001b[38;5;124mtotal_trips\u001b[39m\u001b[38;5;124m\"\u001b[39m]\u001b[38;5;241m+\u001b[39m\u001b[38;5;241m=\u001b[39m\u001b[38;5;241m1\u001b[39m\n\u001b[1;32m      4\u001b[0m     total_ingresos\u001b[38;5;241m+\u001b[39m\u001b[38;5;241m=\u001b[39mtrip[\u001b[38;5;124m\"\u001b[39m\u001b[38;5;124mfare\u001b[39m\u001b[38;5;124m\"\u001b[39m]\n\u001b[0;32m----> 5\u001b[0m     \u001b[38;5;28mprint\u001b[39m(\u001b[38;5;28mmax\u001b[39m(\u001b[43mdriver_data\u001b[49m\u001b[43m[\u001b[49m\u001b[38;5;124;43m\"\u001b[39;49m\u001b[38;5;124;43mtotal_trips\u001b[39;49m\u001b[38;5;124;43m\"\u001b[39;49m\u001b[43m]\u001b[49m))\n\u001b[1;32m      6\u001b[0m \u001b[38;5;28mprint\u001b[39m(driver_data)\n\u001b[1;32m      7\u001b[0m \u001b[38;5;28mprint\u001b[39m(total_ingresos)\n",
      "\u001b[0;31mKeyError\u001b[0m: 'total_trips'"
     ]
    }
   ],
   "source": [
    "total_ingresos=0\n",
    "for trip in trip_data:\n",
    "    driver_data[trip[\"driver_id\"]][\"total_trips\"]+=1\n",
    "    total_ingresos+=trip[\"fare\"]\n",
    "    max(driver_data[\"total_trips\"])\n",
    "print(driver_data)\n",
    "print(total_ingresos)"
   ]
  },
  {
   "cell_type": "code",
   "execution_count": 28,
   "id": "0943db29-00cd-40ad-b53d-556e69cb4f09",
   "metadata": {},
   "outputs": [
    {
     "ename": "KeyError",
     "evalue": "'total_trips'",
     "output_type": "error",
     "traceback": [
      "\u001b[0;31m---------------------------------------------------------------------------\u001b[0m",
      "\u001b[0;31mKeyError\u001b[0m                                  Traceback (most recent call last)",
      "Cell \u001b[0;32mIn[28], line 2\u001b[0m\n\u001b[1;32m      1\u001b[0m \u001b[38;5;28;01mfor\u001b[39;00m key \u001b[38;5;129;01min\u001b[39;00m driver_data:\n\u001b[0;32m----> 2\u001b[0m     \u001b[38;5;28mprint\u001b[39m(\u001b[43mdriver_data\u001b[49m\u001b[43m[\u001b[49m\u001b[38;5;124;43m\"\u001b[39;49m\u001b[38;5;124;43mtotal_trips\u001b[39;49m\u001b[38;5;124;43m\"\u001b[39;49m\u001b[43m]\u001b[49m)\n",
      "\u001b[0;31mKeyError\u001b[0m: 'total_trips'"
     ]
    }
   ],
   "source": [
    "for key in driver_data:\n",
    "    print(driver_data[\"total_trips\"])"
   ]
  },
  {
   "cell_type": "code",
   "execution_count": null,
   "id": "f0c5b2fa-87e3-4298-badb-6dd5e5768138",
   "metadata": {},
   "outputs": [],
   "source": []
  }
 ],
 "metadata": {
  "kernelspec": {
   "display_name": "Python 3 (ipykernel)",
   "language": "python",
   "name": "python3"
  },
  "language_info": {
   "codemirror_mode": {
    "name": "ipython",
    "version": 3
   },
   "file_extension": ".py",
   "mimetype": "text/x-python",
   "name": "python",
   "nbconvert_exporter": "python",
   "pygments_lexer": "ipython3",
   "version": "3.10.12"
  }
 },
 "nbformat": 4,
 "nbformat_minor": 5
}
